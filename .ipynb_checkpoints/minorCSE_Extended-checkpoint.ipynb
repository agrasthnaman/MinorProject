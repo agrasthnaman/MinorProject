{
 "cells": [
  {
   "cell_type": "markdown",
   "id": "28774910",
   "metadata": {
    "id": "28774910"
   },
   "source": [
    "# Importing required modules/frameworks"
   ]
  },
  {
   "cell_type": "code",
   "execution_count": 1,
   "id": "23b2e2b9",
   "metadata": {
    "id": "23b2e2b9"
   },
   "outputs": [],
   "source": [
    "#importing libraries\n",
    "import pandas\n",
    "from matplotlib import pyplot as plt\n",
    "import numpy as np\n",
    "%matplotlib inline"
   ]
  },
  {
   "cell_type": "markdown",
   "id": "25083733",
   "metadata": {
    "id": "25083733"
   },
   "source": [
    "# Reading the dataset"
   ]
  },
  {
   "cell_type": "code",
   "execution_count": 2,
   "id": "28133c5a",
   "metadata": {
    "colab": {
     "base_uri": "https://localhost:8080/",
     "height": 695
    },
    "id": "28133c5a",
    "outputId": "eab1ac9e-5337-4646-a622-d4fa82ad8b26"
   },
   "outputs": [
    {
     "name": "stdout",
     "output_type": "stream",
     "text": [
      "hello\n"
     ]
    }
   ],
   "source": [
    "#reading the excel sheet\n",
    "df = pandas.read_csv('student.csv')\n",
    "df\n",
    "print(\"hello\")"
   ]
  },
  {
   "cell_type": "code",
   "execution_count": 3,
   "id": "d86bf956",
   "metadata": {
    "colab": {
     "base_uri": "https://localhost:8080/"
    },
    "id": "d86bf956",
    "outputId": "34bb4212-b26a-4d60-e27d-ec32f2de1e28"
   },
   "outputs": [
    {
     "data": {
      "text/plain": [
       "(2408, 16)"
      ]
     },
     "execution_count": 3,
     "metadata": {},
     "output_type": "execute_result"
    }
   ],
   "source": [
    "#computing the shape\n",
    "df.shape"
   ]
  },
  {
   "cell_type": "markdown",
   "id": "964963c5",
   "metadata": {
    "id": "964963c5"
   },
   "source": [
    "# Data preprocessing\n",
    "- Dropping empty rows/columns\n",
    "- Checking for duplicates"
   ]
  },
  {
   "cell_type": "code",
   "execution_count": 4,
   "id": "a0247e2b",
   "metadata": {
    "colab": {
     "base_uri": "https://localhost:8080/",
     "height": 678
    },
    "id": "a0247e2b",
    "outputId": "cad2a6fa-7cc1-4825-d45d-9ea098d06f49"
   },
   "outputs": [
    {
     "data": {
      "text/html": [
       "<div>\n",
       "<style scoped>\n",
       "    .dataframe tbody tr th:only-of-type {\n",
       "        vertical-align: middle;\n",
       "    }\n",
       "\n",
       "    .dataframe tbody tr th {\n",
       "        vertical-align: top;\n",
       "    }\n",
       "\n",
       "    .dataframe thead th {\n",
       "        text-align: right;\n",
       "    }\n",
       "</style>\n",
       "<table border=\"1\" class=\"dataframe\">\n",
       "  <thead>\n",
       "    <tr style=\"text-align: right;\">\n",
       "      <th></th>\n",
       "      <th>roll_no</th>\n",
       "      <th>student_name</th>\n",
       "      <th>branch/course</th>\n",
       "      <th>sdur_C1</th>\n",
       "      <th>pref_C1</th>\n",
       "      <th>sdur_C2</th>\n",
       "      <th>pref_C2</th>\n",
       "      <th>sdur_C3</th>\n",
       "      <th>pref_C3</th>\n",
       "      <th>sdur_C4</th>\n",
       "      <th>pref_C4</th>\n",
       "      <th>sdur_DE1</th>\n",
       "      <th>pref_DE1</th>\n",
       "      <th>sdur_DE2</th>\n",
       "      <th>pref_DE2</th>\n",
       "    </tr>\n",
       "  </thead>\n",
       "  <tbody>\n",
       "    <tr>\n",
       "      <th>0</th>\n",
       "      <td>20051663</td>\n",
       "      <td>SATYAM TIWARI</td>\n",
       "      <td>CSE-09</td>\n",
       "      <td>12</td>\n",
       "      <td>hardcopy</td>\n",
       "      <td>3</td>\n",
       "      <td>hardcopy</td>\n",
       "      <td>5</td>\n",
       "      <td>hardcopy</td>\n",
       "      <td>10</td>\n",
       "      <td>hardcopy</td>\n",
       "      <td>6</td>\n",
       "      <td>hardcopy</td>\n",
       "      <td>2</td>\n",
       "      <td>hardcopy</td>\n",
       "    </tr>\n",
       "    <tr>\n",
       "      <th>1</th>\n",
       "      <td>2005244</td>\n",
       "      <td>NIHARIKA SINGH</td>\n",
       "      <td>CSE-10</td>\n",
       "      <td>3</td>\n",
       "      <td>hardcopy</td>\n",
       "      <td>3</td>\n",
       "      <td>hardcopy</td>\n",
       "      <td>3</td>\n",
       "      <td>hardcopy</td>\n",
       "      <td>3</td>\n",
       "      <td>hardcopy</td>\n",
       "      <td>3</td>\n",
       "      <td>hardcopy</td>\n",
       "      <td>3</td>\n",
       "      <td>hardcopy</td>\n",
       "    </tr>\n",
       "    <tr>\n",
       "      <th>2</th>\n",
       "      <td>20051394</td>\n",
       "      <td>SHAINEE PATTNAIK</td>\n",
       "      <td>CSE-17</td>\n",
       "      <td>5</td>\n",
       "      <td>eBook</td>\n",
       "      <td>1</td>\n",
       "      <td>eBook</td>\n",
       "      <td>2</td>\n",
       "      <td>eBook</td>\n",
       "      <td>5</td>\n",
       "      <td>hardcopy</td>\n",
       "      <td>8</td>\n",
       "      <td>eBook</td>\n",
       "      <td>8</td>\n",
       "      <td>eBook</td>\n",
       "    </tr>\n",
       "    <tr>\n",
       "      <th>3</th>\n",
       "      <td>20051602</td>\n",
       "      <td>AANCHAL CHAMARIA</td>\n",
       "      <td>CSE-19</td>\n",
       "      <td>2</td>\n",
       "      <td>eBook</td>\n",
       "      <td>2</td>\n",
       "      <td>eBook</td>\n",
       "      <td>2</td>\n",
       "      <td>eBook</td>\n",
       "      <td>2</td>\n",
       "      <td>eBook</td>\n",
       "      <td>2</td>\n",
       "      <td>eBook</td>\n",
       "      <td>2</td>\n",
       "      <td>eBook</td>\n",
       "    </tr>\n",
       "    <tr>\n",
       "      <th>4</th>\n",
       "      <td>20051047</td>\n",
       "      <td>VAISHALI PAWAR</td>\n",
       "      <td>CSE-10</td>\n",
       "      <td>6</td>\n",
       "      <td>hardcopy</td>\n",
       "      <td>6</td>\n",
       "      <td>hardcopy</td>\n",
       "      <td>6</td>\n",
       "      <td>hardcopy</td>\n",
       "      <td>6</td>\n",
       "      <td>eBook</td>\n",
       "      <td>6</td>\n",
       "      <td>eBook</td>\n",
       "      <td>6</td>\n",
       "      <td>eBook</td>\n",
       "    </tr>\n",
       "    <tr>\n",
       "      <th>...</th>\n",
       "      <td>...</td>\n",
       "      <td>...</td>\n",
       "      <td>...</td>\n",
       "      <td>...</td>\n",
       "      <td>...</td>\n",
       "      <td>...</td>\n",
       "      <td>...</td>\n",
       "      <td>...</td>\n",
       "      <td>...</td>\n",
       "      <td>...</td>\n",
       "      <td>...</td>\n",
       "      <td>...</td>\n",
       "      <td>...</td>\n",
       "      <td>...</td>\n",
       "      <td>...</td>\n",
       "    </tr>\n",
       "    <tr>\n",
       "      <th>2403</th>\n",
       "      <td>2028130</td>\n",
       "      <td>RITIK KUMAR</td>\n",
       "      <td>CSSE-02</td>\n",
       "      <td>39</td>\n",
       "      <td>hardcopy</td>\n",
       "      <td>18</td>\n",
       "      <td>eBook</td>\n",
       "      <td>36</td>\n",
       "      <td>hardcopy</td>\n",
       "      <td>49</td>\n",
       "      <td>hardcopy</td>\n",
       "      <td>18</td>\n",
       "      <td>eBook</td>\n",
       "      <td>7</td>\n",
       "      <td>eBook</td>\n",
       "    </tr>\n",
       "    <tr>\n",
       "      <th>2404</th>\n",
       "      <td>2028110</td>\n",
       "      <td>SHREYA GHOSH</td>\n",
       "      <td>CSSE-01</td>\n",
       "      <td>44</td>\n",
       "      <td>hardcopy</td>\n",
       "      <td>2</td>\n",
       "      <td>eBook</td>\n",
       "      <td>20</td>\n",
       "      <td>eBook</td>\n",
       "      <td>36</td>\n",
       "      <td>hardcopy</td>\n",
       "      <td>32</td>\n",
       "      <td>hardcopy</td>\n",
       "      <td>13</td>\n",
       "      <td>eBook</td>\n",
       "    </tr>\n",
       "    <tr>\n",
       "      <th>2405</th>\n",
       "      <td>2028169</td>\n",
       "      <td>PRATYUSH MISHRA</td>\n",
       "      <td>CSSE-02</td>\n",
       "      <td>37</td>\n",
       "      <td>hardcopy</td>\n",
       "      <td>38</td>\n",
       "      <td>hardcopy</td>\n",
       "      <td>62</td>\n",
       "      <td>hardcopy</td>\n",
       "      <td>20</td>\n",
       "      <td>eBook</td>\n",
       "      <td>38</td>\n",
       "      <td>hardcopy</td>\n",
       "      <td>45</td>\n",
       "      <td>hardcopy</td>\n",
       "    </tr>\n",
       "    <tr>\n",
       "      <th>2406</th>\n",
       "      <td>2028197</td>\n",
       "      <td>PREM BAHADUR SHAH</td>\n",
       "      <td>CSSE-02</td>\n",
       "      <td>67</td>\n",
       "      <td>eBook</td>\n",
       "      <td>42</td>\n",
       "      <td>hardcopy</td>\n",
       "      <td>17</td>\n",
       "      <td>eBook</td>\n",
       "      <td>62</td>\n",
       "      <td>hardcopy</td>\n",
       "      <td>13</td>\n",
       "      <td>eBook</td>\n",
       "      <td>50</td>\n",
       "      <td>hardcopy</td>\n",
       "    </tr>\n",
       "    <tr>\n",
       "      <th>2407</th>\n",
       "      <td>2028190</td>\n",
       "      <td>Srishty Nanda</td>\n",
       "      <td>CSSE-02</td>\n",
       "      <td>16</td>\n",
       "      <td>eBook</td>\n",
       "      <td>10</td>\n",
       "      <td>eBook</td>\n",
       "      <td>18</td>\n",
       "      <td>eBook</td>\n",
       "      <td>17</td>\n",
       "      <td>eBook</td>\n",
       "      <td>49</td>\n",
       "      <td>hardcopy</td>\n",
       "      <td>9</td>\n",
       "      <td>eBook</td>\n",
       "    </tr>\n",
       "  </tbody>\n",
       "</table>\n",
       "<p>2408 rows × 15 columns</p>\n",
       "</div>"
      ],
      "text/plain": [
       "       roll_no       student_name branch/course  sdur_C1   pref_C1  sdur_C2  \\\n",
       "0     20051663      SATYAM TIWARI        CSE-09       12  hardcopy        3   \n",
       "1      2005244     NIHARIKA SINGH        CSE-10        3  hardcopy        3   \n",
       "2     20051394   SHAINEE PATTNAIK        CSE-17        5     eBook        1   \n",
       "3     20051602   AANCHAL CHAMARIA        CSE-19        2     eBook        2   \n",
       "4     20051047     VAISHALI PAWAR        CSE-10        6  hardcopy        6   \n",
       "...        ...                ...           ...      ...       ...      ...   \n",
       "2403   2028130        RITIK KUMAR       CSSE-02       39  hardcopy       18   \n",
       "2404   2028110       SHREYA GHOSH       CSSE-01       44  hardcopy        2   \n",
       "2405   2028169    PRATYUSH MISHRA       CSSE-02       37  hardcopy       38   \n",
       "2406   2028197  PREM BAHADUR SHAH       CSSE-02       67     eBook       42   \n",
       "2407   2028190      Srishty Nanda       CSSE-02       16     eBook       10   \n",
       "\n",
       "       pref_C2  sdur_C3   pref_C3  sdur_C4   pref_C4  sdur_DE1  pref_DE1  \\\n",
       "0     hardcopy        5  hardcopy       10  hardcopy         6  hardcopy   \n",
       "1     hardcopy        3  hardcopy        3  hardcopy         3  hardcopy   \n",
       "2        eBook        2     eBook        5  hardcopy         8     eBook   \n",
       "3        eBook        2     eBook        2     eBook         2     eBook   \n",
       "4     hardcopy        6  hardcopy        6     eBook         6     eBook   \n",
       "...        ...      ...       ...      ...       ...       ...       ...   \n",
       "2403     eBook       36  hardcopy       49  hardcopy        18     eBook   \n",
       "2404     eBook       20     eBook       36  hardcopy        32  hardcopy   \n",
       "2405  hardcopy       62  hardcopy       20     eBook        38  hardcopy   \n",
       "2406  hardcopy       17     eBook       62  hardcopy        13     eBook   \n",
       "2407     eBook       18     eBook       17     eBook        49  hardcopy   \n",
       "\n",
       "      sdur_DE2  pref_DE2  \n",
       "0            2  hardcopy  \n",
       "1            3  hardcopy  \n",
       "2            8     eBook  \n",
       "3            2     eBook  \n",
       "4            6     eBook  \n",
       "...        ...       ...  \n",
       "2403         7     eBook  \n",
       "2404        13     eBook  \n",
       "2405        45  hardcopy  \n",
       "2406        50  hardcopy  \n",
       "2407         9     eBook  \n",
       "\n",
       "[2408 rows x 15 columns]"
      ]
     },
     "execution_count": 4,
     "metadata": {},
     "output_type": "execute_result"
    }
   ],
   "source": [
    "#dropping first column of dataframe (NaN)\n",
    "df = df.iloc[: , 1:]\n",
    "df"
   ]
  },
  {
   "cell_type": "code",
   "execution_count": 5,
   "id": "fd9059ff",
   "metadata": {
    "colab": {
     "base_uri": "https://localhost:8080/"
    },
    "id": "fd9059ff",
    "outputId": "682acab1-4975-49a1-c021-42b194cc67c7"
   },
   "outputs": [
    {
     "data": {
      "text/plain": [
       "(2408, 15)"
      ]
     },
     "execution_count": 5,
     "metadata": {},
     "output_type": "execute_result"
    }
   ],
   "source": [
    "#shape updates\n",
    "df.shape"
   ]
  },
  {
   "cell_type": "code",
   "execution_count": 6,
   "id": "bd4b5599",
   "metadata": {
    "id": "bd4b5599"
   },
   "outputs": [
    {
     "data": {
      "text/html": [
       "<div>\n",
       "<style scoped>\n",
       "    .dataframe tbody tr th:only-of-type {\n",
       "        vertical-align: middle;\n",
       "    }\n",
       "\n",
       "    .dataframe tbody tr th {\n",
       "        vertical-align: top;\n",
       "    }\n",
       "\n",
       "    .dataframe thead th {\n",
       "        text-align: right;\n",
       "    }\n",
       "</style>\n",
       "<table border=\"1\" class=\"dataframe\">\n",
       "  <thead>\n",
       "    <tr style=\"text-align: right;\">\n",
       "      <th></th>\n",
       "      <th>roll_no</th>\n",
       "      <th>student_name</th>\n",
       "      <th>branch/course</th>\n",
       "      <th>sdur_C1</th>\n",
       "      <th>pref_C1</th>\n",
       "      <th>sdur_C2</th>\n",
       "      <th>pref_C2</th>\n",
       "      <th>sdur_C3</th>\n",
       "      <th>pref_C3</th>\n",
       "      <th>sdur_C4</th>\n",
       "      <th>pref_C4</th>\n",
       "      <th>sdur_DE1</th>\n",
       "      <th>pref_DE1</th>\n",
       "      <th>sdur_DE2</th>\n",
       "      <th>pref_DE2</th>\n",
       "    </tr>\n",
       "  </thead>\n",
       "  <tbody>\n",
       "    <tr>\n",
       "      <th>0</th>\n",
       "      <td>20051663</td>\n",
       "      <td>SATYAM TIWARI</td>\n",
       "      <td>CSE-09</td>\n",
       "      <td>12</td>\n",
       "      <td>hardcopy</td>\n",
       "      <td>3</td>\n",
       "      <td>hardcopy</td>\n",
       "      <td>5</td>\n",
       "      <td>hardcopy</td>\n",
       "      <td>10</td>\n",
       "      <td>hardcopy</td>\n",
       "      <td>6</td>\n",
       "      <td>hardcopy</td>\n",
       "      <td>2</td>\n",
       "      <td>hardcopy</td>\n",
       "    </tr>\n",
       "    <tr>\n",
       "      <th>1</th>\n",
       "      <td>2005244</td>\n",
       "      <td>NIHARIKA SINGH</td>\n",
       "      <td>CSE-10</td>\n",
       "      <td>3</td>\n",
       "      <td>hardcopy</td>\n",
       "      <td>3</td>\n",
       "      <td>hardcopy</td>\n",
       "      <td>3</td>\n",
       "      <td>hardcopy</td>\n",
       "      <td>3</td>\n",
       "      <td>hardcopy</td>\n",
       "      <td>3</td>\n",
       "      <td>hardcopy</td>\n",
       "      <td>3</td>\n",
       "      <td>hardcopy</td>\n",
       "    </tr>\n",
       "    <tr>\n",
       "      <th>2</th>\n",
       "      <td>20051394</td>\n",
       "      <td>SHAINEE PATTNAIK</td>\n",
       "      <td>CSE-17</td>\n",
       "      <td>5</td>\n",
       "      <td>eBook</td>\n",
       "      <td>1</td>\n",
       "      <td>eBook</td>\n",
       "      <td>2</td>\n",
       "      <td>eBook</td>\n",
       "      <td>5</td>\n",
       "      <td>hardcopy</td>\n",
       "      <td>8</td>\n",
       "      <td>eBook</td>\n",
       "      <td>8</td>\n",
       "      <td>eBook</td>\n",
       "    </tr>\n",
       "    <tr>\n",
       "      <th>3</th>\n",
       "      <td>20051602</td>\n",
       "      <td>AANCHAL CHAMARIA</td>\n",
       "      <td>CSE-19</td>\n",
       "      <td>2</td>\n",
       "      <td>eBook</td>\n",
       "      <td>2</td>\n",
       "      <td>eBook</td>\n",
       "      <td>2</td>\n",
       "      <td>eBook</td>\n",
       "      <td>2</td>\n",
       "      <td>eBook</td>\n",
       "      <td>2</td>\n",
       "      <td>eBook</td>\n",
       "      <td>2</td>\n",
       "      <td>eBook</td>\n",
       "    </tr>\n",
       "    <tr>\n",
       "      <th>4</th>\n",
       "      <td>20051047</td>\n",
       "      <td>VAISHALI PAWAR</td>\n",
       "      <td>CSE-10</td>\n",
       "      <td>6</td>\n",
       "      <td>hardcopy</td>\n",
       "      <td>6</td>\n",
       "      <td>hardcopy</td>\n",
       "      <td>6</td>\n",
       "      <td>hardcopy</td>\n",
       "      <td>6</td>\n",
       "      <td>eBook</td>\n",
       "      <td>6</td>\n",
       "      <td>eBook</td>\n",
       "      <td>6</td>\n",
       "      <td>eBook</td>\n",
       "    </tr>\n",
       "    <tr>\n",
       "      <th>...</th>\n",
       "      <td>...</td>\n",
       "      <td>...</td>\n",
       "      <td>...</td>\n",
       "      <td>...</td>\n",
       "      <td>...</td>\n",
       "      <td>...</td>\n",
       "      <td>...</td>\n",
       "      <td>...</td>\n",
       "      <td>...</td>\n",
       "      <td>...</td>\n",
       "      <td>...</td>\n",
       "      <td>...</td>\n",
       "      <td>...</td>\n",
       "      <td>...</td>\n",
       "      <td>...</td>\n",
       "    </tr>\n",
       "    <tr>\n",
       "      <th>2403</th>\n",
       "      <td>2028130</td>\n",
       "      <td>RITIK KUMAR</td>\n",
       "      <td>CSSE-02</td>\n",
       "      <td>39</td>\n",
       "      <td>hardcopy</td>\n",
       "      <td>18</td>\n",
       "      <td>eBook</td>\n",
       "      <td>36</td>\n",
       "      <td>hardcopy</td>\n",
       "      <td>49</td>\n",
       "      <td>hardcopy</td>\n",
       "      <td>18</td>\n",
       "      <td>eBook</td>\n",
       "      <td>7</td>\n",
       "      <td>eBook</td>\n",
       "    </tr>\n",
       "    <tr>\n",
       "      <th>2404</th>\n",
       "      <td>2028110</td>\n",
       "      <td>SHREYA GHOSH</td>\n",
       "      <td>CSSE-01</td>\n",
       "      <td>44</td>\n",
       "      <td>hardcopy</td>\n",
       "      <td>2</td>\n",
       "      <td>eBook</td>\n",
       "      <td>20</td>\n",
       "      <td>eBook</td>\n",
       "      <td>36</td>\n",
       "      <td>hardcopy</td>\n",
       "      <td>32</td>\n",
       "      <td>hardcopy</td>\n",
       "      <td>13</td>\n",
       "      <td>eBook</td>\n",
       "    </tr>\n",
       "    <tr>\n",
       "      <th>2405</th>\n",
       "      <td>2028169</td>\n",
       "      <td>PRATYUSH MISHRA</td>\n",
       "      <td>CSSE-02</td>\n",
       "      <td>37</td>\n",
       "      <td>hardcopy</td>\n",
       "      <td>38</td>\n",
       "      <td>hardcopy</td>\n",
       "      <td>62</td>\n",
       "      <td>hardcopy</td>\n",
       "      <td>20</td>\n",
       "      <td>eBook</td>\n",
       "      <td>38</td>\n",
       "      <td>hardcopy</td>\n",
       "      <td>45</td>\n",
       "      <td>hardcopy</td>\n",
       "    </tr>\n",
       "    <tr>\n",
       "      <th>2406</th>\n",
       "      <td>2028197</td>\n",
       "      <td>PREM BAHADUR SHAH</td>\n",
       "      <td>CSSE-02</td>\n",
       "      <td>67</td>\n",
       "      <td>eBook</td>\n",
       "      <td>42</td>\n",
       "      <td>hardcopy</td>\n",
       "      <td>17</td>\n",
       "      <td>eBook</td>\n",
       "      <td>62</td>\n",
       "      <td>hardcopy</td>\n",
       "      <td>13</td>\n",
       "      <td>eBook</td>\n",
       "      <td>50</td>\n",
       "      <td>hardcopy</td>\n",
       "    </tr>\n",
       "    <tr>\n",
       "      <th>2407</th>\n",
       "      <td>2028190</td>\n",
       "      <td>Srishty Nanda</td>\n",
       "      <td>CSSE-02</td>\n",
       "      <td>16</td>\n",
       "      <td>eBook</td>\n",
       "      <td>10</td>\n",
       "      <td>eBook</td>\n",
       "      <td>18</td>\n",
       "      <td>eBook</td>\n",
       "      <td>17</td>\n",
       "      <td>eBook</td>\n",
       "      <td>49</td>\n",
       "      <td>hardcopy</td>\n",
       "      <td>9</td>\n",
       "      <td>eBook</td>\n",
       "    </tr>\n",
       "  </tbody>\n",
       "</table>\n",
       "<p>2408 rows × 15 columns</p>\n",
       "</div>"
      ],
      "text/plain": [
       "       roll_no       student_name branch/course  sdur_C1   pref_C1  sdur_C2  \\\n",
       "0     20051663      SATYAM TIWARI        CSE-09       12  hardcopy        3   \n",
       "1      2005244     NIHARIKA SINGH        CSE-10        3  hardcopy        3   \n",
       "2     20051394   SHAINEE PATTNAIK        CSE-17        5     eBook        1   \n",
       "3     20051602   AANCHAL CHAMARIA        CSE-19        2     eBook        2   \n",
       "4     20051047     VAISHALI PAWAR        CSE-10        6  hardcopy        6   \n",
       "...        ...                ...           ...      ...       ...      ...   \n",
       "2403   2028130        RITIK KUMAR       CSSE-02       39  hardcopy       18   \n",
       "2404   2028110       SHREYA GHOSH       CSSE-01       44  hardcopy        2   \n",
       "2405   2028169    PRATYUSH MISHRA       CSSE-02       37  hardcopy       38   \n",
       "2406   2028197  PREM BAHADUR SHAH       CSSE-02       67     eBook       42   \n",
       "2407   2028190      Srishty Nanda       CSSE-02       16     eBook       10   \n",
       "\n",
       "       pref_C2  sdur_C3   pref_C3  sdur_C4   pref_C4  sdur_DE1  pref_DE1  \\\n",
       "0     hardcopy        5  hardcopy       10  hardcopy         6  hardcopy   \n",
       "1     hardcopy        3  hardcopy        3  hardcopy         3  hardcopy   \n",
       "2        eBook        2     eBook        5  hardcopy         8     eBook   \n",
       "3        eBook        2     eBook        2     eBook         2     eBook   \n",
       "4     hardcopy        6  hardcopy        6     eBook         6     eBook   \n",
       "...        ...      ...       ...      ...       ...       ...       ...   \n",
       "2403     eBook       36  hardcopy       49  hardcopy        18     eBook   \n",
       "2404     eBook       20     eBook       36  hardcopy        32  hardcopy   \n",
       "2405  hardcopy       62  hardcopy       20     eBook        38  hardcopy   \n",
       "2406  hardcopy       17     eBook       62  hardcopy        13     eBook   \n",
       "2407     eBook       18     eBook       17     eBook        49  hardcopy   \n",
       "\n",
       "      sdur_DE2  pref_DE2  \n",
       "0            2  hardcopy  \n",
       "1            3  hardcopy  \n",
       "2            8     eBook  \n",
       "3            2     eBook  \n",
       "4            6     eBook  \n",
       "...        ...       ...  \n",
       "2403         7     eBook  \n",
       "2404        13     eBook  \n",
       "2405        45  hardcopy  \n",
       "2406        50  hardcopy  \n",
       "2407         9     eBook  \n",
       "\n",
       "[2408 rows x 15 columns]"
      ]
     },
     "execution_count": 6,
     "metadata": {},
     "output_type": "execute_result"
    }
   ],
   "source": [
    "#dropping empty 'rows'\n",
    "df = df.dropna(axis = 0)\n",
    "df"
   ]
  },
  {
   "cell_type": "code",
   "execution_count": 7,
   "id": "4902fb7d",
   "metadata": {
    "id": "4902fb7d"
   },
   "outputs": [
    {
     "data": {
      "text/plain": [
       "(2408, 15)"
      ]
     },
     "execution_count": 7,
     "metadata": {},
     "output_type": "execute_result"
    }
   ],
   "source": [
    "#shape updates\n",
    "df.shape"
   ]
  },
  {
   "cell_type": "code",
   "execution_count": 8,
   "id": "8d4a902f",
   "metadata": {
    "colab": {
     "base_uri": "https://localhost:8080/"
    },
    "id": "8d4a902f",
    "outputId": "cb1054f7-8cb8-47e6-8bf9-c947824368ed"
   },
   "outputs": [
    {
     "name": "stdout",
     "output_type": "stream",
     "text": [
      "<class 'pandas.core.frame.DataFrame'>\n",
      "RangeIndex: 2408 entries, 0 to 2407\n",
      "Data columns (total 15 columns):\n",
      " #   Column         Non-Null Count  Dtype \n",
      "---  ------         --------------  ----- \n",
      " 0   roll_no        2408 non-null   int64 \n",
      " 1   student_name   2408 non-null   object\n",
      " 2   branch/course  2408 non-null   object\n",
      " 3   sdur_C1        2408 non-null   int64 \n",
      " 4   pref_C1        2408 non-null   object\n",
      " 5   sdur_C2        2408 non-null   int64 \n",
      " 6   pref_C2        2408 non-null   object\n",
      " 7   sdur_C3        2408 non-null   int64 \n",
      " 8   pref_C3        2408 non-null   object\n",
      " 9   sdur_C4        2408 non-null   int64 \n",
      " 10  pref_C4        2408 non-null   object\n",
      " 11  sdur_DE1       2408 non-null   int64 \n",
      " 12  pref_DE1       2408 non-null   object\n",
      " 13  sdur_DE2       2408 non-null   int64 \n",
      " 14  pref_DE2       2408 non-null   object\n",
      "dtypes: int64(7), object(8)\n",
      "memory usage: 282.3+ KB\n"
     ]
    }
   ],
   "source": [
    "#information in dataframe\n",
    "df.info()"
   ]
  },
  {
   "cell_type": "code",
   "execution_count": 9,
   "id": "36df4df7",
   "metadata": {
    "colab": {
     "base_uri": "https://localhost:8080/",
     "height": 678
    },
    "id": "36df4df7",
    "outputId": "dd6231e5-fadf-4fb2-e30b-f6fab122dec2"
   },
   "outputs": [
    {
     "data": {
      "text/html": [
       "<div>\n",
       "<style scoped>\n",
       "    .dataframe tbody tr th:only-of-type {\n",
       "        vertical-align: middle;\n",
       "    }\n",
       "\n",
       "    .dataframe tbody tr th {\n",
       "        vertical-align: top;\n",
       "    }\n",
       "\n",
       "    .dataframe thead th {\n",
       "        text-align: right;\n",
       "    }\n",
       "</style>\n",
       "<table border=\"1\" class=\"dataframe\">\n",
       "  <thead>\n",
       "    <tr style=\"text-align: right;\">\n",
       "      <th></th>\n",
       "      <th>roll_no</th>\n",
       "      <th>student_name</th>\n",
       "      <th>branch/course</th>\n",
       "      <th>sdur_C1</th>\n",
       "      <th>pref_C1</th>\n",
       "      <th>sdur_C2</th>\n",
       "      <th>pref_C2</th>\n",
       "      <th>sdur_C3</th>\n",
       "      <th>pref_C3</th>\n",
       "      <th>sdur_C4</th>\n",
       "      <th>pref_C4</th>\n",
       "      <th>sdur_DE1</th>\n",
       "      <th>pref_DE1</th>\n",
       "      <th>sdur_DE2</th>\n",
       "      <th>pref_DE2</th>\n",
       "    </tr>\n",
       "  </thead>\n",
       "  <tbody>\n",
       "    <tr>\n",
       "      <th>0</th>\n",
       "      <td>20051663</td>\n",
       "      <td>SATYAM TIWARI</td>\n",
       "      <td>CSE-09</td>\n",
       "      <td>12</td>\n",
       "      <td>hardcopy</td>\n",
       "      <td>3</td>\n",
       "      <td>hardcopy</td>\n",
       "      <td>5</td>\n",
       "      <td>hardcopy</td>\n",
       "      <td>10</td>\n",
       "      <td>hardcopy</td>\n",
       "      <td>6</td>\n",
       "      <td>hardcopy</td>\n",
       "      <td>2</td>\n",
       "      <td>hardcopy</td>\n",
       "    </tr>\n",
       "    <tr>\n",
       "      <th>1</th>\n",
       "      <td>2005244</td>\n",
       "      <td>NIHARIKA SINGH</td>\n",
       "      <td>CSE-10</td>\n",
       "      <td>3</td>\n",
       "      <td>hardcopy</td>\n",
       "      <td>3</td>\n",
       "      <td>hardcopy</td>\n",
       "      <td>3</td>\n",
       "      <td>hardcopy</td>\n",
       "      <td>3</td>\n",
       "      <td>hardcopy</td>\n",
       "      <td>3</td>\n",
       "      <td>hardcopy</td>\n",
       "      <td>3</td>\n",
       "      <td>hardcopy</td>\n",
       "    </tr>\n",
       "    <tr>\n",
       "      <th>2</th>\n",
       "      <td>20051394</td>\n",
       "      <td>SHAINEE PATTNAIK</td>\n",
       "      <td>CSE-17</td>\n",
       "      <td>5</td>\n",
       "      <td>eBook</td>\n",
       "      <td>1</td>\n",
       "      <td>eBook</td>\n",
       "      <td>2</td>\n",
       "      <td>eBook</td>\n",
       "      <td>5</td>\n",
       "      <td>hardcopy</td>\n",
       "      <td>8</td>\n",
       "      <td>eBook</td>\n",
       "      <td>8</td>\n",
       "      <td>eBook</td>\n",
       "    </tr>\n",
       "    <tr>\n",
       "      <th>3</th>\n",
       "      <td>20051602</td>\n",
       "      <td>AANCHAL CHAMARIA</td>\n",
       "      <td>CSE-19</td>\n",
       "      <td>2</td>\n",
       "      <td>eBook</td>\n",
       "      <td>2</td>\n",
       "      <td>eBook</td>\n",
       "      <td>2</td>\n",
       "      <td>eBook</td>\n",
       "      <td>2</td>\n",
       "      <td>eBook</td>\n",
       "      <td>2</td>\n",
       "      <td>eBook</td>\n",
       "      <td>2</td>\n",
       "      <td>eBook</td>\n",
       "    </tr>\n",
       "    <tr>\n",
       "      <th>4</th>\n",
       "      <td>20051047</td>\n",
       "      <td>VAISHALI PAWAR</td>\n",
       "      <td>CSE-10</td>\n",
       "      <td>6</td>\n",
       "      <td>hardcopy</td>\n",
       "      <td>6</td>\n",
       "      <td>hardcopy</td>\n",
       "      <td>6</td>\n",
       "      <td>hardcopy</td>\n",
       "      <td>6</td>\n",
       "      <td>eBook</td>\n",
       "      <td>6</td>\n",
       "      <td>eBook</td>\n",
       "      <td>6</td>\n",
       "      <td>eBook</td>\n",
       "    </tr>\n",
       "    <tr>\n",
       "      <th>...</th>\n",
       "      <td>...</td>\n",
       "      <td>...</td>\n",
       "      <td>...</td>\n",
       "      <td>...</td>\n",
       "      <td>...</td>\n",
       "      <td>...</td>\n",
       "      <td>...</td>\n",
       "      <td>...</td>\n",
       "      <td>...</td>\n",
       "      <td>...</td>\n",
       "      <td>...</td>\n",
       "      <td>...</td>\n",
       "      <td>...</td>\n",
       "      <td>...</td>\n",
       "      <td>...</td>\n",
       "    </tr>\n",
       "    <tr>\n",
       "      <th>2403</th>\n",
       "      <td>2028130</td>\n",
       "      <td>RITIK KUMAR</td>\n",
       "      <td>CSSE-02</td>\n",
       "      <td>39</td>\n",
       "      <td>hardcopy</td>\n",
       "      <td>18</td>\n",
       "      <td>eBook</td>\n",
       "      <td>36</td>\n",
       "      <td>hardcopy</td>\n",
       "      <td>49</td>\n",
       "      <td>hardcopy</td>\n",
       "      <td>18</td>\n",
       "      <td>eBook</td>\n",
       "      <td>7</td>\n",
       "      <td>eBook</td>\n",
       "    </tr>\n",
       "    <tr>\n",
       "      <th>2404</th>\n",
       "      <td>2028110</td>\n",
       "      <td>SHREYA GHOSH</td>\n",
       "      <td>CSSE-01</td>\n",
       "      <td>44</td>\n",
       "      <td>hardcopy</td>\n",
       "      <td>2</td>\n",
       "      <td>eBook</td>\n",
       "      <td>20</td>\n",
       "      <td>eBook</td>\n",
       "      <td>36</td>\n",
       "      <td>hardcopy</td>\n",
       "      <td>32</td>\n",
       "      <td>hardcopy</td>\n",
       "      <td>13</td>\n",
       "      <td>eBook</td>\n",
       "    </tr>\n",
       "    <tr>\n",
       "      <th>2405</th>\n",
       "      <td>2028169</td>\n",
       "      <td>PRATYUSH MISHRA</td>\n",
       "      <td>CSSE-02</td>\n",
       "      <td>37</td>\n",
       "      <td>hardcopy</td>\n",
       "      <td>38</td>\n",
       "      <td>hardcopy</td>\n",
       "      <td>62</td>\n",
       "      <td>hardcopy</td>\n",
       "      <td>20</td>\n",
       "      <td>eBook</td>\n",
       "      <td>38</td>\n",
       "      <td>hardcopy</td>\n",
       "      <td>45</td>\n",
       "      <td>hardcopy</td>\n",
       "    </tr>\n",
       "    <tr>\n",
       "      <th>2406</th>\n",
       "      <td>2028197</td>\n",
       "      <td>PREM BAHADUR SHAH</td>\n",
       "      <td>CSSE-02</td>\n",
       "      <td>67</td>\n",
       "      <td>eBook</td>\n",
       "      <td>42</td>\n",
       "      <td>hardcopy</td>\n",
       "      <td>17</td>\n",
       "      <td>eBook</td>\n",
       "      <td>62</td>\n",
       "      <td>hardcopy</td>\n",
       "      <td>13</td>\n",
       "      <td>eBook</td>\n",
       "      <td>50</td>\n",
       "      <td>hardcopy</td>\n",
       "    </tr>\n",
       "    <tr>\n",
       "      <th>2407</th>\n",
       "      <td>2028190</td>\n",
       "      <td>Srishty Nanda</td>\n",
       "      <td>CSSE-02</td>\n",
       "      <td>16</td>\n",
       "      <td>eBook</td>\n",
       "      <td>10</td>\n",
       "      <td>eBook</td>\n",
       "      <td>18</td>\n",
       "      <td>eBook</td>\n",
       "      <td>17</td>\n",
       "      <td>eBook</td>\n",
       "      <td>49</td>\n",
       "      <td>hardcopy</td>\n",
       "      <td>9</td>\n",
       "      <td>eBook</td>\n",
       "    </tr>\n",
       "  </tbody>\n",
       "</table>\n",
       "<p>2408 rows × 15 columns</p>\n",
       "</div>"
      ],
      "text/plain": [
       "       roll_no       student_name branch/course  sdur_C1   pref_C1  sdur_C2  \\\n",
       "0     20051663      SATYAM TIWARI        CSE-09       12  hardcopy        3   \n",
       "1      2005244     NIHARIKA SINGH        CSE-10        3  hardcopy        3   \n",
       "2     20051394   SHAINEE PATTNAIK        CSE-17        5     eBook        1   \n",
       "3     20051602   AANCHAL CHAMARIA        CSE-19        2     eBook        2   \n",
       "4     20051047     VAISHALI PAWAR        CSE-10        6  hardcopy        6   \n",
       "...        ...                ...           ...      ...       ...      ...   \n",
       "2403   2028130        RITIK KUMAR       CSSE-02       39  hardcopy       18   \n",
       "2404   2028110       SHREYA GHOSH       CSSE-01       44  hardcopy        2   \n",
       "2405   2028169    PRATYUSH MISHRA       CSSE-02       37  hardcopy       38   \n",
       "2406   2028197  PREM BAHADUR SHAH       CSSE-02       67     eBook       42   \n",
       "2407   2028190      Srishty Nanda       CSSE-02       16     eBook       10   \n",
       "\n",
       "       pref_C2  sdur_C3   pref_C3  sdur_C4   pref_C4  sdur_DE1  pref_DE1  \\\n",
       "0     hardcopy        5  hardcopy       10  hardcopy         6  hardcopy   \n",
       "1     hardcopy        3  hardcopy        3  hardcopy         3  hardcopy   \n",
       "2        eBook        2     eBook        5  hardcopy         8     eBook   \n",
       "3        eBook        2     eBook        2     eBook         2     eBook   \n",
       "4     hardcopy        6  hardcopy        6     eBook         6     eBook   \n",
       "...        ...      ...       ...      ...       ...       ...       ...   \n",
       "2403     eBook       36  hardcopy       49  hardcopy        18     eBook   \n",
       "2404     eBook       20     eBook       36  hardcopy        32  hardcopy   \n",
       "2405  hardcopy       62  hardcopy       20     eBook        38  hardcopy   \n",
       "2406  hardcopy       17     eBook       62  hardcopy        13     eBook   \n",
       "2407     eBook       18     eBook       17     eBook        49  hardcopy   \n",
       "\n",
       "      sdur_DE2  pref_DE2  \n",
       "0            2  hardcopy  \n",
       "1            3  hardcopy  \n",
       "2            8     eBook  \n",
       "3            2     eBook  \n",
       "4            6     eBook  \n",
       "...        ...       ...  \n",
       "2403         7     eBook  \n",
       "2404        13     eBook  \n",
       "2405        45  hardcopy  \n",
       "2406        50  hardcopy  \n",
       "2407         9     eBook  \n",
       "\n",
       "[2408 rows x 15 columns]"
      ]
     },
     "execution_count": 9,
     "metadata": {},
     "output_type": "execute_result"
    }
   ],
   "source": [
    "#deleting multiple entries (and considering just first entry) of same student w.r.t his/her roll number\n",
    "df = df.drop_duplicates(subset='roll_no', keep=\"first\")\n",
    "df"
   ]
  },
  {
   "cell_type": "code",
   "execution_count": 10,
   "id": "1a193036",
   "metadata": {
    "id": "1a193036",
    "outputId": "bc65947c-ae6a-493c-e08a-03a878a88952"
   },
   "outputs": [
    {
     "data": {
      "text/plain": [
       "(2408, 15)"
      ]
     },
     "execution_count": 10,
     "metadata": {},
     "output_type": "execute_result"
    }
   ],
   "source": [
    "#shape updates\n",
    "df.shape"
   ]
  },
  {
   "cell_type": "markdown",
   "id": "9a32e613",
   "metadata": {
    "id": "9a32e613"
   },
   "source": [
    "# Binary encoding the preferences"
   ]
  },
  {
   "cell_type": "code",
   "execution_count": 11,
   "id": "9580b752",
   "metadata": {
    "colab": {
     "base_uri": "https://localhost:8080/",
     "height": 678
    },
    "id": "9580b752",
    "outputId": "20b41c74-87c0-4731-8310-97d611cfe1d8"
   },
   "outputs": [
    {
     "data": {
      "text/html": [
       "<div>\n",
       "<style scoped>\n",
       "    .dataframe tbody tr th:only-of-type {\n",
       "        vertical-align: middle;\n",
       "    }\n",
       "\n",
       "    .dataframe tbody tr th {\n",
       "        vertical-align: top;\n",
       "    }\n",
       "\n",
       "    .dataframe thead th {\n",
       "        text-align: right;\n",
       "    }\n",
       "</style>\n",
       "<table border=\"1\" class=\"dataframe\">\n",
       "  <thead>\n",
       "    <tr style=\"text-align: right;\">\n",
       "      <th></th>\n",
       "      <th>roll_no</th>\n",
       "      <th>student_name</th>\n",
       "      <th>branch/course</th>\n",
       "      <th>sdur_C1</th>\n",
       "      <th>pref_C1</th>\n",
       "      <th>sdur_C2</th>\n",
       "      <th>pref_C2</th>\n",
       "      <th>sdur_C3</th>\n",
       "      <th>pref_C3</th>\n",
       "      <th>sdur_C4</th>\n",
       "      <th>pref_C4</th>\n",
       "      <th>sdur_DE1</th>\n",
       "      <th>pref_DE1</th>\n",
       "      <th>sdur_DE2</th>\n",
       "      <th>pref_DE2</th>\n",
       "    </tr>\n",
       "  </thead>\n",
       "  <tbody>\n",
       "    <tr>\n",
       "      <th>0</th>\n",
       "      <td>20051663</td>\n",
       "      <td>SATYAM TIWARI</td>\n",
       "      <td>CSE-09</td>\n",
       "      <td>12</td>\n",
       "      <td>1</td>\n",
       "      <td>3</td>\n",
       "      <td>1</td>\n",
       "      <td>5</td>\n",
       "      <td>1</td>\n",
       "      <td>10</td>\n",
       "      <td>1</td>\n",
       "      <td>6</td>\n",
       "      <td>1</td>\n",
       "      <td>2</td>\n",
       "      <td>1</td>\n",
       "    </tr>\n",
       "    <tr>\n",
       "      <th>1</th>\n",
       "      <td>2005244</td>\n",
       "      <td>NIHARIKA SINGH</td>\n",
       "      <td>CSE-10</td>\n",
       "      <td>3</td>\n",
       "      <td>1</td>\n",
       "      <td>3</td>\n",
       "      <td>1</td>\n",
       "      <td>3</td>\n",
       "      <td>1</td>\n",
       "      <td>3</td>\n",
       "      <td>1</td>\n",
       "      <td>3</td>\n",
       "      <td>1</td>\n",
       "      <td>3</td>\n",
       "      <td>1</td>\n",
       "    </tr>\n",
       "    <tr>\n",
       "      <th>2</th>\n",
       "      <td>20051394</td>\n",
       "      <td>SHAINEE PATTNAIK</td>\n",
       "      <td>CSE-17</td>\n",
       "      <td>5</td>\n",
       "      <td>0</td>\n",
       "      <td>1</td>\n",
       "      <td>0</td>\n",
       "      <td>2</td>\n",
       "      <td>0</td>\n",
       "      <td>5</td>\n",
       "      <td>1</td>\n",
       "      <td>8</td>\n",
       "      <td>0</td>\n",
       "      <td>8</td>\n",
       "      <td>0</td>\n",
       "    </tr>\n",
       "    <tr>\n",
       "      <th>3</th>\n",
       "      <td>20051602</td>\n",
       "      <td>AANCHAL CHAMARIA</td>\n",
       "      <td>CSE-19</td>\n",
       "      <td>2</td>\n",
       "      <td>0</td>\n",
       "      <td>2</td>\n",
       "      <td>0</td>\n",
       "      <td>2</td>\n",
       "      <td>0</td>\n",
       "      <td>2</td>\n",
       "      <td>0</td>\n",
       "      <td>2</td>\n",
       "      <td>0</td>\n",
       "      <td>2</td>\n",
       "      <td>0</td>\n",
       "    </tr>\n",
       "    <tr>\n",
       "      <th>4</th>\n",
       "      <td>20051047</td>\n",
       "      <td>VAISHALI PAWAR</td>\n",
       "      <td>CSE-10</td>\n",
       "      <td>6</td>\n",
       "      <td>1</td>\n",
       "      <td>6</td>\n",
       "      <td>1</td>\n",
       "      <td>6</td>\n",
       "      <td>1</td>\n",
       "      <td>6</td>\n",
       "      <td>0</td>\n",
       "      <td>6</td>\n",
       "      <td>0</td>\n",
       "      <td>6</td>\n",
       "      <td>0</td>\n",
       "    </tr>\n",
       "    <tr>\n",
       "      <th>...</th>\n",
       "      <td>...</td>\n",
       "      <td>...</td>\n",
       "      <td>...</td>\n",
       "      <td>...</td>\n",
       "      <td>...</td>\n",
       "      <td>...</td>\n",
       "      <td>...</td>\n",
       "      <td>...</td>\n",
       "      <td>...</td>\n",
       "      <td>...</td>\n",
       "      <td>...</td>\n",
       "      <td>...</td>\n",
       "      <td>...</td>\n",
       "      <td>...</td>\n",
       "      <td>...</td>\n",
       "    </tr>\n",
       "    <tr>\n",
       "      <th>2403</th>\n",
       "      <td>2028130</td>\n",
       "      <td>RITIK KUMAR</td>\n",
       "      <td>CSSE-02</td>\n",
       "      <td>39</td>\n",
       "      <td>1</td>\n",
       "      <td>18</td>\n",
       "      <td>0</td>\n",
       "      <td>36</td>\n",
       "      <td>1</td>\n",
       "      <td>49</td>\n",
       "      <td>1</td>\n",
       "      <td>18</td>\n",
       "      <td>0</td>\n",
       "      <td>7</td>\n",
       "      <td>0</td>\n",
       "    </tr>\n",
       "    <tr>\n",
       "      <th>2404</th>\n",
       "      <td>2028110</td>\n",
       "      <td>SHREYA GHOSH</td>\n",
       "      <td>CSSE-01</td>\n",
       "      <td>44</td>\n",
       "      <td>1</td>\n",
       "      <td>2</td>\n",
       "      <td>0</td>\n",
       "      <td>20</td>\n",
       "      <td>0</td>\n",
       "      <td>36</td>\n",
       "      <td>1</td>\n",
       "      <td>32</td>\n",
       "      <td>1</td>\n",
       "      <td>13</td>\n",
       "      <td>0</td>\n",
       "    </tr>\n",
       "    <tr>\n",
       "      <th>2405</th>\n",
       "      <td>2028169</td>\n",
       "      <td>PRATYUSH MISHRA</td>\n",
       "      <td>CSSE-02</td>\n",
       "      <td>37</td>\n",
       "      <td>1</td>\n",
       "      <td>38</td>\n",
       "      <td>1</td>\n",
       "      <td>62</td>\n",
       "      <td>1</td>\n",
       "      <td>20</td>\n",
       "      <td>0</td>\n",
       "      <td>38</td>\n",
       "      <td>1</td>\n",
       "      <td>45</td>\n",
       "      <td>1</td>\n",
       "    </tr>\n",
       "    <tr>\n",
       "      <th>2406</th>\n",
       "      <td>2028197</td>\n",
       "      <td>PREM BAHADUR SHAH</td>\n",
       "      <td>CSSE-02</td>\n",
       "      <td>67</td>\n",
       "      <td>0</td>\n",
       "      <td>42</td>\n",
       "      <td>1</td>\n",
       "      <td>17</td>\n",
       "      <td>0</td>\n",
       "      <td>62</td>\n",
       "      <td>1</td>\n",
       "      <td>13</td>\n",
       "      <td>0</td>\n",
       "      <td>50</td>\n",
       "      <td>1</td>\n",
       "    </tr>\n",
       "    <tr>\n",
       "      <th>2407</th>\n",
       "      <td>2028190</td>\n",
       "      <td>Srishty Nanda</td>\n",
       "      <td>CSSE-02</td>\n",
       "      <td>16</td>\n",
       "      <td>0</td>\n",
       "      <td>10</td>\n",
       "      <td>0</td>\n",
       "      <td>18</td>\n",
       "      <td>0</td>\n",
       "      <td>17</td>\n",
       "      <td>0</td>\n",
       "      <td>49</td>\n",
       "      <td>1</td>\n",
       "      <td>9</td>\n",
       "      <td>0</td>\n",
       "    </tr>\n",
       "  </tbody>\n",
       "</table>\n",
       "<p>2408 rows × 15 columns</p>\n",
       "</div>"
      ],
      "text/plain": [
       "       roll_no       student_name branch/course  sdur_C1  pref_C1  sdur_C2  \\\n",
       "0     20051663      SATYAM TIWARI        CSE-09       12        1        3   \n",
       "1      2005244     NIHARIKA SINGH        CSE-10        3        1        3   \n",
       "2     20051394   SHAINEE PATTNAIK        CSE-17        5        0        1   \n",
       "3     20051602   AANCHAL CHAMARIA        CSE-19        2        0        2   \n",
       "4     20051047     VAISHALI PAWAR        CSE-10        6        1        6   \n",
       "...        ...                ...           ...      ...      ...      ...   \n",
       "2403   2028130        RITIK KUMAR       CSSE-02       39        1       18   \n",
       "2404   2028110       SHREYA GHOSH       CSSE-01       44        1        2   \n",
       "2405   2028169    PRATYUSH MISHRA       CSSE-02       37        1       38   \n",
       "2406   2028197  PREM BAHADUR SHAH       CSSE-02       67        0       42   \n",
       "2407   2028190      Srishty Nanda       CSSE-02       16        0       10   \n",
       "\n",
       "      pref_C2  sdur_C3  pref_C3  sdur_C4  pref_C4  sdur_DE1  pref_DE1  \\\n",
       "0           1        5        1       10        1         6         1   \n",
       "1           1        3        1        3        1         3         1   \n",
       "2           0        2        0        5        1         8         0   \n",
       "3           0        2        0        2        0         2         0   \n",
       "4           1        6        1        6        0         6         0   \n",
       "...       ...      ...      ...      ...      ...       ...       ...   \n",
       "2403        0       36        1       49        1        18         0   \n",
       "2404        0       20        0       36        1        32         1   \n",
       "2405        1       62        1       20        0        38         1   \n",
       "2406        1       17        0       62        1        13         0   \n",
       "2407        0       18        0       17        0        49         1   \n",
       "\n",
       "      sdur_DE2  pref_DE2  \n",
       "0            2         1  \n",
       "1            3         1  \n",
       "2            8         0  \n",
       "3            2         0  \n",
       "4            6         0  \n",
       "...        ...       ...  \n",
       "2403         7         0  \n",
       "2404        13         0  \n",
       "2405        45         1  \n",
       "2406        50         1  \n",
       "2407         9         0  \n",
       "\n",
       "[2408 rows x 15 columns]"
      ]
     },
     "execution_count": 11,
     "metadata": {},
     "output_type": "execute_result"
    }
   ],
   "source": [
    "#importing library to ignore warnings\n",
    "import warnings\n",
    "warnings.filterwarnings('ignore')\n",
    "\n",
    "#converting preferences in binary (1 for Hardcopy, 0 for eBook)\n",
    "df['pref_C1'] = df['pref_C1'].map(\n",
    "                   {'hardcopy':1 ,'eBook':0})\n",
    "\n",
    "df['pref_C2'] = df['pref_C2'].map(\n",
    "                   {'hardcopy':1 ,'eBook':0})\n",
    "\n",
    "df['pref_C3'] = df['pref_C3'].map(\n",
    "                   {'hardcopy':1 ,'eBook':0})\n",
    "\n",
    "df['pref_C4'] = df['pref_C4'].map(\n",
    "                   {'hardcopy':1 ,'eBook':0})\n",
    "\n",
    "df['pref_DE1'] = df['pref_DE1'].map(\n",
    "                   {'hardcopy':1 ,'eBook':0})\n",
    "\n",
    "df['pref_DE2'] = df['pref_DE2'].map(\n",
    "                   {'hardcopy':1 ,'eBook':0})\n",
    "\n",
    "df"
   ]
  },
  {
   "cell_type": "code",
   "execution_count": 12,
   "id": "fe733d87",
   "metadata": {
    "colab": {
     "base_uri": "https://localhost:8080/"
    },
    "id": "fe733d87",
    "outputId": "85d5c91c-e922-42f6-c128-fee5c467c2c4"
   },
   "outputs": [
    {
     "name": "stdout",
     "output_type": "stream",
     "text": [
      "<class 'pandas.core.frame.DataFrame'>\n",
      "Int64Index: 2408 entries, 0 to 2407\n",
      "Data columns (total 15 columns):\n",
      " #   Column         Non-Null Count  Dtype \n",
      "---  ------         --------------  ----- \n",
      " 0   roll_no        2408 non-null   int64 \n",
      " 1   student_name   2408 non-null   object\n",
      " 2   branch/course  2408 non-null   object\n",
      " 3   sdur_C1        2408 non-null   int64 \n",
      " 4   pref_C1        2408 non-null   int64 \n",
      " 5   sdur_C2        2408 non-null   int64 \n",
      " 6   pref_C2        2408 non-null   int64 \n",
      " 7   sdur_C3        2408 non-null   int64 \n",
      " 8   pref_C3        2408 non-null   int64 \n",
      " 9   sdur_C4        2408 non-null   int64 \n",
      " 10  pref_C4        2408 non-null   int64 \n",
      " 11  sdur_DE1       2408 non-null   int64 \n",
      " 12  pref_DE1       2408 non-null   int64 \n",
      " 13  sdur_DE2       2408 non-null   int64 \n",
      " 14  pref_DE2       2408 non-null   int64 \n",
      "dtypes: int64(13), object(2)\n",
      "memory usage: 301.0+ KB\n"
     ]
    }
   ],
   "source": [
    "#visializing information in dataframe\n",
    "df.info()"
   ]
  },
  {
   "cell_type": "markdown",
   "id": "bbb1d344",
   "metadata": {
    "id": "bbb1d344"
   },
   "source": [
    "# Sorting the dataset in terms of roll number"
   ]
  },
  {
   "cell_type": "code",
   "execution_count": 13,
   "id": "78bca205",
   "metadata": {
    "colab": {
     "base_uri": "https://localhost:8080/",
     "height": 609
    },
    "id": "78bca205",
    "outputId": "104f6a5d-b4a3-48a0-f290-7712515592e9"
   },
   "outputs": [
    {
     "data": {
      "text/html": [
       "<div>\n",
       "<style scoped>\n",
       "    .dataframe tbody tr th:only-of-type {\n",
       "        vertical-align: middle;\n",
       "    }\n",
       "\n",
       "    .dataframe tbody tr th {\n",
       "        vertical-align: top;\n",
       "    }\n",
       "\n",
       "    .dataframe thead th {\n",
       "        text-align: right;\n",
       "    }\n",
       "</style>\n",
       "<table border=\"1\" class=\"dataframe\">\n",
       "  <thead>\n",
       "    <tr style=\"text-align: right;\">\n",
       "      <th></th>\n",
       "      <th>roll_no</th>\n",
       "      <th>student_name</th>\n",
       "      <th>branch/course</th>\n",
       "      <th>sdur_C1</th>\n",
       "      <th>pref_C1</th>\n",
       "      <th>sdur_C2</th>\n",
       "      <th>pref_C2</th>\n",
       "      <th>sdur_C3</th>\n",
       "      <th>pref_C3</th>\n",
       "      <th>sdur_C4</th>\n",
       "      <th>pref_C4</th>\n",
       "      <th>sdur_DE1</th>\n",
       "      <th>pref_DE1</th>\n",
       "      <th>sdur_DE2</th>\n",
       "      <th>pref_DE2</th>\n",
       "    </tr>\n",
       "  </thead>\n",
       "  <tbody>\n",
       "    <tr>\n",
       "      <th>252</th>\n",
       "      <td>2005001</td>\n",
       "      <td>ABHINAV KUMAR PANDEY</td>\n",
       "      <td>CSE-19</td>\n",
       "      <td>45</td>\n",
       "      <td>1</td>\n",
       "      <td>50</td>\n",
       "      <td>1</td>\n",
       "      <td>62</td>\n",
       "      <td>1</td>\n",
       "      <td>20</td>\n",
       "      <td>0</td>\n",
       "      <td>44</td>\n",
       "      <td>1</td>\n",
       "      <td>57</td>\n",
       "      <td>1</td>\n",
       "    </tr>\n",
       "    <tr>\n",
       "      <th>86</th>\n",
       "      <td>2005003</td>\n",
       "      <td>ADITI PRASHANT RAI</td>\n",
       "      <td>CSE-10</td>\n",
       "      <td>60</td>\n",
       "      <td>1</td>\n",
       "      <td>32</td>\n",
       "      <td>1</td>\n",
       "      <td>35</td>\n",
       "      <td>1</td>\n",
       "      <td>39</td>\n",
       "      <td>1</td>\n",
       "      <td>44</td>\n",
       "      <td>1</td>\n",
       "      <td>62</td>\n",
       "      <td>1</td>\n",
       "    </tr>\n",
       "    <tr>\n",
       "      <th>583</th>\n",
       "      <td>2005004</td>\n",
       "      <td>ADITYA PRIYA</td>\n",
       "      <td>CSE-19</td>\n",
       "      <td>2</td>\n",
       "      <td>0</td>\n",
       "      <td>45</td>\n",
       "      <td>1</td>\n",
       "      <td>44</td>\n",
       "      <td>1</td>\n",
       "      <td>61</td>\n",
       "      <td>1</td>\n",
       "      <td>39</td>\n",
       "      <td>1</td>\n",
       "      <td>39</td>\n",
       "      <td>1</td>\n",
       "    </tr>\n",
       "    <tr>\n",
       "      <th>364</th>\n",
       "      <td>2005005</td>\n",
       "      <td>ADITYA RAJ</td>\n",
       "      <td>CSE-21</td>\n",
       "      <td>8</td>\n",
       "      <td>0</td>\n",
       "      <td>8</td>\n",
       "      <td>0</td>\n",
       "      <td>1</td>\n",
       "      <td>0</td>\n",
       "      <td>2</td>\n",
       "      <td>0</td>\n",
       "      <td>20</td>\n",
       "      <td>0</td>\n",
       "      <td>18</td>\n",
       "      <td>0</td>\n",
       "    </tr>\n",
       "    <tr>\n",
       "      <th>2255</th>\n",
       "      <td>2005006</td>\n",
       "      <td>AHANA BOSE</td>\n",
       "      <td>CSE-18</td>\n",
       "      <td>10</td>\n",
       "      <td>0</td>\n",
       "      <td>12</td>\n",
       "      <td>1</td>\n",
       "      <td>47</td>\n",
       "      <td>1</td>\n",
       "      <td>45</td>\n",
       "      <td>1</td>\n",
       "      <td>61</td>\n",
       "      <td>1</td>\n",
       "      <td>17</td>\n",
       "      <td>0</td>\n",
       "    </tr>\n",
       "    <tr>\n",
       "      <th>...</th>\n",
       "      <td>...</td>\n",
       "      <td>...</td>\n",
       "      <td>...</td>\n",
       "      <td>...</td>\n",
       "      <td>...</td>\n",
       "      <td>...</td>\n",
       "      <td>...</td>\n",
       "      <td>...</td>\n",
       "      <td>...</td>\n",
       "      <td>...</td>\n",
       "      <td>...</td>\n",
       "      <td>...</td>\n",
       "      <td>...</td>\n",
       "      <td>...</td>\n",
       "      <td>...</td>\n",
       "    </tr>\n",
       "    <tr>\n",
       "      <th>1044</th>\n",
       "      <td>21053066</td>\n",
       "      <td>SUPAYAN DAS</td>\n",
       "      <td>CSE-01</td>\n",
       "      <td>5</td>\n",
       "      <td>0</td>\n",
       "      <td>7</td>\n",
       "      <td>0</td>\n",
       "      <td>10</td>\n",
       "      <td>0</td>\n",
       "      <td>58</td>\n",
       "      <td>1</td>\n",
       "      <td>12</td>\n",
       "      <td>0</td>\n",
       "      <td>12</td>\n",
       "      <td>0</td>\n",
       "    </tr>\n",
       "    <tr>\n",
       "      <th>969</th>\n",
       "      <td>21053067</td>\n",
       "      <td>SUBHANNITA SAHA</td>\n",
       "      <td>CSE-01</td>\n",
       "      <td>12</td>\n",
       "      <td>0</td>\n",
       "      <td>46</td>\n",
       "      <td>1</td>\n",
       "      <td>39</td>\n",
       "      <td>1</td>\n",
       "      <td>5</td>\n",
       "      <td>0</td>\n",
       "      <td>57</td>\n",
       "      <td>1</td>\n",
       "      <td>57</td>\n",
       "      <td>1</td>\n",
       "    </tr>\n",
       "    <tr>\n",
       "      <th>2297</th>\n",
       "      <td>21053068</td>\n",
       "      <td>KOUSTAV DASGUPTA</td>\n",
       "      <td>CSE-16</td>\n",
       "      <td>15</td>\n",
       "      <td>0</td>\n",
       "      <td>10</td>\n",
       "      <td>0</td>\n",
       "      <td>39</td>\n",
       "      <td>1</td>\n",
       "      <td>44</td>\n",
       "      <td>1</td>\n",
       "      <td>20</td>\n",
       "      <td>0</td>\n",
       "      <td>17</td>\n",
       "      <td>0</td>\n",
       "    </tr>\n",
       "    <tr>\n",
       "      <th>2273</th>\n",
       "      <td>21053069</td>\n",
       "      <td>SOTRAJIT DAS</td>\n",
       "      <td>CSE-05</td>\n",
       "      <td>52</td>\n",
       "      <td>1</td>\n",
       "      <td>20</td>\n",
       "      <td>0</td>\n",
       "      <td>17</td>\n",
       "      <td>0</td>\n",
       "      <td>12</td>\n",
       "      <td>0</td>\n",
       "      <td>40</td>\n",
       "      <td>1</td>\n",
       "      <td>47</td>\n",
       "      <td>1</td>\n",
       "    </tr>\n",
       "    <tr>\n",
       "      <th>2269</th>\n",
       "      <td>21053071</td>\n",
       "      <td>ALISHA MOHANTY</td>\n",
       "      <td>CSE-16</td>\n",
       "      <td>6</td>\n",
       "      <td>1</td>\n",
       "      <td>6</td>\n",
       "      <td>1</td>\n",
       "      <td>6</td>\n",
       "      <td>1</td>\n",
       "      <td>6</td>\n",
       "      <td>0</td>\n",
       "      <td>6</td>\n",
       "      <td>0</td>\n",
       "      <td>6</td>\n",
       "      <td>0</td>\n",
       "    </tr>\n",
       "  </tbody>\n",
       "</table>\n",
       "<p>2408 rows × 15 columns</p>\n",
       "</div>"
      ],
      "text/plain": [
       "       roll_no          student_name branch/course  sdur_C1  pref_C1  sdur_C2  \\\n",
       "252    2005001  ABHINAV KUMAR PANDEY        CSE-19       45        1       50   \n",
       "86     2005003    ADITI PRASHANT RAI        CSE-10       60        1       32   \n",
       "583    2005004          ADITYA PRIYA        CSE-19        2        0       45   \n",
       "364    2005005            ADITYA RAJ        CSE-21        8        0        8   \n",
       "2255   2005006            AHANA BOSE        CSE-18       10        0       12   \n",
       "...        ...                   ...           ...      ...      ...      ...   \n",
       "1044  21053066           SUPAYAN DAS        CSE-01        5        0        7   \n",
       "969   21053067       SUBHANNITA SAHA        CSE-01       12        0       46   \n",
       "2297  21053068      KOUSTAV DASGUPTA        CSE-16       15        0       10   \n",
       "2273  21053069          SOTRAJIT DAS        CSE-05       52        1       20   \n",
       "2269  21053071        ALISHA MOHANTY        CSE-16        6        1        6   \n",
       "\n",
       "      pref_C2  sdur_C3  pref_C3  sdur_C4  pref_C4  sdur_DE1  pref_DE1  \\\n",
       "252         1       62        1       20        0        44         1   \n",
       "86          1       35        1       39        1        44         1   \n",
       "583         1       44        1       61        1        39         1   \n",
       "364         0        1        0        2        0        20         0   \n",
       "2255        1       47        1       45        1        61         1   \n",
       "...       ...      ...      ...      ...      ...       ...       ...   \n",
       "1044        0       10        0       58        1        12         0   \n",
       "969         1       39        1        5        0        57         1   \n",
       "2297        0       39        1       44        1        20         0   \n",
       "2273        0       17        0       12        0        40         1   \n",
       "2269        1        6        1        6        0         6         0   \n",
       "\n",
       "      sdur_DE2  pref_DE2  \n",
       "252         57         1  \n",
       "86          62         1  \n",
       "583         39         1  \n",
       "364         18         0  \n",
       "2255        17         0  \n",
       "...        ...       ...  \n",
       "1044        12         0  \n",
       "969         57         1  \n",
       "2297        17         0  \n",
       "2273        47         1  \n",
       "2269         6         0  \n",
       "\n",
       "[2408 rows x 15 columns]"
      ]
     },
     "execution_count": 13,
     "metadata": {},
     "output_type": "execute_result"
    }
   ],
   "source": [
    "#sorting the dataframe w.r.t student roll numbers\n",
    "df = df.sort_values(by ='roll_no')\n",
    "df"
   ]
  },
  {
   "cell_type": "code",
   "execution_count": 14,
   "id": "e3f08627",
   "metadata": {
    "colab": {
     "base_uri": "https://localhost:8080/"
    },
    "id": "e3f08627",
    "outputId": "4e855049-34b8-4b41-db5b-c149f580cdbf"
   },
   "outputs": [
    {
     "data": {
      "text/plain": [
       "(2408, 15)"
      ]
     },
     "execution_count": 14,
     "metadata": {},
     "output_type": "execute_result"
    }
   ],
   "source": [
    "#shape updates\n",
    "df.shape"
   ]
  },
  {
   "cell_type": "markdown",
   "id": "f2886bfb",
   "metadata": {
    "id": "f2886bfb"
   },
   "source": [
    "# Typecasting the entries into appropriate datatypes"
   ]
  },
  {
   "cell_type": "code",
   "execution_count": 15,
   "id": "3820297a",
   "metadata": {
    "id": "3820297a"
   },
   "outputs": [
    {
     "data": {
      "text/html": [
       "<div>\n",
       "<style scoped>\n",
       "    .dataframe tbody tr th:only-of-type {\n",
       "        vertical-align: middle;\n",
       "    }\n",
       "\n",
       "    .dataframe tbody tr th {\n",
       "        vertical-align: top;\n",
       "    }\n",
       "\n",
       "    .dataframe thead th {\n",
       "        text-align: right;\n",
       "    }\n",
       "</style>\n",
       "<table border=\"1\" class=\"dataframe\">\n",
       "  <thead>\n",
       "    <tr style=\"text-align: right;\">\n",
       "      <th></th>\n",
       "      <th>roll_no</th>\n",
       "      <th>student_name</th>\n",
       "      <th>branch/course</th>\n",
       "      <th>sdur_C1</th>\n",
       "      <th>pref_C1</th>\n",
       "      <th>sdur_C2</th>\n",
       "      <th>pref_C2</th>\n",
       "      <th>sdur_C3</th>\n",
       "      <th>pref_C3</th>\n",
       "      <th>sdur_C4</th>\n",
       "      <th>pref_C4</th>\n",
       "      <th>sdur_DE1</th>\n",
       "      <th>pref_DE1</th>\n",
       "      <th>sdur_DE2</th>\n",
       "      <th>pref_DE2</th>\n",
       "    </tr>\n",
       "  </thead>\n",
       "  <tbody>\n",
       "    <tr>\n",
       "      <th>252</th>\n",
       "      <td>2005001</td>\n",
       "      <td>ABHINAV KUMAR PANDEY</td>\n",
       "      <td>CSE-19</td>\n",
       "      <td>45</td>\n",
       "      <td>1</td>\n",
       "      <td>50</td>\n",
       "      <td>1</td>\n",
       "      <td>62</td>\n",
       "      <td>1</td>\n",
       "      <td>20</td>\n",
       "      <td>0</td>\n",
       "      <td>44</td>\n",
       "      <td>1</td>\n",
       "      <td>57</td>\n",
       "      <td>1</td>\n",
       "    </tr>\n",
       "    <tr>\n",
       "      <th>86</th>\n",
       "      <td>2005003</td>\n",
       "      <td>ADITI PRASHANT RAI</td>\n",
       "      <td>CSE-10</td>\n",
       "      <td>60</td>\n",
       "      <td>1</td>\n",
       "      <td>32</td>\n",
       "      <td>1</td>\n",
       "      <td>35</td>\n",
       "      <td>1</td>\n",
       "      <td>39</td>\n",
       "      <td>1</td>\n",
       "      <td>44</td>\n",
       "      <td>1</td>\n",
       "      <td>62</td>\n",
       "      <td>1</td>\n",
       "    </tr>\n",
       "    <tr>\n",
       "      <th>583</th>\n",
       "      <td>2005004</td>\n",
       "      <td>ADITYA PRIYA</td>\n",
       "      <td>CSE-19</td>\n",
       "      <td>2</td>\n",
       "      <td>0</td>\n",
       "      <td>45</td>\n",
       "      <td>1</td>\n",
       "      <td>44</td>\n",
       "      <td>1</td>\n",
       "      <td>61</td>\n",
       "      <td>1</td>\n",
       "      <td>39</td>\n",
       "      <td>1</td>\n",
       "      <td>39</td>\n",
       "      <td>1</td>\n",
       "    </tr>\n",
       "    <tr>\n",
       "      <th>364</th>\n",
       "      <td>2005005</td>\n",
       "      <td>ADITYA RAJ</td>\n",
       "      <td>CSE-21</td>\n",
       "      <td>8</td>\n",
       "      <td>0</td>\n",
       "      <td>8</td>\n",
       "      <td>0</td>\n",
       "      <td>1</td>\n",
       "      <td>0</td>\n",
       "      <td>2</td>\n",
       "      <td>0</td>\n",
       "      <td>20</td>\n",
       "      <td>0</td>\n",
       "      <td>18</td>\n",
       "      <td>0</td>\n",
       "    </tr>\n",
       "    <tr>\n",
       "      <th>2255</th>\n",
       "      <td>2005006</td>\n",
       "      <td>AHANA BOSE</td>\n",
       "      <td>CSE-18</td>\n",
       "      <td>10</td>\n",
       "      <td>0</td>\n",
       "      <td>12</td>\n",
       "      <td>1</td>\n",
       "      <td>47</td>\n",
       "      <td>1</td>\n",
       "      <td>45</td>\n",
       "      <td>1</td>\n",
       "      <td>61</td>\n",
       "      <td>1</td>\n",
       "      <td>17</td>\n",
       "      <td>0</td>\n",
       "    </tr>\n",
       "    <tr>\n",
       "      <th>...</th>\n",
       "      <td>...</td>\n",
       "      <td>...</td>\n",
       "      <td>...</td>\n",
       "      <td>...</td>\n",
       "      <td>...</td>\n",
       "      <td>...</td>\n",
       "      <td>...</td>\n",
       "      <td>...</td>\n",
       "      <td>...</td>\n",
       "      <td>...</td>\n",
       "      <td>...</td>\n",
       "      <td>...</td>\n",
       "      <td>...</td>\n",
       "      <td>...</td>\n",
       "      <td>...</td>\n",
       "    </tr>\n",
       "    <tr>\n",
       "      <th>1044</th>\n",
       "      <td>21053066</td>\n",
       "      <td>SUPAYAN DAS</td>\n",
       "      <td>CSE-01</td>\n",
       "      <td>5</td>\n",
       "      <td>0</td>\n",
       "      <td>7</td>\n",
       "      <td>0</td>\n",
       "      <td>10</td>\n",
       "      <td>0</td>\n",
       "      <td>58</td>\n",
       "      <td>1</td>\n",
       "      <td>12</td>\n",
       "      <td>0</td>\n",
       "      <td>12</td>\n",
       "      <td>0</td>\n",
       "    </tr>\n",
       "    <tr>\n",
       "      <th>969</th>\n",
       "      <td>21053067</td>\n",
       "      <td>SUBHANNITA SAHA</td>\n",
       "      <td>CSE-01</td>\n",
       "      <td>12</td>\n",
       "      <td>0</td>\n",
       "      <td>46</td>\n",
       "      <td>1</td>\n",
       "      <td>39</td>\n",
       "      <td>1</td>\n",
       "      <td>5</td>\n",
       "      <td>0</td>\n",
       "      <td>57</td>\n",
       "      <td>1</td>\n",
       "      <td>57</td>\n",
       "      <td>1</td>\n",
       "    </tr>\n",
       "    <tr>\n",
       "      <th>2297</th>\n",
       "      <td>21053068</td>\n",
       "      <td>KOUSTAV DASGUPTA</td>\n",
       "      <td>CSE-16</td>\n",
       "      <td>15</td>\n",
       "      <td>0</td>\n",
       "      <td>10</td>\n",
       "      <td>0</td>\n",
       "      <td>39</td>\n",
       "      <td>1</td>\n",
       "      <td>44</td>\n",
       "      <td>1</td>\n",
       "      <td>20</td>\n",
       "      <td>0</td>\n",
       "      <td>17</td>\n",
       "      <td>0</td>\n",
       "    </tr>\n",
       "    <tr>\n",
       "      <th>2273</th>\n",
       "      <td>21053069</td>\n",
       "      <td>SOTRAJIT DAS</td>\n",
       "      <td>CSE-05</td>\n",
       "      <td>52</td>\n",
       "      <td>1</td>\n",
       "      <td>20</td>\n",
       "      <td>0</td>\n",
       "      <td>17</td>\n",
       "      <td>0</td>\n",
       "      <td>12</td>\n",
       "      <td>0</td>\n",
       "      <td>40</td>\n",
       "      <td>1</td>\n",
       "      <td>47</td>\n",
       "      <td>1</td>\n",
       "    </tr>\n",
       "    <tr>\n",
       "      <th>2269</th>\n",
       "      <td>21053071</td>\n",
       "      <td>ALISHA MOHANTY</td>\n",
       "      <td>CSE-16</td>\n",
       "      <td>6</td>\n",
       "      <td>1</td>\n",
       "      <td>6</td>\n",
       "      <td>1</td>\n",
       "      <td>6</td>\n",
       "      <td>1</td>\n",
       "      <td>6</td>\n",
       "      <td>0</td>\n",
       "      <td>6</td>\n",
       "      <td>0</td>\n",
       "      <td>6</td>\n",
       "      <td>0</td>\n",
       "    </tr>\n",
       "  </tbody>\n",
       "</table>\n",
       "<p>2408 rows × 15 columns</p>\n",
       "</div>"
      ],
      "text/plain": [
       "       roll_no          student_name branch/course  sdur_C1  pref_C1  sdur_C2  \\\n",
       "252    2005001  ABHINAV KUMAR PANDEY        CSE-19       45        1       50   \n",
       "86     2005003    ADITI PRASHANT RAI        CSE-10       60        1       32   \n",
       "583    2005004          ADITYA PRIYA        CSE-19        2        0       45   \n",
       "364    2005005            ADITYA RAJ        CSE-21        8        0        8   \n",
       "2255   2005006            AHANA BOSE        CSE-18       10        0       12   \n",
       "...        ...                   ...           ...      ...      ...      ...   \n",
       "1044  21053066           SUPAYAN DAS        CSE-01        5        0        7   \n",
       "969   21053067       SUBHANNITA SAHA        CSE-01       12        0       46   \n",
       "2297  21053068      KOUSTAV DASGUPTA        CSE-16       15        0       10   \n",
       "2273  21053069          SOTRAJIT DAS        CSE-05       52        1       20   \n",
       "2269  21053071        ALISHA MOHANTY        CSE-16        6        1        6   \n",
       "\n",
       "      pref_C2  sdur_C3  pref_C3  sdur_C4  pref_C4  sdur_DE1  pref_DE1  \\\n",
       "252         1       62        1       20        0        44         1   \n",
       "86          1       35        1       39        1        44         1   \n",
       "583         1       44        1       61        1        39         1   \n",
       "364         0        1        0        2        0        20         0   \n",
       "2255        1       47        1       45        1        61         1   \n",
       "...       ...      ...      ...      ...      ...       ...       ...   \n",
       "1044        0       10        0       58        1        12         0   \n",
       "969         1       39        1        5        0        57         1   \n",
       "2297        0       39        1       44        1        20         0   \n",
       "2273        0       17        0       12        0        40         1   \n",
       "2269        1        6        1        6        0         6         0   \n",
       "\n",
       "      sdur_DE2  pref_DE2  \n",
       "252         57         1  \n",
       "86          62         1  \n",
       "583         39         1  \n",
       "364         18         0  \n",
       "2255        17         0  \n",
       "...        ...       ...  \n",
       "1044        12         0  \n",
       "969         57         1  \n",
       "2297        17         0  \n",
       "2273        47         1  \n",
       "2269         6         0  \n",
       "\n",
       "[2408 rows x 15 columns]"
      ]
     },
     "execution_count": 15,
     "metadata": {},
     "output_type": "execute_result"
    }
   ],
   "source": [
    "#converting roll numbers to int from float\n",
    "df[\"roll_no\"] = df[\"roll_no\"].astype(float).astype(int)\n",
    "df"
   ]
  },
  {
   "cell_type": "markdown",
   "id": "e708aa6c",
   "metadata": {
    "id": "e708aa6c"
   },
   "source": [
    "# Performing price and mass related computations"
   ]
  },
  {
   "cell_type": "code",
   "execution_count": 16,
   "id": "04e9f0d3",
   "metadata": {
    "id": "04e9f0d3"
   },
   "outputs": [],
   "source": [
    "#material (hardcopy) prices in Rupees\n",
    "\n",
    "#Fundamentals of Software Engineering - Rajib Mall\n",
    "hc_price_SE = 595.00\n",
    "\n",
    "#Fundamentals of Computer Algorithm - Ellis Horowitz, S. Sahni and S. Rajasekaran\n",
    "hc_price_DAA = 450.00\n",
    "\n",
    "#Computer Architecture - J.L. Hennessy and D.A. Patterson\n",
    "hc_price_HPC = 599.00\n",
    "\n",
    "#Computer Networks : A Top-Down Approach - B.A. Forouzan and F. Mosharraf\n",
    "hc_price_CN = 1358.00\n",
    "\n",
    "#Artificial Intelligence: A Modern Approach - S. Russell and P. Norvig\n",
    "hc_price_DE1 = 950.00\n",
    "\n",
    "#Big Data: Black Book\n",
    "hc_price_DE2 = 999.00"
   ]
  },
  {
   "cell_type": "code",
   "execution_count": 17,
   "id": "e2077b40",
   "metadata": {
    "colab": {
     "base_uri": "https://localhost:8080/",
     "height": 350
    },
    "id": "e2077b40",
    "outputId": "d1134dc6-2a2e-409d-c1d4-af34bb598abd"
   },
   "outputs": [
    {
     "data": {
      "image/png": "[encoded data removed]",
      "text/plain": [
       "<Figure size 1000x500 with 1 Axes>"
      ]
     },
     "metadata": {},
     "output_type": "display_data"
    }
   ],
   "source": [
    "data = {'SE':hc_price_SE,\n",
    "        'DAA':hc_price_DAA,\n",
    "        'HPC':hc_price_HPC,\n",
    "        'CN':hc_price_CN,\n",
    "        'DE1':hc_price_DE1,\n",
    "        'DE2':hc_price_DE2}\n",
    "\n",
    "subjects = list(data.keys())\n",
    "values = list(data.values())\n",
    "  \n",
    "fig = plt.figure(figsize = (10, 5))\n",
    " \n",
    "# creating the bar plot\n",
    "plt.bar(subjects, values, color ='green',\n",
    "        width = 0.4)\n",
    " \n",
    "plt.xlabel(\"Subject Material Names\")\n",
    "plt.ylabel(\"Hardcopy Price (in Rs.)\")\n",
    "plt.title(\"Market price of materials (Hardcopy)\")\n",
    "plt.show()"
   ]
  },
  {
   "cell_type": "code",
   "execution_count": 18,
   "id": "cdd755ec",
   "metadata": {
    "id": "cdd755ec"
   },
   "outputs": [],
   "source": [
    "#material (eBook) prices in Rupees\n",
    "\n",
    "#Fundamentals of Software Engineering - Rajib Mall\n",
    "sc_price_SE = 0.00 #source: www.researchgate.net\n",
    "\n",
    "#Fundamentals of Computer Algorithm - Ellis Horowitz, S. Sahni and S. Rajasekaran\n",
    "sc_price_DAA = 0.00 #source: z-lib.org\n",
    "\n",
    "#Computer Architecture - J.L. Hennessy and D.A. Patterson\n",
    "sc_price_HPC = 99.00 #source: Amazon-Kindle Edition\n",
    "\n",
    "#Computer Networks : A Top-Down Approach - B.A. Forouzan and F. Mosharraf\n",
    "sc_price_CN = 199.00 #Source: Amazon-Kindle Edition\n",
    "\n",
    "#Artificial Intelligence: A Modern Approach - S. Russell and P. Norvig\n",
    "sc_price_DE1 = 00.00 \n",
    "\n",
    "#Big Data: Black Book\n",
    "sc_price_DE2 = 00.00"
   ]
  },
  {
   "cell_type": "code",
   "execution_count": 19,
   "id": "d5d2f951",
   "metadata": {
    "colab": {
     "base_uri": "https://localhost:8080/",
     "height": 350
    },
    "id": "d5d2f951",
    "outputId": "efd6b352-a7c5-4275-80ca-f9de761355f0"
   },
   "outputs": [
    {
     "data": {
      "image/png": "[encoded data removed]",
      "text/plain": [
       "<Figure size 1000x500 with 1 Axes>"
      ]
     },
     "metadata": {},
     "output_type": "display_data"
    }
   ],
   "source": [
    "data = {'SE':sc_price_SE,\n",
    "        'DAA':sc_price_DAA,\n",
    "        'HPC':sc_price_HPC,\n",
    "        'CN':sc_price_CN,\n",
    "        'DE1':sc_price_DE1,\n",
    "        'DE2':sc_price_DE2}\n",
    "\n",
    "subjects1 = list(data.keys())\n",
    "values1 = list(data.values())\n",
    "  \n",
    "fig = plt.figure(figsize = (10, 5))\n",
    " \n",
    "# creating the bar plot\n",
    "plt.bar(subjects1, values1, color ='blue',\n",
    "        width = 0.4)\n",
    " \n",
    "plt.xlabel(\"Subject Material Names\")\n",
    "plt.ylabel(\"eBook Price (in Rs.)\")\n",
    "plt.title(\"Market price of materials (eBook)\")\n",
    "plt.show()"
   ]
  },
  {
   "cell_type": "code",
   "execution_count": 20,
   "id": "88f6e529",
   "metadata": {
    "id": "88f6e529"
   },
   "outputs": [
    {
     "name": "stdout",
     "output_type": "stream",
     "text": [
      "964\n",
      "1444\n"
     ]
    }
   ],
   "source": [
    "#counting the preferences for each subject\n",
    "no_sc_SE = (df['pref_C1'] == 0).sum()\n",
    "no_hc_SE = (df['pref_C1'] == 1).sum()\n",
    "\n",
    "no_sc_DAA = (df['pref_C2'] == 0).sum()\n",
    "no_hc_DAA = (df['pref_C2'] == 1).sum()\n",
    "\n",
    "no_sc_HPC = (df['pref_C3'] == 0).sum()\n",
    "no_hc_HPC = (df['pref_C3'] == 1).sum()\n",
    "\n",
    "no_sc_CN = (df['pref_C4'] == 0).sum()\n",
    "no_hc_CN = (df['pref_C4'] == 1).sum()\n",
    "print(no_sc_CN)\n",
    "print(no_hc_CN)\n",
    "no_sc_DE1 = (df['pref_DE1'] == 0).sum()\n",
    "no_hc_DE1 = (df['pref_DE1'] == 1).sum()\n",
    "\n",
    "no_sc_DE2 = (df['pref_DE2'] == 0).sum()\n",
    "no_hc_DE2 = (df['pref_DE2'] == 1).sum()"
   ]
  },
  {
   "cell_type": "code",
   "execution_count": 21,
   "id": "87cafd5f",
   "metadata": {
    "colab": {
     "base_uri": "https://localhost:8080/",
     "height": 295
    },
    "id": "87cafd5f",
    "outputId": "2d20a951-6fe8-4b44-a107-29a2142cb96a"
   },
   "outputs": [
    {
     "data": {
      "image/png": "[encoded data removed]",
      "text/plain": [
       "<Figure size 640x480 with 1 Axes>"
      ]
     },
     "metadata": {},
     "output_type": "display_data"
    }
   ],
   "source": [
    "X = ['SE','DAA','HPC','CN','DE1','DE2']\n",
    "eBook = [no_sc_SE, no_sc_DAA, no_sc_HPC, no_sc_CN, no_sc_DE1, no_sc_DE2]\n",
    "Hardcopy = [no_hc_SE, no_hc_DAA, no_hc_HPC, no_hc_CN, no_hc_DE1, no_hc_DE2]\n",
    "  \n",
    "X_axis = np.arange(len(X))\n",
    "  \n",
    "plt.bar(X_axis - 0.2, eBook, 0.4, label = 'eBook')\n",
    "plt.bar(X_axis + 0.2, Hardcopy, 0.4, label = 'Hardcopy')\n",
    "  \n",
    "plt.xticks(X_axis, X)\n",
    "plt.xlabel(\"Engineering (5th sem) study materials\")\n",
    "plt.ylabel(\"Quantity of materials\")\n",
    "plt.title(\"Subject wise material preferences (Hardcopy/eBook)\")\n",
    "plt.legend()\n",
    "plt.show()"
   ]
  },
  {
   "cell_type": "code",
   "execution_count": 22,
   "id": "5668f616",
   "metadata": {
    "id": "5668f616"
   },
   "outputs": [],
   "source": [
    "#calculation of savings\n",
    "\n",
    "saving_SE = (no_hc_SE * hc_price_SE) - (no_sc_SE * sc_price_SE)\n",
    "\n",
    "saving_DAA = (no_hc_DAA * hc_price_DAA) - (no_sc_DAA * sc_price_DAA)\n",
    "\n",
    "saving_HPC = (no_hc_HPC * hc_price_HPC) - (no_sc_HPC * sc_price_HPC)\n",
    "\n",
    "saving_CN = (no_hc_CN * hc_price_CN) - (no_sc_CN * sc_price_CN)\n",
    "\n",
    "saving_DE1 = (no_hc_DE1 * hc_price_DE1) - (no_sc_DE1 * sc_price_DE1)\n",
    "\n",
    "saving_DE2 = (no_hc_DE2 * hc_price_DE2) - (no_sc_DE2 * sc_price_DE2)"
   ]
  },
  {
   "cell_type": "code",
   "execution_count": 23,
   "id": "0734d267",
   "metadata": {
    "colab": {
     "base_uri": "https://localhost:8080/"
    },
    "id": "0734d267",
    "outputId": "b6e43c3f-d511-4372-edf8-3f729c0b896c"
   },
   "outputs": [
    {
     "name": "stdout",
     "output_type": "stream",
     "text": [
      "Savings in Software Engineering: Rs. 853230\n",
      "\n",
      "Savings in Design and Analysis of Algorithms: Rs. 683100\n",
      "\n",
      "Savings in High Performance Computing: Rs. 795346\n",
      "\n",
      "Savings in Computer Networks: Rs. 1769116\n",
      "\n",
      "Savings in DE1(Artificial Intelligence): Rs. 1354700\n",
      "\n",
      "Savings in DE2(Big Data): Rs. 1419579\n"
     ]
    }
   ],
   "source": [
    "print(\"Savings in Software Engineering: Rs.\", round(saving_SE))\n",
    "print(\"\\nSavings in Design and Analysis of Algorithms: Rs.\", round(saving_DAA))\n",
    "print(\"\\nSavings in High Performance Computing: Rs.\", round(saving_HPC))\n",
    "print(\"\\nSavings in Computer Networks: Rs.\", round(saving_CN))\n",
    "print(\"\\nSavings in DE1(Artificial Intelligence): Rs.\", round(saving_DE1))\n",
    "print(\"\\nSavings in DE2(Big Data): Rs.\", round(saving_DE2))"
   ]
  },
  {
   "cell_type": "code",
   "execution_count": 24,
   "id": "a7440440",
   "metadata": {
    "colab": {
     "base_uri": "https://localhost:8080/"
    },
    "id": "a7440440",
    "outputId": "a276aa01-7502-455f-ef31-a6986ac98b49"
   },
   "outputs": [
    {
     "name": "stdout",
     "output_type": "stream",
     "text": [
      "Percentage savings (Software Engineering): 100.0 %\n",
      "\n",
      "Percentage savings (Design and Analysis of Algorithms): 100.0 %\n",
      "\n",
      "Percentage savings (High Performance Computing): 89.65493919079628 %\n",
      "\n",
      "Percentage savings (Computer Networks): 90.21720062500255 %\n",
      "\n",
      "Percentage savings (DE1 [Artificial Intelligence]): 100.0 %\n",
      "\n",
      "Percentage savings (DE2 [Big Data]): 100.0 %\n"
     ]
    }
   ],
   "source": [
    "#percentage savings per subject\n",
    "print(\"Percentage savings (Software Engineering):\", (saving_SE/(no_hc_SE * hc_price_SE))*100,\"%\")\n",
    "print(\"\\nPercentage savings (Design and Analysis of Algorithms):\", (saving_DAA/(no_hc_DAA * hc_price_DAA))*100,\"%\")\n",
    "print(\"\\nPercentage savings (High Performance Computing):\", (saving_HPC/(no_hc_HPC * hc_price_HPC))*100,\"%\")\n",
    "print(\"\\nPercentage savings (Computer Networks):\", (saving_CN/(no_hc_CN * hc_price_CN))*100,\"%\")\n",
    "print(\"\\nPercentage savings (DE1 [Artificial Intelligence]):\", (saving_DE1/(no_hc_DE1 * hc_price_DE1))*100,\"%\")\n",
    "print(\"\\nPercentage savings (DE2 [Big Data]):\", (saving_DE2/(no_hc_DE2 * hc_price_DE2))*100,\"%\")"
   ]
  },
  {
   "cell_type": "code",
   "execution_count": 25,
   "id": "656cebfe",
   "metadata": {
    "colab": {
     "base_uri": "https://localhost:8080/",
     "height": 350
    },
    "id": "656cebfe",
    "outputId": "1d1f260b-8b83-413e-dcf1-b2a544c2f0d4"
   },
   "outputs": [
    {
     "data": {
      "image/png": "[encoded data removed]",
      "text/plain": [
       "<Figure size 800x400 with 1 Axes>"
      ]
     },
     "metadata": {},
     "output_type": "display_data"
    }
   ],
   "source": [
    "data = {'SE':(saving_SE/(no_hc_SE * hc_price_SE))*100,\n",
    "        'DAA':(saving_DAA/(no_hc_DAA * hc_price_DAA))*100,\n",
    "        'HPC':(saving_HPC/(no_hc_HPC * hc_price_HPC))*100,\n",
    "        'CN':(saving_CN/(no_hc_CN * hc_price_CN))*100,\n",
    "        'DE1':(saving_DE1/(no_hc_DE1 * hc_price_DE1))*100,\n",
    "        'DE2':(saving_DE2/(no_hc_DE2 * hc_price_DE2))*100}\n",
    "\n",
    "subjects2 = list(data.keys())\n",
    "values2 = list(data.values())\n",
    "  \n",
    "fig = plt.figure(figsize = (8, 4))\n",
    " \n",
    "# creating the bar plot\n",
    "plt.bar(subjects2, values2, color ='maroon',\n",
    "        width = 0.4)\n",
    " \n",
    "plt.xlabel(\"Subject Names\")\n",
    "plt.ylabel(\"Percentage Savings (in Rs.)\")\n",
    "plt.title(\"Subject wise %age savings in study materials\")\n",
    "plt.show()"
   ]
  },
  {
   "cell_type": "code",
   "execution_count": 26,
   "id": "ace6f883",
   "metadata": {
    "colab": {
     "base_uri": "https://localhost:8080/"
    },
    "id": "ace6f883",
    "outputId": "eeaf786f-152a-4143-9e92-1a5ca85fd46a"
   },
   "outputs": [
    {
     "name": "stdout",
     "output_type": "stream",
     "text": [
      "Total savings = 96.64535663596648 % = 97 %\n"
     ]
    }
   ],
   "source": [
    "#computing total percentage savings\n",
    "ultimate_savings_per = (((saving_SE/(no_hc_SE * hc_price_SE))*100)+\n",
    "                    ((saving_DAA/(no_hc_DAA * hc_price_DAA))*100)+\n",
    "                    ((saving_HPC/(no_hc_HPC * hc_price_HPC))*100)+\n",
    "                    ((saving_CN/(no_hc_CN * hc_price_CN))*100)+\n",
    "                    ((saving_DE1/(no_hc_DE1 * hc_price_DE1))*100)+\n",
    "                    ((saving_DE2/(no_hc_DE2 * hc_price_DE2))*100))/6\n",
    "\n",
    "print(\"Total savings =\",ultimate_savings_per,\"% =\", round(ultimate_savings_per),\"%\")"
   ]
  },
  {
   "cell_type": "code",
   "execution_count": 27,
   "id": "73f561f2",
   "metadata": {
    "colab": {
     "base_uri": "https://localhost:8080/"
    },
    "id": "73f561f2",
    "outputId": "f56c76eb-8268-49af-a293-b836a7ad1644"
   },
   "outputs": [
    {
     "name": "stdout",
     "output_type": "stream",
     "text": [
      "Total estimated savings: Rs. 6875071\n"
     ]
    }
   ],
   "source": [
    "#total savings for 6th semester\n",
    "total_savings = (saving_SE\n",
    "                +saving_DAA\n",
    "                +saving_HPC\n",
    "                +saving_CN\n",
    "                +saving_DE1\n",
    "                +saving_DE2)\n",
    "\n",
    "print(\"Total estimated savings: Rs.\", round(total_savings))"
   ]
  },
  {
   "cell_type": "code",
   "execution_count": 28,
   "id": "dee45495",
   "metadata": {
    "id": "dee45495"
   },
   "outputs": [],
   "source": [
    "#computing the paper savings (in grams)\n",
    "#Source: Amazon.in\n",
    "\n",
    "#Fundamentals of Software Engineering - Rajib Mall\n",
    "w_SE = 550\n",
    "\n",
    "#Fundamentals of Computer Algorithm - Ellis Horowitz, S. Sahni and S. Rajasekaran\n",
    "w_DAA = 740\n",
    "\n",
    "#Computer Architecture - J.L. Hennessy and D.A. Patterson\n",
    "w_HPC = 690\n",
    "\n",
    "#Computer Networks : A Top-Down Approach - B.A. Forouzan and F. Mosharraf\n",
    "w_CN = 1560\n",
    "\n",
    "#Artificial Intelligence: A Modern Approach - S. Russell and P. Norvig\n",
    "w_DE1 = 2287\n",
    "\n",
    "#Big Data: Black Book\n",
    "w_DE2 = 700"
   ]
  },
  {
   "cell_type": "code",
   "execution_count": 29,
   "id": "fe2cb14e",
   "metadata": {
    "colab": {
     "base_uri": "https://localhost:8080/",
     "height": 350
    },
    "id": "fe2cb14e",
    "outputId": "fd88fb18-cd36-4543-9f7e-86bc469d5230"
   },
   "outputs": [
    {
     "data": {
      "image/png": "[encoded data removed]",
      "text/plain": [
       "<Figure size 1000x500 with 1 Axes>"
      ]
     },
     "metadata": {},
     "output_type": "display_data"
    }
   ],
   "source": [
    "data = {'SE':w_SE/1000,\n",
    "        'DAA':w_DAA/1000,\n",
    "        'HPC':w_HPC/1000,\n",
    "        'CN':w_CN/1000,\n",
    "        'DE1':w_DE1/1000,\n",
    "        'DE2':w_DE2/1000}\n",
    "\n",
    "book = list(data.keys())\n",
    "weight = list(data.values())\n",
    "  \n",
    "fig = plt.figure(figsize = (10, 5))\n",
    " \n",
    "# creating the bar plot\n",
    "plt.bar(book, weight, color ='blue',\n",
    "        width = 0.4)\n",
    " \n",
    "plt.xlabel(\"Subject Material Names\")\n",
    "plt.ylabel(\"Weight (in kg)\")\n",
    "plt.title(\"Subject material names as per their respective weights per piece\")\n",
    "plt.show()"
   ]
  },
  {
   "cell_type": "code",
   "execution_count": 30,
   "id": "8b7ed4c4",
   "metadata": {
    "colab": {
     "base_uri": "https://localhost:8080/"
    },
    "id": "8b7ed4c4",
    "outputId": "b5ef75eb-d489-4781-eb45-9fb33db5cc6e"
   },
   "outputs": [
    {
     "name": "stdout",
     "output_type": "stream",
     "text": [
      "Total weight = 9442512 gms = 9442.512 Kg = 9.442512 Tonnes\n"
     ]
    }
   ],
   "source": [
    "#computing the total weight of papers (in Online mode)\n",
    "\n",
    "w_SE_total = w_SE*no_hc_SE\n",
    "\n",
    "w_DAA_total = w_DAA*no_hc_DAA\n",
    "\n",
    "w_HPC_total = w_HPC*no_hc_HPC\n",
    "\n",
    "w_CN_total = w_CN*no_hc_CN\n",
    "\n",
    "w_DE1_total = w_DE1*no_hc_DE1\n",
    "\n",
    "w_DE2_total = w_DE2*no_hc_DE2\n",
    "\n",
    "w_total = w_SE_total+w_DAA_total+w_HPC_total+w_CN_total+w_DE1_total+w_DE2_total\n",
    "\n",
    "print(\"Total weight =\",w_total,\"gms =\",w_total/1000,\"Kg =\",(w_total/1000)/1000,\"Tonnes\")"
   ]
  },
  {
   "cell_type": "code",
   "execution_count": 31,
   "id": "61a857db",
   "metadata": {
    "colab": {
     "base_uri": "https://localhost:8080/",
     "height": 350
    },
    "id": "61a857db",
    "outputId": "a39db49d-dfee-4386-9aac-6f5b79bc2854"
   },
   "outputs": [
    {
     "data": {
      "image/png": "[encoded data removed]",
      "text/plain": [
       "<Figure size 1000x500 with 1 Axes>"
      ]
     },
     "metadata": {},
     "output_type": "display_data"
    }
   ],
   "source": [
    "data = {'SE':w_SE_total/1000,\n",
    "        'DAA':w_DAA_total/1000,\n",
    "        'HPC':w_HPC_total/1000,\n",
    "        'CN':w_CN_total/1000,\n",
    "        'DE1':w_DE1_total/1000,\n",
    "        'DE2':w_DE2_total/1000}\n",
    "\n",
    "book_t = list(data.keys())\n",
    "weight_t = list(data.values())\n",
    "  \n",
    "fig = plt.figure(figsize = (10, 5))\n",
    " \n",
    "# creating the bar plot\n",
    "plt.bar(book_t, weight_t, color ='magenta',\n",
    "        width = 0.4)\n",
    " \n",
    "plt.xlabel(\"Subject Material Names\")\n",
    "plt.ylabel(\"Weight (in kg)\")\n",
    "plt.title(\"Total subject wise weights of all the purchased materials\")\n",
    "plt.show()"
   ]
  },
  {
   "cell_type": "code",
   "execution_count": 32,
   "id": "1b1947b2",
   "metadata": {
    "colab": {
     "base_uri": "https://localhost:8080/"
    },
    "id": "1b1947b2",
    "outputId": "5879bcfa-3841-4928-c688-5b432795bac5"
   },
   "outputs": [
    {
     "name": "stdout",
     "output_type": "stream",
     "text": [
      "total courier charges (Online est.) = 897038.64 = 897039 Rupees\n"
     ]
    }
   ],
   "source": [
    "#courier delivery charges (in Rupees) per kg in India (Source: www.DTDC.in)\n",
    "courier_charges = 95\n",
    "\n",
    "total_charge = courier_charges*(w_total/1000)\n",
    "\n",
    "print(\"total courier charges (Online est.) =\",total_charge,\"=\",round(total_charge),\"Rupees\")"
   ]
  },
  {
   "cell_type": "code",
   "execution_count": 33,
   "id": "107b4543",
   "metadata": {
    "colab": {
     "base_uri": "https://localhost:8080/"
    },
    "id": "107b4543",
    "outputId": "38fec8a8-714a-4af6-eddd-057ff42755de"
   },
   "outputs": [
    {
     "name": "stdout",
     "output_type": "stream",
     "text": [
      "Total weight = 18167304 gms = 18167.304 Kg = 18.167304 Tonnes\n"
     ]
    }
   ],
   "source": [
    "#computing the total weight of papers (in conventional Offline mode) assuming pre-Corona times.\n",
    "\n",
    "w_SE_total1 = w_SE*no_hc_SE+w_SE*no_sc_SE\n",
    "\n",
    "w_DAA_total1 = w_DAA*no_hc_DAA+w_DAA*no_sc_DAA\n",
    "\n",
    "w_HPC_total1 = w_HPC*no_hc_HPC+w_HPC*no_hc_HPC\n",
    "\n",
    "w_CN_total1 = w_CN*no_hc_CN+w_CN*no_hc_CN\n",
    "\n",
    "w_DE1_total1 = w_DE1*no_hc_DE1+w_DE1*no_hc_DE1\n",
    "\n",
    "w_DE2_total1 = w_DE2*no_hc_DE2+w_DE2*no_hc_DE2\n",
    "\n",
    "w_total1 = w_SE_total1+w_DAA_total1+w_HPC_total1+w_CN_total1+w_DE1_total1+w_DE2_total1\n",
    "\n",
    "print(\"Total weight =\",w_total1,\"gms =\",w_total1/1000,\"Kg =\",(w_total1/1000)/1000,\"Tonnes\")"
   ]
  },
  {
   "cell_type": "code",
   "execution_count": 34,
   "id": "503302c7",
   "metadata": {
    "colab": {
     "base_uri": "https://localhost:8080/",
     "height": 350
    },
    "id": "503302c7",
    "outputId": "fd5418b0-2712-4f43-f1f1-128282502718"
   },
   "outputs": [
    {
     "data": {
      "image/png": "[encoded data removed]",
      "text/plain": [
       "<Figure size 1000x500 with 1 Axes>"
      ]
     },
     "metadata": {},
     "output_type": "display_data"
    }
   ],
   "source": [
    "data = {'SE':w_SE_total1/1000,\n",
    "        'DAA':w_DAA_total1/1000,\n",
    "        'HPC':w_HPC_total1/1000,\n",
    "        'CN':w_CN_total1/1000,\n",
    "        'DE1':w_DE1_total1/1000,\n",
    "        'DE2':w_DE2_total1/1000}\n",
    "\n",
    "book_t1 = list(data.keys())\n",
    "weight_t1 = list(data.values())\n",
    "  \n",
    "fig = plt.figure(figsize = (10, 5))\n",
    " \n",
    "# creating the bar plot\n",
    "plt.bar(book_t1, weight_t1, color ='purple',\n",
    "        width = 0.4)\n",
    " \n",
    "plt.xlabel(\"Subject Material Names\")\n",
    "plt.ylabel(\"Weight (in kg)\")\n",
    "plt.title(\"Total subject wise weights (Hardcopies and eBooks combined)\")\n",
    "plt.show()"
   ]
  },
  {
   "cell_type": "code",
   "execution_count": 35,
   "id": "568b11d1",
   "metadata": {
    "colab": {
     "base_uri": "https://localhost:8080/"
    },
    "id": "568b11d1",
    "outputId": "690336c4-657a-4be4-c4f1-145c1cb2715d"
   },
   "outputs": [
    {
     "name": "stdout",
     "output_type": "stream",
     "text": [
      "total courier charges (Offline est.) = 1725893.8800000001 = 1725894 Rupees\n"
     ]
    }
   ],
   "source": [
    "#courier delivery charges (in Rupees) per kg in India (Source: www.DTDC.in)\n",
    "\n",
    "total_charge1 = courier_charges*(w_total1/1000)\n",
    "\n",
    "print(\"total courier charges (Offline est.) =\",total_charge1,\"=\",round(total_charge1),\"Rupees\")"
   ]
  },
  {
   "cell_type": "code",
   "execution_count": 36,
   "id": "eda6a7d2",
   "metadata": {
    "colab": {
     "base_uri": "https://localhost:8080/"
    },
    "id": "eda6a7d2",
    "outputId": "e8f20b9f-9e51-4fec-b8b7-2bfaa0100c81"
   },
   "outputs": [
    {
     "name": "stdout",
     "output_type": "stream",
     "text": [
      "Rs. 828855.2400000001 /-\n"
     ]
    }
   ],
   "source": [
    "#total savings in courier delivery charges\n",
    "print(\"Rs.\",total_charge1-total_charge,\"/-\")"
   ]
  },
  {
   "cell_type": "code",
   "execution_count": 37,
   "id": "d22c847d",
   "metadata": {
    "colab": {
     "base_uri": "https://localhost:8080/"
    },
    "id": "d22c847d",
    "outputId": "fd8bfc3c-9496-4583-a999-427d79510f5e"
   },
   "outputs": [
    {
     "name": "stdout",
     "output_type": "stream",
     "text": [
      "Papers saved: 8.724791999999999 Tonnes\n"
     ]
    }
   ],
   "source": [
    "#total paper savings\n",
    "print(\"Papers saved:\",((w_total1-w_total)/1000)/1000,\"Tonnes\")"
   ]
  },
  {
   "cell_type": "code",
   "execution_count": 38,
   "id": "c60548ef",
   "metadata": {
    "colab": {
     "base_uri": "https://localhost:8080/",
     "height": 248
    },
    "id": "c60548ef",
    "outputId": "6b627d00-8ad7-457d-9aa4-15f701ccfe86"
   },
   "outputs": [
    {
     "data": {
      "image/png": "[encoded data removed]",
      "text/plain": [
       "<Figure size 640x480 with 1 Axes>"
      ]
     },
     "metadata": {},
     "output_type": "display_data"
    }
   ],
   "source": [
    "y = np.array([total_charge1, total_charge])\n",
    "# or y = np.array([w_total1, w_total])\n",
    "mylabels = [\"Pre-Covid\", \"Post-Covid\"]\n",
    "\n",
    "plt.pie(y, labels = mylabels, startangle = 90)\n",
    "plt.show() "
   ]
  },
  {
   "cell_type": "markdown",
   "id": "b5a73005",
   "metadata": {
    "id": "b5a73005"
   },
   "source": [
    "# Scatter plot for subjectwise student data"
   ]
  },
  {
   "cell_type": "code",
   "execution_count": 39,
   "id": "4ee67d7c",
   "metadata": {
    "colab": {
     "base_uri": "https://localhost:8080/",
     "height": 313
    },
    "id": "4ee67d7c",
    "outputId": "90c2357e-9e06-460f-8ef7-b9da4466b39f"
   },
   "outputs": [
    {
     "data": {
      "text/plain": [
       "Text(0, 0.5, '0: eBook, 1: Hardcopy')"
      ]
     },
     "execution_count": 39,
     "metadata": {},
     "output_type": "execute_result"
    },
    {
     "data": {
      "image/png": "[encoded data removed]",
      "text/plain": [
       "<Figure size 640x480 with 1 Axes>"
      ]
     },
     "metadata": {},
     "output_type": "display_data"
    }
   ],
   "source": [
    "plt.scatter(df.sdur_C1, df.pref_C1, marker = '+', color = 'red')\n",
    "plt.title('Software Engineering')\n",
    "plt.xlabel('Monthly Study Duration (in hours)')\n",
    "plt.ylabel('0: eBook, 1: Hardcopy')"
   ]
  },
  {
   "cell_type": "code",
   "execution_count": 40,
   "id": "19de7b04",
   "metadata": {
    "colab": {
     "base_uri": "https://localhost:8080/",
     "height": 313
    },
    "id": "19de7b04",
    "outputId": "c10fa656-dc79-4120-8818-9f0dec6924fb"
   },
   "outputs": [
    {
     "data": {
      "text/plain": [
       "Text(0, 0.5, '0: eBook, 1: Hardcopy')"
      ]
     },
     "execution_count": 40,
     "metadata": {},
     "output_type": "execute_result"
    },
    {
     "data": {
      "image/png": "[encoded data removed]",
      "text/plain": [
       "<Figure size 640x480 with 1 Axes>"
      ]
     },
     "metadata": {},
     "output_type": "display_data"
    }
   ],
   "source": [
    "plt.scatter(df.sdur_C2, df.pref_C2, marker = '+', color = 'green')\n",
    "plt.title('Design and Analysis of Algorithm')\n",
    "plt.xlabel('Monthly Study Duration (in hours)')\n",
    "plt.ylabel('0: eBook, 1: Hardcopy')"
   ]
  },
  {
   "cell_type": "code",
   "execution_count": 41,
   "id": "f8f60917",
   "metadata": {
    "colab": {
     "base_uri": "https://localhost:8080/",
     "height": 313
    },
    "id": "f8f60917",
    "outputId": "8a3b11a9-f404-4087-b023-a679ed7d9ddc"
   },
   "outputs": [
    {
     "data": {
      "text/plain": [
       "Text(0, 0.5, '0: eBook, 1: Hardcopy')"
      ]
     },
     "execution_count": 41,
     "metadata": {},
     "output_type": "execute_result"
    },
    {
     "data": {
      "image/png": "[encoded data removed]",
      "text/plain": [
       "<Figure size 640x480 with 1 Axes>"
      ]
     },
     "metadata": {},
     "output_type": "display_data"
    }
   ],
   "source": [
    "plt.scatter(df.sdur_C3, df.pref_C3, marker = '+', color = 'blue')\n",
    "plt.title('High Performance Computing')\n",
    "plt.xlabel('Monthly Study Duration (in hours)')\n",
    "plt.ylabel('0: eBook, 1: Hardcopy')"
   ]
  },
  {
   "cell_type": "code",
   "execution_count": 42,
   "id": "fd8017c3",
   "metadata": {
    "colab": {
     "base_uri": "https://localhost:8080/",
     "height": 313
    },
    "id": "fd8017c3",
    "outputId": "0fc6ef91-98ce-4355-b586-ef57f08e3a18"
   },
   "outputs": [
    {
     "data": {
      "text/plain": [
       "Text(0, 0.5, '0: eBook, 1: Hardcopy')"
      ]
     },
     "execution_count": 42,
     "metadata": {},
     "output_type": "execute_result"
    },
    {
     "data": {
      "image/png": "[encoded data removed]",
      "text/plain": [
       "<Figure size 640x480 with 1 Axes>"
      ]
     },
     "metadata": {},
     "output_type": "display_data"
    }
   ],
   "source": [
    "plt.scatter(df.sdur_C4, df.pref_C4, marker = '+', color = 'brown')\n",
    "plt.title('Computer Networks')\n",
    "plt.xlabel('Monthly Study Duration (in hours)')\n",
    "plt.ylabel('0: eBook, 1: Hardcopy')"
   ]
  },
  {
   "cell_type": "code",
   "execution_count": 43,
   "id": "831a1cd8",
   "metadata": {
    "colab": {
     "base_uri": "https://localhost:8080/",
     "height": 313
    },
    "id": "831a1cd8",
    "outputId": "4f7b51d1-f19a-4272-8ac3-0fc1a0f5d65e"
   },
   "outputs": [
    {
     "data": {
      "text/plain": [
       "Text(0, 0.5, '0: eBook, 1: Hardcopy')"
      ]
     },
     "execution_count": 43,
     "metadata": {},
     "output_type": "execute_result"
    },
    {
     "data": {
      "image/png": "[encoded data removed]",
      "text/plain": [
       "<Figure size 640x480 with 1 Axes>"
      ]
     },
     "metadata": {},
     "output_type": "display_data"
    }
   ],
   "source": [
    "plt.scatter(df.sdur_DE1, df.pref_DE1, marker = '+', color = 'black')\n",
    "plt.title('DE1(Artificial Intelligence)')\n",
    "plt.xlabel('Monthly Study Duration (in hours)')\n",
    "plt.ylabel('0: eBook, 1: Hardcopy')"
   ]
  },
  {
   "cell_type": "code",
   "execution_count": 44,
   "id": "b4595716",
   "metadata": {
    "colab": {
     "base_uri": "https://localhost:8080/",
     "height": 313
    },
    "id": "b4595716",
    "outputId": "65087539-3c8f-40c8-caba-3ffd67298e4e"
   },
   "outputs": [
    {
     "data": {
      "text/plain": [
       "Text(0, 0.5, '0: eBook, 1: Hardcopy')"
      ]
     },
     "execution_count": 44,
     "metadata": {},
     "output_type": "execute_result"
    },
    {
     "data": {
      "image/png": "[encoded data removed]",
      "text/plain": [
       "<Figure size 640x480 with 1 Axes>"
      ]
     },
     "metadata": {},
     "output_type": "display_data"
    }
   ],
   "source": [
    "plt.scatter(df.sdur_DE2, df.pref_DE2, marker = '+', color = 'magenta')\n",
    "plt.title('DE2(Big Data)')\n",
    "plt.xlabel('Monthly Study Duration (in hours)')\n",
    "plt.ylabel('0: eBook, 1: Hardcopy')"
   ]
  },
  {
   "cell_type": "code",
   "execution_count": 45,
   "id": "a700578d",
   "metadata": {
    "colab": {
     "base_uri": "https://localhost:8080/"
    },
    "id": "a700578d",
    "outputId": "7fb376f9-3f64-4150-bdcf-046231f4f119"
   },
   "outputs": [
    {
     "data": {
      "text/plain": [
       "(2408, 15)"
      ]
     },
     "execution_count": 45,
     "metadata": {},
     "output_type": "execute_result"
    }
   ],
   "source": [
    "df.shape"
   ]
  },
  {
   "cell_type": "markdown",
   "id": "01ed0ea8",
   "metadata": {
    "id": "01ed0ea8"
   },
   "source": [
    "# Applying machine learning algorithm to the data"
   ]
  },
  {
   "cell_type": "markdown",
   "id": "ae91c435",
   "metadata": {},
   "source": [
    "### Logistic Regression"
   ]
  },
  {
   "cell_type": "code",
   "execution_count": 46,
   "id": "620f10c4",
   "metadata": {
    "colab": {
     "base_uri": "https://localhost:8080/"
    },
    "id": "620f10c4",
    "outputId": "2e8ba002-1bda-4dd2-ce74-93cc33f251e4"
   },
   "outputs": [],
   "source": [
    "#!pip install sklearn"
   ]
  },
  {
   "cell_type": "code",
   "execution_count": 47,
   "id": "pATHRm_Es_Ra",
   "metadata": {
    "id": "pATHRm_Es_Ra"
   },
   "outputs": [],
   "source": [
    "#using train_test_split \n",
    "from sklearn.model_selection import train_test_split"
   ]
  },
  {
   "cell_type": "code",
   "execution_count": 48,
   "id": "84764c39",
   "metadata": {
    "id": "84764c39"
   },
   "outputs": [],
   "source": [
    "#splitting the dataset into train and test for SE\n",
    "X1_train, X1_test, y1_train, y1_test = train_test_split(df[['sdur_C1']], df.pref_C1, test_size = 0.5)"
   ]
  },
  {
   "cell_type": "code",
   "execution_count": 49,
   "id": "ed337d17",
   "metadata": {
    "id": "ed337d17"
   },
   "outputs": [],
   "source": [
    "from sklearn.linear_model import LogisticRegression"
   ]
  },
  {
   "cell_type": "code",
   "execution_count": 50,
   "id": "2dae0d13",
   "metadata": {
    "id": "2dae0d13"
   },
   "outputs": [],
   "source": [
    "model1 = LogisticRegression()"
   ]
  },
  {
   "cell_type": "code",
   "execution_count": 51,
   "id": "252a18a1",
   "metadata": {
    "colab": {
     "base_uri": "https://localhost:8080/"
    },
    "id": "252a18a1",
    "outputId": "05a52bb1-d463-4bd1-9603-7ece387d4ad6"
   },
   "outputs": [
    {
     "name": "stdout",
     "output_type": "stream",
     "text": [
      "1249    1\n",
      "1016    1\n",
      "1817    0\n",
      "713     0\n",
      "1919    0\n",
      "       ..\n",
      "217     1\n",
      "534     0\n",
      "146     1\n",
      "1911    1\n",
      "611     0\n",
      "Name: pref_C1, Length: 1204, dtype: int64\n"
     ]
    }
   ],
   "source": [
    "#training our ML model\n",
    "model1.fit(X1_train, y1_train)\n",
    "print(y1_train)"
   ]
  },
  {
   "cell_type": "markdown",
   "id": "0e4ca99b",
   "metadata": {
    "colab": {
     "base_uri": "https://localhost:8080/"
    },
    "id": "833fcdb5",
    "outputId": "d79df27a-3207-4662-dd9f-e4ecb348b400"
   },
   "source": [
    "y_pred_X1= model1.predict(X1_test)\n",
    "print(y_pred_X1)"
   ]
  },
  {
   "cell_type": "code",
   "execution_count": 52,
   "id": "d836c366",
   "metadata": {
    "colab": {
     "base_uri": "https://localhost:8080/"
    },
    "id": "d836c366",
    "outputId": "a40d6957-bd8c-4191-fc6c-540302e9c8de"
   },
   "outputs": [
    {
     "name": "stdout",
     "output_type": "stream",
     "text": [
      "Score for Software Engineering: 91.61129568106313 %\n",
      "the confusion matrix is as follows:-\n"
     ]
    },
    {
     "ename": "NameError",
     "evalue": "name 'y_pred_X1' is not defined",
     "output_type": "error",
     "traceback": [
      "\u001b[1;31m---------------------------------------------------------------------------\u001b[0m",
      "\u001b[1;31mNameError\u001b[0m                                 Traceback (most recent call last)",
      "Cell \u001b[1;32mIn[52], line 6\u001b[0m\n\u001b[0;32m      3\u001b[0m \u001b[38;5;28;01mfrom\u001b[39;00m \u001b[38;5;21;01msklearn\u001b[39;00m\u001b[38;5;21;01m.\u001b[39;00m\u001b[38;5;21;01mmetrics\u001b[39;00m \u001b[38;5;28;01mimport\u001b[39;00m confusion_matrix\n\u001b[0;32m      5\u001b[0m \u001b[38;5;28mprint\u001b[39m(\u001b[38;5;124m\"\u001b[39m\u001b[38;5;124mthe confusion matrix is as follows:-\u001b[39m\u001b[38;5;124m\"\u001b[39m)\n\u001b[1;32m----> 6\u001b[0m confusion_matrix_X1 \u001b[38;5;241m=\u001b[39m confusion_matrix(y1_train , \u001b[43my_pred_X1\u001b[49m)\n\u001b[0;32m      7\u001b[0m \u001b[38;5;28mprint\u001b[39m(confusion_matrix_X1)\n\u001b[0;32m      8\u001b[0m cm_display_X1 \u001b[38;5;241m=\u001b[39m metrics\u001b[38;5;241m.\u001b[39mConfusionMatrixDisplay(confusion_matrix \u001b[38;5;241m=\u001b[39m confusion_matrix_X1, display_labels \u001b[38;5;241m=\u001b[39m [\u001b[38;5;28;01mFalse\u001b[39;00m, \u001b[38;5;28;01mTrue\u001b[39;00m])\n",
      "\u001b[1;31mNameError\u001b[0m: name 'y_pred_X1' is not defined"
     ]
    }
   ],
   "source": [
    "print(\"Score for Software Engineering:\", model1.score(X1_test, y1_test)*100,\"%\")\n",
    "from sklearn import metrics\n",
    "from sklearn.metrics import confusion_matrix\n",
    "\n",
    "print(\"the confusion matrix is as follows:-\")\n",
    "confusion_matrix_X1 = confusion_matrix(y1_train , y_pred_X1)\n",
    "print(confusion_matrix_X1)\n",
    "cm_display_X1 = metrics.ConfusionMatrixDisplay(confusion_matrix = confusion_matrix_X1, display_labels = [False, True])\n",
    "cm_display_X1.plot()\n",
    "plt.show()"
   ]
  },
  {
   "cell_type": "code",
   "execution_count": null,
   "id": "b0e9e706",
   "metadata": {
    "id": "b0e9e706"
   },
   "outputs": [],
   "source": [
    "#splitting the dataset into train and test for DAA\n",
    "X2_train, X2_test, y2_train, y2_test = train_test_split(df[['sdur_C2']], df.pref_C2, test_size = 0.5)"
   ]
  },
  {
   "cell_type": "code",
   "execution_count": null,
   "id": "a53f6607",
   "metadata": {
    "id": "a53f6607"
   },
   "outputs": [],
   "source": [
    "model2 = LogisticRegression()"
   ]
  },
  {
   "cell_type": "code",
   "execution_count": null,
   "id": "45adf7c8",
   "metadata": {
    "colab": {
     "base_uri": "https://localhost:8080/"
    },
    "id": "45adf7c8",
    "outputId": "34576442-f114-4f53-b97d-de4390d613c0"
   },
   "outputs": [],
   "source": [
    "#training our ML model\n",
    "model2.fit(X2_train, y2_train)\n",
    "print(y2_train)"
   ]
  },
  {
   "cell_type": "code",
   "execution_count": null,
   "id": "de8dc8a9",
   "metadata": {
    "colab": {
     "base_uri": "https://localhost:8080/"
    },
    "id": "de8dc8a9",
    "outputId": "868fe28e-49b9-46f2-9675-09f365d14d82"
   },
   "outputs": [],
   "source": [
    "y_pred_X2=model2.predict(X2_test)\n",
    "print(y_pred_X2)"
   ]
  },
  {
   "cell_type": "code",
   "execution_count": null,
   "id": "c5f7b44e",
   "metadata": {
    "colab": {
     "base_uri": "https://localhost:8080/"
    },
    "id": "c5f7b44e",
    "outputId": "82c33572-d2bf-486a-e24e-e4398bfd6925"
   },
   "outputs": [],
   "source": [
    "print(\"Score for Design and Analysis of Algorithm:\", model2.score(X2_test, y2_test)*100,\"%\")\n",
    "from sklearn import metrics\n",
    "from sklearn.metrics import confusion_matrix\n",
    "\n",
    "print(\"the confusion matrix is as follows:-\")\n",
    "confusion_matrix_X2 =confusion_matrix(y2_train , y_pred_X2)\n",
    "print(confusion_matrix_X2)\n",
    "cm_display_X2 = metrics.ConfusionMatrixDisplay(confusion_matrix = confusion_matrix_X2, display_labels = [False, True])\n",
    "cm_display_X2.plot()\n",
    "plt.show()"
   ]
  },
  {
   "cell_type": "code",
   "execution_count": null,
   "id": "49c1e508",
   "metadata": {
    "id": "49c1e508"
   },
   "outputs": [],
   "source": [
    "#splitting the dataset into train and test for HPC\n",
    "X3_train, X3_test, y3_train, y3_test = train_test_split(df[['sdur_C3']], df.pref_C3, test_size = 0.5)"
   ]
  },
  {
   "cell_type": "code",
   "execution_count": null,
   "id": "038ba5ee",
   "metadata": {
    "id": "038ba5ee"
   },
   "outputs": [],
   "source": [
    "model3 = LogisticRegression()"
   ]
  },
  {
   "cell_type": "code",
   "execution_count": null,
   "id": "b2ce1113",
   "metadata": {
    "colab": {
     "base_uri": "https://localhost:8080/"
    },
    "id": "b2ce1113",
    "outputId": "a0afa43c-59b0-43ae-bcfe-5d52a46df7ea"
   },
   "outputs": [],
   "source": [
    "#training our ML model\n",
    "model3.fit(X3_train, y3_train)"
   ]
  },
  {
   "cell_type": "code",
   "execution_count": null,
   "id": "a4e089b8",
   "metadata": {
    "colab": {
     "base_uri": "https://localhost:8080/"
    },
    "id": "a4e089b8",
    "outputId": "17e5738d-426e-45a7-f44f-cba7997a1b6f"
   },
   "outputs": [],
   "source": [
    "y_pred_X3=model3.predict(X3_test)\n",
    "print(y_pred_X3)"
   ]
  },
  {
   "cell_type": "code",
   "execution_count": null,
   "id": "05f62a63",
   "metadata": {
    "colab": {
     "base_uri": "https://localhost:8080/"
    },
    "id": "05f62a63",
    "outputId": "45de8cc9-4964-4a21-abf7-f80b05bd4d4b"
   },
   "outputs": [],
   "source": [
    "print(\"Score for Hign Performance Computing:\", model3.score(X3_test, y3_test)*100,\"%\")\n",
    "from sklearn import metrics\n",
    "from sklearn.metrics import confusion_matrix\n",
    "\n",
    "print(\"the confusion matrix is as follows:-\")\n",
    "confusion_matrix_X3 =confusion_matrix(y3_train , y_pred_X3)\n",
    "print(confusion_matrix_X3)\n",
    "cm_display_X3 = metrics.ConfusionMatrixDisplay(confusion_matrix = confusion_matrix_X3, display_labels = [False, True])\n",
    "cm_display_X3.plot()\n",
    "plt.show()"
   ]
  },
  {
   "cell_type": "code",
   "execution_count": null,
   "id": "2b6ccaff",
   "metadata": {
    "id": "2b6ccaff"
   },
   "outputs": [],
   "source": [
    "#splitting the dataset into train and test for CN\n",
    "X4_train, X4_test, y4_train, y4_test = train_test_split(df[['sdur_C4']], df.pref_C4, test_size = 0.5)"
   ]
  },
  {
   "cell_type": "code",
   "execution_count": null,
   "id": "05519a44",
   "metadata": {
    "id": "05519a44"
   },
   "outputs": [],
   "source": [
    "model4 = LogisticRegression()"
   ]
  },
  {
   "cell_type": "code",
   "execution_count": null,
   "id": "ca0ae706",
   "metadata": {
    "colab": {
     "base_uri": "https://localhost:8080/"
    },
    "id": "ca0ae706",
    "outputId": "2d5f41f6-b169-4787-b8c9-321f40318744"
   },
   "outputs": [],
   "source": [
    "#training our ML model\n",
    "model4.fit(X4_train, y4_train)"
   ]
  },
  {
   "cell_type": "code",
   "execution_count": null,
   "id": "94bb7819",
   "metadata": {
    "colab": {
     "base_uri": "https://localhost:8080/"
    },
    "id": "94bb7819",
    "outputId": "f6149567-8550-4d73-8c13-e9034bb3c965"
   },
   "outputs": [],
   "source": [
    "y_pred_X4=model4.predict(X4_test)\n",
    "print(y_pred_X4)"
   ]
  },
  {
   "cell_type": "code",
   "execution_count": null,
   "id": "c19c1b2a",
   "metadata": {
    "colab": {
     "base_uri": "https://localhost:8080/"
    },
    "id": "c19c1b2a",
    "outputId": "90f0b084-d7d2-4279-bf4d-ef43db431ce9"
   },
   "outputs": [],
   "source": [
    "print(\"Score for Computer Networks:\", model4.score(X4_test, y4_test)*100,\"%\")\n",
    "from sklearn import metrics\n",
    "from sklearn.metrics import confusion_matrix\n",
    "\n",
    "print(\"the confusion matrix is as follows:-\")\n",
    "confusion_matrix_X4 =confusion_matrix(y4_train , y_pred_X4)\n",
    "print(confusion_matrix_X4)\n",
    "cm_display_X4 = metrics.ConfusionMatrixDisplay(confusion_matrix = confusion_matrix_X4, display_labels = [False, True])\n",
    "cm_display_X4.plot()\n",
    "plt.show()"
   ]
  },
  {
   "cell_type": "code",
   "execution_count": null,
   "id": "88668647",
   "metadata": {
    "id": "88668647"
   },
   "outputs": [],
   "source": [
    "#splitting the dataset into train and test for DE2\n",
    "X5_train, X5_test, y5_train, y5_test = train_test_split(df[['sdur_DE1']], df.pref_DE1, test_size = 0.5)"
   ]
  },
  {
   "cell_type": "code",
   "execution_count": null,
   "id": "0763f04f",
   "metadata": {
    "id": "0763f04f"
   },
   "outputs": [],
   "source": [
    "model5 = LogisticRegression()"
   ]
  },
  {
   "cell_type": "code",
   "execution_count": null,
   "id": "e982af45",
   "metadata": {
    "colab": {
     "base_uri": "https://localhost:8080/"
    },
    "id": "e982af45",
    "outputId": "ed5cdb93-48fd-4d0d-e3a7-84a4e723efe9"
   },
   "outputs": [],
   "source": [
    "#training our ML model\n",
    "model5.fit(X5_train, y5_train)"
   ]
  },
  {
   "cell_type": "code",
   "execution_count": null,
   "id": "1c7e56d0",
   "metadata": {
    "colab": {
     "base_uri": "https://localhost:8080/"
    },
    "id": "1c7e56d0",
    "outputId": "7421955a-67f6-4240-8dd6-2e3ed8ccad5a"
   },
   "outputs": [],
   "source": [
    "y_pred_X5=model5.predict(X5_test)\n",
    "print(y_pred_X5)"
   ]
  },
  {
   "cell_type": "code",
   "execution_count": null,
   "id": "517915d6",
   "metadata": {
    "colab": {
     "base_uri": "https://localhost:8080/"
    },
    "id": "517915d6",
    "outputId": "6e23c2df-d633-44f5-da7f-8bf427692057"
   },
   "outputs": [],
   "source": [
    "print(\"Score for DE1(Artificial Intelligence):\", model5.score(X5_test, y5_test)*100,\"%\")\n",
    "from sklearn import metrics\n",
    "from sklearn.metrics import confusion_matrix\n",
    "\n",
    "print(\"the confusion matrix is as follows:-\")\n",
    "confusion_matrix_X5 =confusion_matrix(y5_train , y_pred_X5)\n",
    "print(confusion_matrix_X5)\n",
    "cm_display_X5 = metrics.ConfusionMatrixDisplay(confusion_matrix = confusion_matrix_X5, display_labels = [False, True])\n",
    "cm_display_X5.plot()\n",
    "plt.show()"
   ]
  },
  {
   "cell_type": "code",
   "execution_count": null,
   "id": "e383ed74",
   "metadata": {
    "id": "e383ed74"
   },
   "outputs": [],
   "source": [
    "#splitting the dataset into train and test for DE2\n",
    "X6_train, X6_test, y6_train, y6_test = train_test_split(df[['sdur_DE2']], df.pref_DE2, test_size = 0.5)"
   ]
  },
  {
   "cell_type": "code",
   "execution_count": null,
   "id": "8dbe1d14",
   "metadata": {
    "id": "8dbe1d14"
   },
   "outputs": [],
   "source": [
    "model6 = LogisticRegression()"
   ]
  },
  {
   "cell_type": "code",
   "execution_count": null,
   "id": "88ec7c87",
   "metadata": {
    "colab": {
     "base_uri": "https://localhost:8080/"
    },
    "id": "88ec7c87",
    "outputId": "a333389e-8973-444f-b49c-26dcb94ba41a"
   },
   "outputs": [],
   "source": [
    "#training our ML model\n",
    "model6.fit(X6_train, y6_train)"
   ]
  },
  {
   "cell_type": "code",
   "execution_count": null,
   "id": "54872995",
   "metadata": {
    "colab": {
     "base_uri": "https://localhost:8080/"
    },
    "id": "54872995",
    "outputId": "d8204f07-6c32-48f5-dc7a-c67217e60fe7"
   },
   "outputs": [],
   "source": [
    "y_pred_X6=model6.predict(X6_test)\n",
    "print(y_pred_X6)"
   ]
  },
  {
   "cell_type": "code",
   "execution_count": null,
   "id": "1ce637cc",
   "metadata": {
    "colab": {
     "base_uri": "https://localhost:8080/"
    },
    "id": "1ce637cc",
    "outputId": "4d125585-83af-4f62-9fb4-568c69e6f362"
   },
   "outputs": [],
   "source": [
    "print(\"Score for DE2:\", model6.score(X6_test, y6_test)*100,\"%\")\n",
    "from sklearn import metrics\n",
    "from sklearn.metrics import confusion_matrix\n",
    "\n",
    "print(\"the confusion matrix is as follows:-\")\n",
    "confusion_matrix_X6 =confusion_matrix(y6_train , y_pred_X6)\n",
    "print(confusion_matrix_X6)\n",
    "cm_display_X6 = metrics.ConfusionMatrixDisplay(confusion_matrix = confusion_matrix_X6, display_labels = [False, True])\n",
    "cm_display_X6.plot()\n",
    "plt.show()"
   ]
  },
  {
   "cell_type": "code",
   "execution_count": null,
   "id": "f6c528c9",
   "metadata": {
    "colab": {
     "base_uri": "https://localhost:8080/",
     "height": 350
    },
    "id": "f6c528c9",
    "outputId": "10147245-0876-446c-ea45-a864d3f0952c",
    "scrolled": false
   },
   "outputs": [],
   "source": [
    "#plotting model scores\n",
    "\n",
    "data = {'C1':model1.score(X1_test, y1_test)*100,\n",
    "        'C2':model2.score(X2_test, y2_test)*100,\n",
    "        'C3':model3.score(X3_test, y3_test)*100,\n",
    "        'C4':model4.score(X4_test, y4_test)*100,\n",
    "        'DE1':model5.score(X5_test, y5_test)*100,\n",
    "        'DE2':model6.score(X6_test, y6_test)*100}\n",
    "\n",
    "keyy = list(data.keys())\n",
    "val = list(data.values())\n",
    "  \n",
    "fig = plt.figure(figsize = (8, 4))\n",
    " \n",
    "# creating the bar plot\n",
    "plt.bar(keyy, val,\n",
    "        color=['blue', 'cyan', 'blue', 'cyan', 'blue', 'cyan', 'blue'],\n",
    "        width = 0.4)\n",
    " \n",
    "plt.xlabel(\"Subjects\")\n",
    "plt.ylabel(\"Model Score (in %)\")\n",
    "plt.title(\"Logistic Regression Model Scores (in %)\")\n",
    "plt.show()"
   ]
  },
  {
   "cell_type": "markdown",
   "id": "ca70b8c3",
   "metadata": {},
   "source": [
    "## K-Nearest Neighbor"
   ]
  },
  {
   "cell_type": "code",
   "execution_count": null,
   "id": "ae6d980c",
   "metadata": {},
   "outputs": [],
   "source": [
    "#Applying k-Nearest Neighbor for Software Engineering\n",
    "from sklearn.neighbors import KNeighborsClassifier\n",
    "from sklearn.preprocessing import StandardScaler\n",
    "sc_X = StandardScaler()\n",
    "X1_train_knn = sc_X.fit_transform(X1_train)\n",
    "X1_test_knn = sc_X.transform(X1_test)\n",
    "classifier = KNeighborsClassifier(n_neighbors=4, metric=\"euclidean\",p=2)\n",
    "classifier.fit(X1_train_knn, y1_train)\n",
    "y1_pred_knn = classifier.predict(X1_test_knn)"
   ]
  },
  {
   "cell_type": "code",
   "execution_count": null,
   "id": "9d747b75",
   "metadata": {},
   "outputs": [],
   "source": [
    "from sklearn import metrics\n",
    "accuracy = metrics.accuracy_score(y1_test, y1_pred_knn) \n",
    "print(\"Accuracy score:\",accuracy)\n",
    "precision = metrics.precision_score(y1_test, y1_pred_knn) \n",
    "print(\"Precision score:\",precision)\n",
    "recall = metrics.recall_score(y1_test, y1_pred_knn) \n",
    "print(\"Recall score:\",recall)"
   ]
  },
  {
   "cell_type": "code",
   "execution_count": null,
   "id": "5b7b19ca",
   "metadata": {},
   "outputs": [],
   "source": [
    "confusion_matrix_X4 =confusion_matrix(y1_train , y1_pred_knn)\n",
    "print(confusion_matrix_X4)\n",
    "cm_display_X4 = metrics.ConfusionMatrixDisplay(confusion_matrix = confusion_matrix_X4, display_labels = [False, True])\n",
    "cm_display_X4.plot()\n",
    "plt.show()"
   ]
  },
  {
   "cell_type": "code",
   "execution_count": null,
   "id": "aeb8bf47",
   "metadata": {},
   "outputs": [],
   "source": [
    "#Applying k-Nearest Neighbor for Design and Analysis of Algorithm\n",
    "from sklearn.neighbors import KNeighborsClassifier\n",
    "from sklearn.preprocessing import StandardScaler\n",
    "sc_X = StandardScaler()\n",
    "X2_train_knn = sc_X.fit_transform(X2_train)\n",
    "X2_test_knn = sc_X.transform(X2_test)\n",
    "classifier = KNeighborsClassifier(n_neighbors=4, metric=\"euclidean\",p=2)\n",
    "classifier.fit(X2_train_knn, y2_train)\n",
    "y2_pred_knn = classifier.predict(X2_test_knn)"
   ]
  },
  {
   "cell_type": "code",
   "execution_count": null,
   "id": "8ba3c13e",
   "metadata": {},
   "outputs": [],
   "source": [
    "from sklearn import metrics\n",
    "accuracy = metrics.accuracy_score(y2_test, y2_pred_knn) \n",
    "print(\"Accuracy score:\",accuracy)\n",
    "precision = metrics.precision_score(y2_test, y2_pred_knn) \n",
    "print(\"Precision score:\",precision)\n",
    "recall = metrics.recall_score(y2_test, y2_pred_knn) \n",
    "print(\"Recall score:\",recall)"
   ]
  },
  {
   "cell_type": "code",
   "execution_count": null,
   "id": "3fc02465",
   "metadata": {},
   "outputs": [],
   "source": [
    "confusion_matrix_X4 =confusion_matrix(y2_train , y2_pred_knn)\n",
    "print(confusion_matrix_X4)\n",
    "cm_display_X4 = metrics.ConfusionMatrixDisplay(confusion_matrix = confusion_matrix_X4, display_labels = [False, True])\n",
    "cm_display_X4.plot()\n",
    "plt.show()"
   ]
  },
  {
   "cell_type": "code",
   "execution_count": null,
   "id": "b3c41b8b",
   "metadata": {},
   "outputs": [],
   "source": [
    "#Applying k-Nearest Neighbor for High Performance Computing\n",
    "from sklearn.neighbors import KNeighborsClassifier\n",
    "from sklearn.preprocessing import StandardScaler\n",
    "sc_X = StandardScaler()\n",
    "X3_train_knn = sc_X.fit_transform(X3_train)\n",
    "X3_test_knn = sc_X.transform(X3_test)\n",
    "classifier = KNeighborsClassifier(n_neighbors=4, metric=\"euclidean\",p=2)\n",
    "classifier.fit(X3_train_knn, y3_train)\n",
    "y3_pred_knn = classifier.predict(X3_test_knn)"
   ]
  },
  {
   "cell_type": "code",
   "execution_count": null,
   "id": "0ba2ce02",
   "metadata": {},
   "outputs": [],
   "source": [
    "from sklearn import metrics\n",
    "accuracy = metrics.accuracy_score(y3_test, y3_pred_knn) \n",
    "print(\"Accuracy score:\",accuracy)\n",
    "precision = metrics.precision_score(y3_test, y3_pred_knn) \n",
    "print(\"Precision score:\",precision)\n",
    "recall = metrics.recall_score(y3_test, y3_pred_knn) \n",
    "print(\"Recall score:\",recall)"
   ]
  },
  {
   "cell_type": "code",
   "execution_count": null,
   "id": "951e3545",
   "metadata": {},
   "outputs": [],
   "source": [
    "confusion_matrix_X4 =confusion_matrix(y3_train , y3_pred_knn)\n",
    "print(confusion_matrix_X4)\n",
    "cm_display_X4 = metrics.ConfusionMatrixDisplay(confusion_matrix = confusion_matrix_X4, display_labels = [False, True])\n",
    "cm_display_X4.plot()\n",
    "plt.show()"
   ]
  },
  {
   "cell_type": "code",
   "execution_count": null,
   "id": "fb67d02c",
   "metadata": {},
   "outputs": [],
   "source": [
    "#Applying k-Nearest Neighbor for Computer Networks\n",
    "from sklearn.neighbors import KNeighborsClassifier\n",
    "from sklearn.preprocessing import StandardScaler\n",
    "sc_X = StandardScaler()\n",
    "X4_train_knn = sc_X.fit_transform(X4_train)\n",
    "X4_test_knn = sc_X.transform(X4_test)\n",
    "classifier = KNeighborsClassifier(n_neighbors=4, metric=\"euclidean\",p=2)\n",
    "classifier.fit(X4_train_knn, y4_train)\n",
    "y4_pred_knn = classifier.predict(X4_test_knn)"
   ]
  },
  {
   "cell_type": "code",
   "execution_count": null,
   "id": "53369041",
   "metadata": {},
   "outputs": [],
   "source": [
    "from sklearn import metrics\n",
    "accuracy = metrics.accuracy_score(y4_test, y4_pred_knn) \n",
    "print(\"Accuracy score:\",accuracy)\n",
    "precision = metrics.precision_score(y4_test, y4_pred_knn) \n",
    "print(\"Precision score:\",precision)\n",
    "recall = metrics.recall_score(y4_test, y4_pred_knn) \n",
    "print(\"Recall score:\",recall)"
   ]
  },
  {
   "cell_type": "code",
   "execution_count": null,
   "id": "8f67fbd3",
   "metadata": {},
   "outputs": [],
   "source": [
    "confusion_matrix_X4 =confusion_matrix(y4_train , y4_pred_knn)\n",
    "print(confusion_matrix_X4)\n",
    "cm_display_X4 = metrics.ConfusionMatrixDisplay(confusion_matrix = confusion_matrix_X4, display_labels = [False, True])\n",
    "cm_display_X4.plot()\n",
    "plt.show()"
   ]
  },
  {
   "cell_type": "code",
   "execution_count": null,
   "id": "691be470",
   "metadata": {},
   "outputs": [],
   "source": [
    "#Applying k-Nearest Neighbor for DE1(Artificial Intelligence)\n",
    "from sklearn.neighbors import KNeighborsClassifier\n",
    "from sklearn.preprocessing import StandardScaler\n",
    "sc_X = StandardScaler()\n",
    "X5_train_knn = sc_X.fit_transform(X5_train)\n",
    "X5_test_knn = sc_X.transform(X5_test)\n",
    "classifier = KNeighborsClassifier(n_neighbors=4, metric=\"euclidean\",p=2)\n",
    "classifier.fit(X5_train_knn, y5_train)\n",
    "y5_pred_knn = classifier.predict(X5_test_knn)"
   ]
  },
  {
   "cell_type": "code",
   "execution_count": null,
   "id": "b2389677",
   "metadata": {},
   "outputs": [],
   "source": [
    "from sklearn import metrics\n",
    "accuracy = metrics.accuracy_score(y5_test, y5_pred_knn) \n",
    "print(\"Accuracy score:\",accuracy)\n",
    "precision = metrics.precision_score(y5_test, y5_pred_knn) \n",
    "print(\"Precision score:\",precision)\n",
    "recall = metrics.recall_score(y5_test, y5_pred_knn) \n",
    "print(\"Recall score:\",recall)"
   ]
  },
  {
   "cell_type": "code",
   "execution_count": null,
   "id": "9d371057",
   "metadata": {},
   "outputs": [],
   "source": [
    "confusion_matrix_X4 =confusion_matrix(y5_train , y5_pred_knn)\n",
    "print(confusion_matrix_X4)\n",
    "cm_display_X4 = metrics.ConfusionMatrixDisplay(confusion_matrix = confusion_matrix_X4, display_labels = [False, True])\n",
    "cm_display_X4.plot()\n",
    "plt.show()"
   ]
  },
  {
   "cell_type": "code",
   "execution_count": null,
   "id": "77a3ae3c",
   "metadata": {},
   "outputs": [],
   "source": [
    "#Applying k-Nearest Neighbor for DE2(Big Data)\n",
    "from sklearn.neighbors import KNeighborsClassifier\n",
    "from sklearn.preprocessing import StandardScaler\n",
    "sc_X = StandardScaler()\n",
    "X6_train_knn = sc_X.fit_transform(X6_train)\n",
    "X6_test_knn = sc_X.transform(X6_test)\n",
    "classifier = KNeighborsClassifier(n_neighbors=4, metric=\"euclidean\",p=2)\n",
    "classifier.fit(X6_train_knn, y6_train)\n",
    "y6_pred_knn = classifier.predict(X6_test_knn)"
   ]
  },
  {
   "cell_type": "code",
   "execution_count": null,
   "id": "d34cf24b",
   "metadata": {},
   "outputs": [],
   "source": [
    "from sklearn import metrics\n",
    "accuracy = metrics.accuracy_score(y6_test, y6_pred_knn) \n",
    "print(\"Accuracy score:\",accuracy)\n",
    "precision = metrics.precision_score(y6_test, y6_pred_knn) \n",
    "print(\"Precision score:\",precision)\n",
    "recall = metrics.recall_score(y6_test, y6_pred_knn) \n",
    "print(\"Recall score:\",recall)"
   ]
  },
  {
   "cell_type": "code",
   "execution_count": null,
   "id": "3da6f661",
   "metadata": {
    "scrolled": false
   },
   "outputs": [],
   "source": [
    "confusion_matrix_X4 =confusion_matrix(y6_train , y6_pred_knn)\n",
    "print(confusion_matrix_X4)\n",
    "cm_display_X4 = metrics.ConfusionMatrixDisplay(confusion_matrix = confusion_matrix_X4, display_labels = [False, True])\n",
    "cm_display_X4.plot()\n",
    "plt.show()"
   ]
  },
  {
   "cell_type": "code",
   "execution_count": 57,
   "id": "44cb64a5",
   "metadata": {},
   "outputs": [
    {
     "ename": "NameError",
     "evalue": "name 'y1_pred_knn' is not defined",
     "output_type": "error",
     "traceback": [
      "\u001b[1;31m---------------------------------------------------------------------------\u001b[0m",
      "\u001b[1;31mNameError\u001b[0m                                 Traceback (most recent call last)",
      "Cell \u001b[1;32mIn[57], line 2\u001b[0m\n\u001b[0;32m      1\u001b[0m \u001b[38;5;66;03m#plotting model scores\u001b[39;00m\n\u001b[1;32m----> 2\u001b[0m data \u001b[38;5;241m=\u001b[39m {\u001b[38;5;124m'\u001b[39m\u001b[38;5;124mC1\u001b[39m\u001b[38;5;124m'\u001b[39m:metrics\u001b[38;5;241m.\u001b[39maccuracy_score(y1_test, \u001b[43my1_pred_knn\u001b[49m)\u001b[38;5;241m*\u001b[39m\u001b[38;5;241m100\u001b[39m,\n\u001b[0;32m      3\u001b[0m         \u001b[38;5;124m'\u001b[39m\u001b[38;5;124mC2\u001b[39m\u001b[38;5;124m'\u001b[39m:metrics\u001b[38;5;241m.\u001b[39maccuracy_score(y2_test, y2_pred_knn)\u001b[38;5;241m*\u001b[39m\u001b[38;5;241m100\u001b[39m,\n\u001b[0;32m      4\u001b[0m         \u001b[38;5;124m'\u001b[39m\u001b[38;5;124mC3\u001b[39m\u001b[38;5;124m'\u001b[39m:metrics\u001b[38;5;241m.\u001b[39maccuracy_score(y3_test, y3_pred_knn)\u001b[38;5;241m*\u001b[39m\u001b[38;5;241m100\u001b[39m,\n\u001b[0;32m      5\u001b[0m         \u001b[38;5;124m'\u001b[39m\u001b[38;5;124mC4\u001b[39m\u001b[38;5;124m'\u001b[39m:metrics\u001b[38;5;241m.\u001b[39maccuracy_score(y4_test, y4_pred_knn)\u001b[38;5;241m*\u001b[39m\u001b[38;5;241m100\u001b[39m,\n\u001b[0;32m      6\u001b[0m         \u001b[38;5;124m'\u001b[39m\u001b[38;5;124mDE1\u001b[39m\u001b[38;5;124m'\u001b[39m:metrics\u001b[38;5;241m.\u001b[39maccuracy_score(y5_test, y5_pred_knn)\u001b[38;5;241m*\u001b[39m\u001b[38;5;241m100\u001b[39m,\n\u001b[0;32m      7\u001b[0m         \u001b[38;5;124m'\u001b[39m\u001b[38;5;124mDE2\u001b[39m\u001b[38;5;124m'\u001b[39m:metrics\u001b[38;5;241m.\u001b[39maccuracy_score(y6_test, y6_pred_knn)\u001b[38;5;241m*\u001b[39m\u001b[38;5;241m100\u001b[39m}\n\u001b[0;32m      9\u001b[0m keyy \u001b[38;5;241m=\u001b[39m \u001b[38;5;28mlist\u001b[39m(data\u001b[38;5;241m.\u001b[39mkeys())\n\u001b[0;32m     10\u001b[0m val \u001b[38;5;241m=\u001b[39m \u001b[38;5;28mlist\u001b[39m(data\u001b[38;5;241m.\u001b[39mvalues())\n",
      "\u001b[1;31mNameError\u001b[0m: name 'y1_pred_knn' is not defined"
     ]
    }
   ],
   "source": [
    "#plotting model scores\n",
    "data = {'C1':metrics.accuracy_score(y1_test, y1_pred_knn)*100,\n",
    "        'C2':metrics.accuracy_score(y2_test, y2_pred_knn)*100,\n",
    "        'C3':metrics.accuracy_score(y3_test, y3_pred_knn)*100,\n",
    "        'C4':metrics.accuracy_score(y4_test, y4_pred_knn)*100,\n",
    "        'DE1':metrics.accuracy_score(y5_test, y5_pred_knn)*100,\n",
    "        'DE2':metrics.accuracy_score(y6_test, y6_pred_knn)*100}\n",
    "\n",
    "keyy = list(data.keys())\n",
    "val = list(data.values())\n",
    "  \n",
    "fig = plt.figure(figsize = (8, 4))\n",
    " \n",
    "# creating the bar plot\n",
    "plt.bar(keyy, val,\n",
    "        color=['blue', 'cyan', 'blue', 'cyan', 'blue', 'cyan', 'blue'],\n",
    "        width = 0.4)\n",
    " \n",
    "plt.xlabel(\"Subjects\")\n",
    "plt.ylabel(\"Model Score (in %)\")\n",
    "plt.title(\"KNN Model Scores (in %)\")\n",
    "plt.show()"
   ]
  },
  {
   "cell_type": "markdown",
   "id": "7cd24427",
   "metadata": {},
   "source": [
    "## K-Means Clustering"
   ]
  },
  {
   "cell_type": "code",
   "execution_count": null,
   "id": "7f0361ee",
   "metadata": {},
   "outputs": [],
   "source": [
    "from sklearn.cluster import KMeans\n",
    "duration = df['sdur_C1'].values.reshape(-1, 1)\n",
    "kmeans = KMeans(n_clusters=2).fit(duration)\n",
    "data['pref_C1'] = kmeans.labels_\n",
    "\n",
    "print(data)\n",
    "\n",
    "from sklearn.metrics import silhouette_score\n",
    "score = silhouette_score(duration, kmeans.labels_)\n",
    "\n",
    "print(f\"The Silhouette Coefficient of the clustering is: {score}\")"
   ]
  },
  {
   "cell_type": "code",
   "execution_count": null,
   "id": "16e1f0f8",
   "metadata": {},
   "outputs": [],
   "source": [
    "from sklearn.cluster import KMeans\n",
    "duration = df['sdur_C2'].values.reshape(-1, 1)\n",
    "kmeans = KMeans(n_clusters=2).fit(duration)\n",
    "data['pref_C2'] = kmeans.labels_\n",
    "\n",
    "print(data)\n",
    "\n",
    "from sklearn.metrics import silhouette_score\n",
    "score = silhouette_score(duration, kmeans.labels_)\n",
    "\n",
    "print(f\"The Silhouette Coefficient of the clustering is: {score}\")"
   ]
  },
  {
   "cell_type": "code",
   "execution_count": null,
   "id": "7e69a70e",
   "metadata": {},
   "outputs": [],
   "source": [
    "from sklearn.cluster import KMeans\n",
    "duration = df['sdur_C3'].values.reshape(-1, 1)\n",
    "kmeans = KMeans(n_clusters=2).fit(duration)\n",
    "data['pref_C3'] = kmeans.labels_\n",
    "\n",
    "print(data)\n",
    "\n",
    "from sklearn.metrics import silhouette_score\n",
    "score = silhouette_score(duration, kmeans.labels_)\n",
    "\n",
    "print(f\"The Silhouette Coefficient of the clustering is: {score}\")"
   ]
  },
  {
   "cell_type": "code",
   "execution_count": null,
   "id": "550ae7ea",
   "metadata": {},
   "outputs": [],
   "source": [
    "from sklearn.cluster import KMeans\n",
    "duration = df['sdur_C3'].values.reshape(-1, 1)\n",
    "kmeans = KMeans(n_clusters=2).fit(duration)\n",
    "data['pref_C3'] = kmeans.labels_\n",
    "\n",
    "print(data)\n",
    "\n",
    "from sklearn.metrics import silhouette_score\n",
    "score = silhouette_score(duration, kmeans.labels_)\n",
    "\n",
    "print(f\"The Silhouette Coefficient of the clustering is: {score}\")"
   ]
  },
  {
   "cell_type": "code",
   "execution_count": null,
   "id": "24ed12d2",
   "metadata": {},
   "outputs": [],
   "source": [
    "from sklearn.cluster import KMeans\n",
    "duration = df['sdur_C4'].values.reshape(-1, 1)\n",
    "kmeans = KMeans(n_clusters=2).fit(duration)\n",
    "data['pref_C4'] = kmeans.labels_\n",
    "\n",
    "print(data)\n",
    "\n",
    "from sklearn.metrics import silhouette_score\n",
    "score = silhouette_score(duration, kmeans.labels_)\n",
    "\n",
    "print(f\"The Silhouette Coefficient of the clustering is: {score}\")"
   ]
  },
  {
   "cell_type": "code",
   "execution_count": null,
   "id": "73d8b1ce",
   "metadata": {},
   "outputs": [],
   "source": [
    "from sklearn.cluster import KMeans\n",
    "duration = df['sdur_DE1'].values.reshape(-1, 1)\n",
    "kmeans = KMeans(n_clusters=2).fit(duration)\n",
    "data['pref_DE1'] = kmeans.labels_\n",
    "\n",
    "print(data)\n",
    "\n",
    "from sklearn.metrics import silhouette_score\n",
    "score = silhouette_score(duration, kmeans.labels_)\n",
    "\n",
    "print(f\"The Silhouette Coefficient of the clustering is: {score}\")"
   ]
  },
  {
   "cell_type": "code",
   "execution_count": null,
   "id": "93715a54",
   "metadata": {},
   "outputs": [],
   "source": [
    "from sklearn.cluster import KMeans\n",
    "duration = df['sdur_DE2'].values.reshape(-1, 1)\n",
    "kmeans = KMeans(n_clusters=2).fit(duration)\n",
    "data['pref_DE2'] = kmeans.labels_\n",
    "\n",
    "print(data)\n",
    "\n",
    "from sklearn.metrics import silhouette_score\n",
    "score = silhouette_score(duration, kmeans.labels_)\n",
    "\n",
    "print(f\"The Silhouette Coefficient of the clustering is: {score}\")"
   ]
  },
  {
   "cell_type": "markdown",
   "id": "1ef807ce",
   "metadata": {},
   "source": [
    "## Decision Tree"
   ]
  },
  {
   "cell_type": "code",
   "execution_count": null,
   "id": "543e5f9b",
   "metadata": {},
   "outputs": [],
   "source": [
    "# Decision Tree classification for Software Engineering\n",
    "\n",
    "import pandas as pd\n",
    "from sklearn.tree import DecisionTreeClassifier\n",
    "from sklearn.model_selection import train_test_split\n",
    "# Separate the remaining columns into X and y\n",
    "X = df[['sdur_C1']]\n",
    "y = df[['pref_C1']]\n",
    "\n",
    "# Split the data into training and testing sets\n",
    "X_train_dt, X_test_dt, y_train_dt, y_test_dt = train_test_split(X, y, test_size=0.2, random_state=42)\n",
    "\n",
    "# Fit a decision tree model to the training data\n",
    "model_dt = DecisionTreeClassifier().fit(X_train_dt, y_train_dt)\n",
    "\n",
    "# Predict the labels of the testing data\n",
    "y_pred_dt = model_dt.predict(X_test_dt)\n",
    "\n",
    "# Calculate the accuracy of the model\n",
    "accuracy_dt = (y_pred_dt == y_test_dt['pref_C1']).sum() / len(y_test_dt)\n",
    "print('Accuracy:', accuracy_dt)\n",
    "\n",
    "# Calculate precision, recall and F1 score\n",
    "precision = precision_score(y_test_dt, y_pred_dt)\n",
    "recall = recall_score(y_test_dt, y_pred_dt)\n",
    "f1 = f1_score(y_test_dt, y_pred_dt)\n",
    "\n",
    "print(f\"Precision: {precision}\")\n",
    "print(f\"Recall: {recall}\")\n",
    "print(f\"F1 score: {f1}\")\n"
   ]
  },
  {
   "cell_type": "code",
   "execution_count": null,
   "id": "f10af7c6",
   "metadata": {},
   "outputs": [],
   "source": [
    "# Decision Tree classification for Design and Analysis of Algorithm\n",
    "\n",
    "import pandas as pd\n",
    "from sklearn.tree import DecisionTreeClassifier\n",
    "from sklearn.model_selection import train_test_split\n",
    "# Separate the remaining columns into X and y\n",
    "X = df[['sdur_C2']]\n",
    "y = df[['pref_C2']]\n",
    "\n",
    "# Split the data into training and testing sets\n",
    "X_train_dt, X_test_dt, y_train_dt, y_test_dt = train_test_split(X, y, test_size=0.2, random_state=42)\n",
    "\n",
    "# Fit a decision tree model to the training data\n",
    "model_dt = DecisionTreeClassifier().fit(X_train_dt, y_train_dt)\n",
    "\n",
    "# Predict the labels of the testing data\n",
    "y_pred_dt = model_dt.predict(X_test_dt)\n",
    "\n",
    "# Calculate the accuracy of the model\n",
    "accuracy_dt = (y_pred_dt == y_test_dt['pref_C2']).sum() / len(y_test_dt)\n",
    "print('Accuracy:', accuracy_dt)\n",
    "\n",
    "# Calculate precision, recall and F1 score\n",
    "precision = precision_score(y_test_dt, y_pred_dt)\n",
    "recall = recall_score(y_test_dt, y_pred_dt)\n",
    "f1 = f1_score(y_test_dt, y_pred_dt)\n",
    "\n",
    "print(f\"Precision: {precision}\")\n",
    "print(f\"Recall: {recall}\")\n",
    "print(f\"F1 score: {f1}\")\n"
   ]
  },
  {
   "cell_type": "code",
   "execution_count": null,
   "id": "07d287c6",
   "metadata": {},
   "outputs": [],
   "source": [
    "# Decision Tree classification for High Performance Computing\n",
    "\n",
    "import pandas as pd\n",
    "from sklearn.tree import DecisionTreeClassifier\n",
    "from sklearn.model_selection import train_test_split\n",
    "# Separate the remaining columns into X and y\n",
    "X = df[['sdur_C3']]\n",
    "y = df[['pref_C3']]\n",
    "\n",
    "# Split the data into training and testing sets\n",
    "X_train_dt, X_test_dt, y_train_dt, y_test_dt = train_test_split(X, y, test_size=0.2, random_state=42)\n",
    "\n",
    "# Fit a decision tree model to the training data\n",
    "model_dt = DecisionTreeClassifier().fit(X_train_dt, y_train_dt)\n",
    "\n",
    "# Predict the labels of the testing data\n",
    "y_pred_dt = model_dt.predict(X_test_dt)\n",
    "\n",
    "# Calculate the accuracy of the model\n",
    "accuracy_dt = (y_pred_dt == y_test_dt['pref_C3']).sum() / len(y_test_dt)\n",
    "print('Accuracy:', accuracy_dt)\n",
    "\n",
    "# Calculate precision, recall and F1 score\n",
    "precision = precision_score(y_test_dt, y_pred_dt)\n",
    "recall = recall_score(y_test_dt, y_pred_dt)\n",
    "f1 = f1_score(y_test_dt, y_pred_dt)\n",
    "\n",
    "print(f\"Precision: {precision}\")\n",
    "print(f\"Recall: {recall}\")\n",
    "print(f\"F1 score: {f1}\")\n"
   ]
  },
  {
   "cell_type": "code",
   "execution_count": null,
   "id": "39e1d66a",
   "metadata": {},
   "outputs": [],
   "source": [
    "# Decision Tree classification for Computer Networks\n",
    "\n",
    "import pandas as pd\n",
    "from sklearn.tree import DecisionTreeClassifier\n",
    "from sklearn.model_selection import train_test_split\n",
    "# Separate the remaining columns into X and y\n",
    "X = df[['sdur_C4']]\n",
    "y = df[['pref_C4']]\n",
    "\n",
    "# Split the data into training and testing sets\n",
    "X_train_dt, X_test_dt, y_train_dt, y_test_dt = train_test_split(X, y, test_size=0.2, random_state=42)\n",
    "\n",
    "# Fit a decision tree model to the training data\n",
    "model_dt = DecisionTreeClassifier().fit(X_train_dt, y_train_dt)\n",
    "\n",
    "# Predict the labels of the testing data\n",
    "y_pred_dt = model_dt.predict(X_test_dt)\n",
    "\n",
    "# Calculate the accuracy of the model\n",
    "accuracy_dt = (y_pred_dt == y_test_dt['pref_C4']).sum() / len(y_test_dt)\n",
    "print('Accuracy:', accuracy_dt)\n",
    "\n",
    "# Calculate precision, recall and F1 score\n",
    "precision = precision_score(y_test_dt, y_pred_dt)\n",
    "recall = recall_score(y_test_dt, y_pred_dt)\n",
    "f1 = f1_score(y_test_dt, y_pred_dt)\n",
    "\n",
    "print(f\"Precision: {precision}\")\n",
    "print(f\"Recall: {recall}\")\n",
    "print(f\"F1 score: {f1}\")\n"
   ]
  },
  {
   "cell_type": "code",
   "execution_count": null,
   "id": "a091fd89",
   "metadata": {},
   "outputs": [],
   "source": [
    "# Decision Tree classification for DE1(Artificial Intelligence)\n",
    "\n",
    "import pandas as pd\n",
    "from sklearn.tree import DecisionTreeClassifier\n",
    "from sklearn.model_selection import train_test_split\n",
    "# Separate the remaining columns into X and y\n",
    "X = df[['sdur_DE1']]\n",
    "y = df[['pref_DE1']]\n",
    "\n",
    "# Split the data into training and testing sets\n",
    "X_train_dt, X_test_dt, y_train_dt, y_test_dt = train_test_split(X, y, test_size=0.2, random_state=42)\n",
    "\n",
    "# Fit a decision tree model to the training data\n",
    "model_dt = DecisionTreeClassifier().fit(X_train_dt, y_train_dt)\n",
    "\n",
    "# Predict the labels of the testing data\n",
    "y_pred_dt = model_dt.predict(X_test_dt)\n",
    "\n",
    "# Calculate the accuracy of the model\n",
    "accuracy_dt = (y_pred_dt == y_test_dt['pref_DE1']).sum() / len(y_test_dt)\n",
    "print('Accuracy:', accuracy_dt)\n",
    "\n",
    "# Calculate precision, recall and F1 score\n",
    "precision = precision_score(y_test_dt, y_pred_dt)\n",
    "recall = recall_score(y_test_dt, y_pred_dt)\n",
    "f1 = f1_score(y_test_dt, y_pred_dt)\n",
    "\n",
    "print(f\"Precision: {precision}\")\n",
    "print(f\"Recall: {recall}\")\n",
    "print(f\"F1 score: {f1}\")\n"
   ]
  },
  {
   "cell_type": "code",
   "execution_count": null,
   "id": "6bf5ad7e",
   "metadata": {},
   "outputs": [],
   "source": [
    "# Decision Tree classification for DE2(Big Data)\n",
    "\n",
    "import pandas as pd\n",
    "from sklearn.tree import DecisionTreeClassifier\n",
    "from sklearn.model_selection import train_test_split\n",
    "# Separate the remaining columns into X and y\n",
    "X = df[['sdur_DE2']]\n",
    "y = df[['pref_DE2']]\n",
    "\n",
    "# Split the data into training and testing sets\n",
    "X_train_dt, X_test_dt, y_train_dt, y_test_dt = train_test_split(X, y, test_size=0.2, random_state=42)\n",
    "\n",
    "# Fit a decision tree model to the training data\n",
    "model_dt = DecisionTreeClassifier().fit(X_train_dt, y_train_dt)\n",
    "\n",
    "# Predict the labels of the testing data\n",
    "y_pred_dt = model_dt.predict(X_test_dt)\n",
    "\n",
    "# Calculate the accuracy of the model\n",
    "accuracy_dt = (y_pred_dt == y_test_dt['pref_DE2']).sum() / len(y_test_dt)\n",
    "print('Accuracy:', accuracy_dt)\n",
    "\n",
    "# Calculate precision, recall and F1 score\n",
    "precision = precision_score(y_test_dt, y_pred_dt)\n",
    "recall = recall_score(y_test_dt, y_pred_dt)\n",
    "f1 = f1_score(y_test_dt, y_pred_dt)\n",
    "\n",
    "print(f\"Precision: {precision}\")\n",
    "print(f\"Recall: {recall}\")\n",
    "print(f\"F1 score: {f1}\")\n"
   ]
  },
  {
   "cell_type": "markdown",
   "id": "6e11a1be",
   "metadata": {},
   "source": [
    "## Random Forest"
   ]
  },
  {
   "cell_type": "code",
   "execution_count": 56,
   "id": "5c112909",
   "metadata": {},
   "outputs": [
    {
     "name": "stdout",
     "output_type": "stream",
     "text": [
      "Accuracy: 0.941908713692946\n",
      "Precision: 0.9790209790209791\n",
      "Recall: 0.9271523178807947\n",
      "F1 score: 0.9523809523809524\n"
     ]
    }
   ],
   "source": [
    "# Random Forest classification for Software Engineering\n",
    "\n",
    "import pandas as pd\n",
    "from sklearn.ensemble import RandomForestClassifier\n",
    "from sklearn.model_selection import train_test_split\n",
    "from sklearn.metrics import accuracy_score, precision_score, recall_score, f1_score\n",
    "\n",
    "# Separate the remaining columns into X and y\n",
    "X = df[['sdur_C1']]\n",
    "y = df[['pref_C1']]\n",
    "\n",
    "# Split the data into training and testing sets\n",
    "X_train, X_test, y_train, y_test = train_test_split(X, y, test_size=0.2, random_state=42)\n",
    "\n",
    "# Fit a random forest model to the training data\n",
    "model = RandomForestClassifier(n_estimators=100, random_state=42).fit(X_train, y_train)\n",
    "\n",
    "# Predict the labels of the testing data\n",
    "y_pred = model.predict(X_test)\n",
    "\n",
    "# Compute various performance metrics of the model\n",
    "accuracy = accuracy_score(y_test, y_pred)\n",
    "precision = precision_score(y_test, y_pred)\n",
    "recall = recall_score(y_test, y_pred)\n",
    "f1 = f1_score(y_test, y_pred)\n",
    "\n",
    "print(f\"Accuracy: {accuracy}\")\n",
    "print(f\"Precision: {precision}\")\n",
    "print(f\"Recall: {recall}\")\n",
    "print(f\"F1 score: {f1}\")\n"
   ]
  },
  {
   "cell_type": "code",
   "execution_count": 53,
   "id": "f4329bc7",
   "metadata": {},
   "outputs": [
    {
     "name": "stdout",
     "output_type": "stream",
     "text": [
      "Accuracy: 0.9605809128630706\n",
      "Precision: 0.9963768115942029\n",
      "Recall: 0.9385665529010239\n",
      "F1 score: 0.9666080843585236\n"
     ]
    }
   ],
   "source": [
    "# Random Forest classification for Design and Analysis of Algorithm\n",
    "\n",
    "import pandas as pd\n",
    "from sklearn.ensemble import RandomForestClassifier\n",
    "from sklearn.model_selection import train_test_split\n",
    "from sklearn.metrics import accuracy_score, precision_score, recall_score, f1_score\n",
    "\n",
    "# Separate the remaining columns into X and y\n",
    "X = df[['sdur_C2']]\n",
    "y = df[['pref_C2']]\n",
    "\n",
    "# Split the data into training and testing sets\n",
    "X_train, X_test, y_train, y_test = train_test_split(X, y, test_size=0.2, random_state=42)\n",
    "\n",
    "# Fit a random forest model to the training data\n",
    "model = RandomForestClassifier(n_estimators=100, random_state=42).fit(X_train, y_train)\n",
    "\n",
    "# Predict the labels of the testing data\n",
    "y_pred = model.predict(X_test)\n",
    "\n",
    "# Compute various performance metrics of the model\n",
    "accuracy = accuracy_score(y_test, y_pred)\n",
    "precision = precision_score(y_test, y_pred)\n",
    "recall = recall_score(y_test, y_pred)\n",
    "f1 = f1_score(y_test, y_pred)\n",
    "\n",
    "print(f\"Accuracy: {accuracy}\")\n",
    "print(f\"Precision: {precision}\")\n",
    "print(f\"Recall: {recall}\")\n",
    "print(f\"F1 score: {f1}\")\n"
   ]
  },
  {
   "cell_type": "code",
   "execution_count": 54,
   "id": "d00e20cc",
   "metadata": {},
   "outputs": [
    {
     "name": "stdout",
     "output_type": "stream",
     "text": [
      "Accuracy: 0.9543568464730291\n",
      "Precision: 0.993103448275862\n",
      "Recall: 0.935064935064935\n",
      "F1 score: 0.9632107023411371\n"
     ]
    }
   ],
   "source": [
    "# Random Forest classification for High Performance Computing\n",
    "\n",
    "import pandas as pd\n",
    "from sklearn.ensemble import RandomForestClassifier\n",
    "from sklearn.model_selection import train_test_split\n",
    "from sklearn.metrics import accuracy_score, precision_score, recall_score, f1_score\n",
    "\n",
    "# Separate the remaining columns into X and y\n",
    "X = df[['sdur_C3']]\n",
    "y = df[['pref_C3']]\n",
    "\n",
    "# Split the data into training and testing sets\n",
    "X_train, X_test, y_train, y_test = train_test_split(X, y, test_size=0.2, random_state=42)\n",
    "\n",
    "# Fit a random forest model to the training data\n",
    "model = RandomForestClassifier(n_estimators=100, random_state=42).fit(X_train, y_train)\n",
    "\n",
    "# Predict the labels of the testing data\n",
    "y_pred = model.predict(X_test)\n",
    "\n",
    "# Compute various performance metrics of the model\n",
    "accuracy = accuracy_score(y_test, y_pred)\n",
    "precision = precision_score(y_test, y_pred)\n",
    "recall = recall_score(y_test, y_pred)\n",
    "f1 = f1_score(y_test, y_pred)\n",
    "\n",
    "print(f\"Accuracy: {accuracy}\")\n",
    "print(f\"Precision: {precision}\")\n",
    "print(f\"Recall: {recall}\")\n",
    "print(f\"F1 score: {f1}\")\n"
   ]
  },
  {
   "cell_type": "code",
   "execution_count": 55,
   "id": "981aaab6",
   "metadata": {},
   "outputs": [
    {
     "name": "stdout",
     "output_type": "stream",
     "text": [
      "Accuracy: 0.941908713692946\n",
      "Precision: 0.9790209790209791\n",
      "Recall: 0.9271523178807947\n",
      "F1 score: 0.9523809523809524\n"
     ]
    }
   ],
   "source": [
    "# Random Forest classification for Computer Networks\n",
    "\n",
    "import pandas as pd\n",
    "from sklearn.ensemble import RandomForestClassifier\n",
    "from sklearn.model_selection import train_test_split\n",
    "from sklearn.metrics import accuracy_score, precision_score, recall_score, f1_score\n",
    "\n",
    "# Separate the remaining columns into X and y\n",
    "X = df[['sdur_C1']]\n",
    "y = df[['pref_C1']]\n",
    "\n",
    "# Split the data into training and testing sets\n",
    "X_train, X_test, y_train, y_test = train_test_split(X, y, test_size=0.2, random_state=42)\n",
    "\n",
    "# Fit a random forest model to the training data\n",
    "model = RandomForestClassifier(n_estimators=100, random_state=42).fit(X_train, y_train)\n",
    "\n",
    "# Predict the labels of the testing data\n",
    "y_pred = model.predict(X_test)\n",
    "\n",
    "# Compute various performance metrics of the model\n",
    "accuracy = accuracy_score(y_test, y_pred)\n",
    "precision = precision_score(y_test, y_pred)\n",
    "recall = recall_score(y_test, y_pred)\n",
    "f1 = f1_score(y_test, y_pred)\n",
    "\n",
    "print(f\"Accuracy: {accuracy}\")\n",
    "print(f\"Precision: {precision}\")\n",
    "print(f\"Recall: {recall}\")\n",
    "print(f\"F1 score: {f1}\")\n"
   ]
  },
  {
   "cell_type": "code",
   "execution_count": null,
   "id": "a73c8323",
   "metadata": {},
   "outputs": [],
   "source": [
    "# Random Forest classification for DE1(Artificial Intelligence)\n",
    "\n",
    "import pandas as pd\n",
    "from sklearn.ensemble import RandomForestClassifier\n",
    "from sklearn.model_selection import train_test_split\n",
    "from sklearn.metrics import accuracy_score, precision_score, recall_score, f1_score\n",
    "\n",
    "# Separate the remaining columns into X and y\n",
    "X = df[['sdur_DE1']]\n",
    "y = df[['pref_DE1']]\n",
    "\n",
    "# Split the data into training and testing sets\n",
    "X_train, X_test, y_train, y_test = train_test_split(X, y, test_size=0.2, random_state=42)\n",
    "\n",
    "# Fit a random forest model to the training data\n",
    "model = RandomForestClassifier(n_estimators=100, random_state=42).fit(X_train, y_train)\n",
    "\n",
    "# Predict the labels of the testing data\n",
    "y_pred = model.predict(X_test)\n",
    "\n",
    "# Compute various performance metrics of the model\n",
    "accuracy = accuracy_score(y_test, y_pred)\n",
    "precision = precision_score(y_test, y_pred)\n",
    "recall = recall_score(y_test, y_pred)\n",
    "f1 = f1_score(y_test, y_pred)\n",
    "\n",
    "print(f\"Accuracy: {accuracy}\")\n",
    "print(f\"Precision: {precision}\")\n",
    "print(f\"Recall: {recall}\")\n",
    "print(f\"F1 score: {f1}\")\n"
   ]
  },
  {
   "cell_type": "code",
   "execution_count": null,
   "id": "882df1f3",
   "metadata": {},
   "outputs": [],
   "source": [
    "# Random Forest classification for DE2(Big Data)\n",
    "\n",
    "import pandas as pd\n",
    "from sklearn.ensemble import RandomForestClassifier\n",
    "from sklearn.model_selection import train_test_split\n",
    "from sklearn.metrics import accuracy_score, precision_score, recall_score, f1_score\n",
    "\n",
    "# Separate the remaining columns into X and y\n",
    "X = df[['sdur_DE2']]\n",
    "y = df[['pref_DE2']]\n",
    "\n",
    "# Split the data into training and testing sets\n",
    "X_train, X_test, y_train, y_test = train_test_split(X, y, test_size=0.2, random_state=42)\n",
    "\n",
    "# Fit a random forest model to the training data\n",
    "model = RandomForestClassifier(n_estimators=100, random_state=42).fit(X_train, y_train)\n",
    "\n",
    "# Predict the labels of the testing data\n",
    "y_pred = model.predict(X_test)\n",
    "\n",
    "# Compute various performance metrics of the model\n",
    "accuracy = accuracy_score(y_test, y_pred)\n",
    "precision = precision_score(y_test, y_pred)\n",
    "recall = recall_score(y_test, y_pred)\n",
    "f1 = f1_score(y_test, y_pred)\n",
    "\n",
    "print(f\"Accuracy: {accuracy}\")\n",
    "print(f\"Precision: {precision}\")\n",
    "print(f\"Recall: {recall}\")\n",
    "print(f\"F1 score: {f1}\")\n"
   ]
  },
  {
   "cell_type": "code",
   "execution_count": null,
   "id": "8046ce1c",
   "metadata": {},
   "outputs": [],
   "source": []
  },
  {
   "cell_type": "code",
   "execution_count": null,
   "id": "89888dc0",
   "metadata": {},
   "outputs": [],
   "source": []
  },
  {
   "cell_type": "code",
   "execution_count": null,
   "id": "cd56de31",
   "metadata": {},
   "outputs": [],
   "source": []
  },
  {
   "cell_type": "code",
   "execution_count": null,
   "id": "067f953f",
   "metadata": {},
   "outputs": [],
   "source": []
  },
  {
   "cell_type": "code",
   "execution_count": null,
   "id": "c9c4bb9f",
   "metadata": {},
   "outputs": [],
   "source": []
  },
  {
   "cell_type": "code",
   "execution_count": null,
   "id": "dfdc9dad",
   "metadata": {},
   "outputs": [],
   "source": []
  },
  {
   "cell_type": "code",
   "execution_count": null,
   "id": "8d3253c2",
   "metadata": {},
   "outputs": [],
   "source": []
  },
  {
   "cell_type": "code",
   "execution_count": null,
   "id": "be50c7a4",
   "metadata": {},
   "outputs": [],
   "source": []
  }
 ],
 "metadata": {
  "colab": {
   "collapsed_sections": [],
   "name": "minor_EC3082.ipynb",
   "provenance": []
  },
  "kernelspec": {
   "display_name": "Python 3 (ipykernel)",
   "language": "python",
   "name": "python3"
  },
  "language_info": {
   "codemirror_mode": {
    "name": "ipython",
    "version": 3
   },
   "file_extension": ".py",
   "mimetype": "text/x-python",
   "name": "python",
   "nbconvert_exporter": "python",
   "pygments_lexer": "ipython3",
   "version": "3.9.4"
  }
 },
 "nbformat": 4,
 "nbformat_minor": 5
}

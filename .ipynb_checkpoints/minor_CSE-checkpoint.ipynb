{
 "cells": [
  {
   "cell_type": "markdown",
   "id": "28774910",
   "metadata": {
    "id": "28774910"
   },
   "source": [
    "# Importing required modules/frameworks"
   ]
  },
  {
   "cell_type": "code",
   "execution_count": 1,
   "id": "23b2e2b9",
   "metadata": {
    "id": "23b2e2b9"
   },
   "outputs": [],
   "source": [
    "#importing libraries\n",
    "import pandas\n",
    "from matplotlib import pyplot as plt\n",
    "import numpy as np\n",
    "%matplotlib inline"
   ]
  },
  {
   "cell_type": "markdown",
   "id": "25083733",
   "metadata": {
    "id": "25083733"
   },
   "source": [
    "# Reading the dataset"
   ]
  },
  {
   "cell_type": "code",
   "execution_count": 2,
   "id": "28133c5a",
   "metadata": {
    "colab": {
     "base_uri": "https://localhost:8080/",
     "height": 695
    },
    "id": "28133c5a",
    "outputId": "eab1ac9e-5337-4646-a622-d4fa82ad8b26"
   },
   "outputs": [
    {
     "data": {
      "text/html": [
       "<div>\n",
       "<style scoped>\n",
       "    .dataframe tbody tr th:only-of-type {\n",
       "        vertical-align: middle;\n",
       "    }\n",
       "\n",
       "    .dataframe tbody tr th {\n",
       "        vertical-align: top;\n",
       "    }\n",
       "\n",
       "    .dataframe thead th {\n",
       "        text-align: right;\n",
       "    }\n",
       "</style>\n",
       "<table border=\"1\" class=\"dataframe\">\n",
       "  <thead>\n",
       "    <tr style=\"text-align: right;\">\n",
       "      <th></th>\n",
       "      <th>Unnamed: 0</th>\n",
       "      <th>roll_no</th>\n",
       "      <th>student_name</th>\n",
       "      <th>branch/course</th>\n",
       "      <th>sdur_C1</th>\n",
       "      <th>pref_C1</th>\n",
       "      <th>sdur_C2</th>\n",
       "      <th>pref_C2</th>\n",
       "      <th>sdur_C3</th>\n",
       "      <th>pref_C3</th>\n",
       "      <th>sdur_DE1</th>\n",
       "      <th>pref_DE1</th>\n",
       "      <th>sdur_DE2</th>\n",
       "      <th>pref_DE2</th>\n",
       "      <th>sdur_DE3</th>\n",
       "      <th>pref_DE3</th>\n",
       "      <th>sdur_OE1</th>\n",
       "      <th>pref_OE1</th>\n",
       "    </tr>\n",
       "  </thead>\n",
       "  <tbody>\n",
       "    <tr>\n",
       "      <th>0</th>\n",
       "      <td>NaN</td>\n",
       "      <td>20051663</td>\n",
       "      <td>SATYAM TIWARI</td>\n",
       "      <td>CSE-09</td>\n",
       "      <td>12</td>\n",
       "      <td>hardcopy</td>\n",
       "      <td>3</td>\n",
       "      <td>hardcopy</td>\n",
       "      <td>5</td>\n",
       "      <td>hardcopy</td>\n",
       "      <td>10</td>\n",
       "      <td>hardcopy</td>\n",
       "      <td>6</td>\n",
       "      <td>hardcopy</td>\n",
       "      <td>2</td>\n",
       "      <td>hardcopy</td>\n",
       "      <td>9</td>\n",
       "      <td>eBook</td>\n",
       "    </tr>\n",
       "    <tr>\n",
       "      <th>1</th>\n",
       "      <td>NaN</td>\n",
       "      <td>2005244</td>\n",
       "      <td>NIHARIKA SINGH</td>\n",
       "      <td>CSE-10</td>\n",
       "      <td>3</td>\n",
       "      <td>hardcopy</td>\n",
       "      <td>3</td>\n",
       "      <td>hardcopy</td>\n",
       "      <td>3</td>\n",
       "      <td>hardcopy</td>\n",
       "      <td>3</td>\n",
       "      <td>hardcopy</td>\n",
       "      <td>3</td>\n",
       "      <td>hardcopy</td>\n",
       "      <td>3</td>\n",
       "      <td>hardcopy</td>\n",
       "      <td>3</td>\n",
       "      <td>hardcopy</td>\n",
       "    </tr>\n",
       "    <tr>\n",
       "      <th>2</th>\n",
       "      <td>NaN</td>\n",
       "      <td>20051394</td>\n",
       "      <td>SHAINEE PATTNAIK</td>\n",
       "      <td>CSE-17</td>\n",
       "      <td>5</td>\n",
       "      <td>eBook</td>\n",
       "      <td>1</td>\n",
       "      <td>eBook</td>\n",
       "      <td>2</td>\n",
       "      <td>eBook</td>\n",
       "      <td>5</td>\n",
       "      <td>hardcopy</td>\n",
       "      <td>8</td>\n",
       "      <td>eBook</td>\n",
       "      <td>8</td>\n",
       "      <td>eBook</td>\n",
       "      <td>8</td>\n",
       "      <td>eBook</td>\n",
       "    </tr>\n",
       "    <tr>\n",
       "      <th>3</th>\n",
       "      <td>NaN</td>\n",
       "      <td>20051602</td>\n",
       "      <td>AANCHAL CHAMARIA</td>\n",
       "      <td>CSE-19</td>\n",
       "      <td>2</td>\n",
       "      <td>eBook</td>\n",
       "      <td>2</td>\n",
       "      <td>eBook</td>\n",
       "      <td>2</td>\n",
       "      <td>eBook</td>\n",
       "      <td>2</td>\n",
       "      <td>eBook</td>\n",
       "      <td>2</td>\n",
       "      <td>eBook</td>\n",
       "      <td>2</td>\n",
       "      <td>eBook</td>\n",
       "      <td>2</td>\n",
       "      <td>eBook</td>\n",
       "    </tr>\n",
       "    <tr>\n",
       "      <th>4</th>\n",
       "      <td>NaN</td>\n",
       "      <td>20051047</td>\n",
       "      <td>VAISHALI PAWAR</td>\n",
       "      <td>CSE-10</td>\n",
       "      <td>6</td>\n",
       "      <td>hardcopy</td>\n",
       "      <td>6</td>\n",
       "      <td>hardcopy</td>\n",
       "      <td>6</td>\n",
       "      <td>hardcopy</td>\n",
       "      <td>6</td>\n",
       "      <td>eBook</td>\n",
       "      <td>6</td>\n",
       "      <td>eBook</td>\n",
       "      <td>6</td>\n",
       "      <td>eBook</td>\n",
       "      <td>6</td>\n",
       "      <td>hardcopy</td>\n",
       "    </tr>\n",
       "    <tr>\n",
       "      <th>...</th>\n",
       "      <td>...</td>\n",
       "      <td>...</td>\n",
       "      <td>...</td>\n",
       "      <td>...</td>\n",
       "      <td>...</td>\n",
       "      <td>...</td>\n",
       "      <td>...</td>\n",
       "      <td>...</td>\n",
       "      <td>...</td>\n",
       "      <td>...</td>\n",
       "      <td>...</td>\n",
       "      <td>...</td>\n",
       "      <td>...</td>\n",
       "      <td>...</td>\n",
       "      <td>...</td>\n",
       "      <td>...</td>\n",
       "      <td>...</td>\n",
       "      <td>...</td>\n",
       "    </tr>\n",
       "    <tr>\n",
       "      <th>2403</th>\n",
       "      <td>NaN</td>\n",
       "      <td>2028130</td>\n",
       "      <td>RITIK KUMAR</td>\n",
       "      <td>CSSE-02</td>\n",
       "      <td>39</td>\n",
       "      <td>hardcopy</td>\n",
       "      <td>18</td>\n",
       "      <td>eBook</td>\n",
       "      <td>36</td>\n",
       "      <td>hardcopy</td>\n",
       "      <td>49</td>\n",
       "      <td>hardcopy</td>\n",
       "      <td>18</td>\n",
       "      <td>eBook</td>\n",
       "      <td>7</td>\n",
       "      <td>eBook</td>\n",
       "      <td>7</td>\n",
       "      <td>eBook</td>\n",
       "    </tr>\n",
       "    <tr>\n",
       "      <th>2404</th>\n",
       "      <td>NaN</td>\n",
       "      <td>2028110</td>\n",
       "      <td>SHREYA GHOSH</td>\n",
       "      <td>CSSE-01</td>\n",
       "      <td>44</td>\n",
       "      <td>hardcopy</td>\n",
       "      <td>2</td>\n",
       "      <td>eBook</td>\n",
       "      <td>20</td>\n",
       "      <td>eBook</td>\n",
       "      <td>36</td>\n",
       "      <td>hardcopy</td>\n",
       "      <td>32</td>\n",
       "      <td>hardcopy</td>\n",
       "      <td>13</td>\n",
       "      <td>eBook</td>\n",
       "      <td>13</td>\n",
       "      <td>eBook</td>\n",
       "    </tr>\n",
       "    <tr>\n",
       "      <th>2405</th>\n",
       "      <td>NaN</td>\n",
       "      <td>2028169</td>\n",
       "      <td>PRATYUSH MISHRA</td>\n",
       "      <td>CSSE-02</td>\n",
       "      <td>37</td>\n",
       "      <td>hardcopy</td>\n",
       "      <td>38</td>\n",
       "      <td>hardcopy</td>\n",
       "      <td>62</td>\n",
       "      <td>hardcopy</td>\n",
       "      <td>20</td>\n",
       "      <td>eBook</td>\n",
       "      <td>38</td>\n",
       "      <td>hardcopy</td>\n",
       "      <td>45</td>\n",
       "      <td>hardcopy</td>\n",
       "      <td>45</td>\n",
       "      <td>hardcopy</td>\n",
       "    </tr>\n",
       "    <tr>\n",
       "      <th>2406</th>\n",
       "      <td>NaN</td>\n",
       "      <td>2028197</td>\n",
       "      <td>PREM BAHADUR SHAH</td>\n",
       "      <td>CSSE-02</td>\n",
       "      <td>67</td>\n",
       "      <td>eBook</td>\n",
       "      <td>42</td>\n",
       "      <td>hardcopy</td>\n",
       "      <td>17</td>\n",
       "      <td>eBook</td>\n",
       "      <td>62</td>\n",
       "      <td>hardcopy</td>\n",
       "      <td>13</td>\n",
       "      <td>eBook</td>\n",
       "      <td>50</td>\n",
       "      <td>hardcopy</td>\n",
       "      <td>50</td>\n",
       "      <td>hardcopy</td>\n",
       "    </tr>\n",
       "    <tr>\n",
       "      <th>2407</th>\n",
       "      <td>NaN</td>\n",
       "      <td>2028190</td>\n",
       "      <td>Srishty Nanda</td>\n",
       "      <td>CSSE-02</td>\n",
       "      <td>16</td>\n",
       "      <td>eBook</td>\n",
       "      <td>10</td>\n",
       "      <td>eBook</td>\n",
       "      <td>18</td>\n",
       "      <td>eBook</td>\n",
       "      <td>17</td>\n",
       "      <td>eBook</td>\n",
       "      <td>49</td>\n",
       "      <td>hardcopy</td>\n",
       "      <td>9</td>\n",
       "      <td>eBook</td>\n",
       "      <td>9</td>\n",
       "      <td>eBook</td>\n",
       "    </tr>\n",
       "  </tbody>\n",
       "</table>\n",
       "<p>2408 rows × 18 columns</p>\n",
       "</div>"
      ],
      "text/plain": [
       "      Unnamed: 0   roll_no       student_name branch/course  sdur_C1  \\\n",
       "0            NaN  20051663      SATYAM TIWARI        CSE-09       12   \n",
       "1            NaN   2005244     NIHARIKA SINGH        CSE-10        3   \n",
       "2            NaN  20051394   SHAINEE PATTNAIK        CSE-17        5   \n",
       "3            NaN  20051602   AANCHAL CHAMARIA        CSE-19        2   \n",
       "4            NaN  20051047     VAISHALI PAWAR        CSE-10        6   \n",
       "...          ...       ...                ...           ...      ...   \n",
       "2403         NaN   2028130        RITIK KUMAR       CSSE-02       39   \n",
       "2404         NaN   2028110       SHREYA GHOSH       CSSE-01       44   \n",
       "2405         NaN   2028169    PRATYUSH MISHRA       CSSE-02       37   \n",
       "2406         NaN   2028197  PREM BAHADUR SHAH       CSSE-02       67   \n",
       "2407         NaN   2028190      Srishty Nanda       CSSE-02       16   \n",
       "\n",
       "       pref_C1  sdur_C2   pref_C2  sdur_C3   pref_C3  sdur_DE1  pref_DE1  \\\n",
       "0     hardcopy        3  hardcopy        5  hardcopy        10  hardcopy   \n",
       "1     hardcopy        3  hardcopy        3  hardcopy         3  hardcopy   \n",
       "2        eBook        1     eBook        2     eBook         5  hardcopy   \n",
       "3        eBook        2     eBook        2     eBook         2     eBook   \n",
       "4     hardcopy        6  hardcopy        6  hardcopy         6     eBook   \n",
       "...        ...      ...       ...      ...       ...       ...       ...   \n",
       "2403  hardcopy       18     eBook       36  hardcopy        49  hardcopy   \n",
       "2404  hardcopy        2     eBook       20     eBook        36  hardcopy   \n",
       "2405  hardcopy       38  hardcopy       62  hardcopy        20     eBook   \n",
       "2406     eBook       42  hardcopy       17     eBook        62  hardcopy   \n",
       "2407     eBook       10     eBook       18     eBook        17     eBook   \n",
       "\n",
       "      sdur_DE2  pref_DE2  sdur_DE3  pref_DE3  sdur_OE1  pref_OE1  \n",
       "0            6  hardcopy         2  hardcopy         9     eBook  \n",
       "1            3  hardcopy         3  hardcopy         3  hardcopy  \n",
       "2            8     eBook         8     eBook         8     eBook  \n",
       "3            2     eBook         2     eBook         2     eBook  \n",
       "4            6     eBook         6     eBook         6  hardcopy  \n",
       "...        ...       ...       ...       ...       ...       ...  \n",
       "2403        18     eBook         7     eBook         7     eBook  \n",
       "2404        32  hardcopy        13     eBook        13     eBook  \n",
       "2405        38  hardcopy        45  hardcopy        45  hardcopy  \n",
       "2406        13     eBook        50  hardcopy        50  hardcopy  \n",
       "2407        49  hardcopy         9     eBook         9     eBook  \n",
       "\n",
       "[2408 rows x 18 columns]"
      ]
     },
     "execution_count": 2,
     "metadata": {},
     "output_type": "execute_result"
    }
   ],
   "source": [
    "#reading the excel sheet\n",
    "df = pandas.read_csv('student.csv')\n",
    "df"
   ]
  },
  {
   "cell_type": "code",
   "execution_count": 3,
   "id": "d86bf956",
   "metadata": {
    "colab": {
     "base_uri": "https://localhost:8080/"
    },
    "id": "d86bf956",
    "outputId": "34bb4212-b26a-4d60-e27d-ec32f2de1e28"
   },
   "outputs": [
    {
     "data": {
      "text/plain": [
       "(2408, 18)"
      ]
     },
     "execution_count": 3,
     "metadata": {},
     "output_type": "execute_result"
    }
   ],
   "source": [
    "#computing the shape\n",
    "df.shape"
   ]
  },
  {
   "cell_type": "markdown",
   "id": "964963c5",
   "metadata": {
    "id": "964963c5"
   },
   "source": [
    "# Data preprocessing\n",
    "- Dropping empty rows/columns\n",
    "- Checking for duplicates"
   ]
  },
  {
   "cell_type": "code",
   "execution_count": 4,
   "id": "a0247e2b",
   "metadata": {
    "colab": {
     "base_uri": "https://localhost:8080/",
     "height": 678
    },
    "id": "a0247e2b",
    "outputId": "cad2a6fa-7cc1-4825-d45d-9ea098d06f49"
   },
   "outputs": [
    {
     "data": {
      "text/html": [
       "<div>\n",
       "<style scoped>\n",
       "    .dataframe tbody tr th:only-of-type {\n",
       "        vertical-align: middle;\n",
       "    }\n",
       "\n",
       "    .dataframe tbody tr th {\n",
       "        vertical-align: top;\n",
       "    }\n",
       "\n",
       "    .dataframe thead th {\n",
       "        text-align: right;\n",
       "    }\n",
       "</style>\n",
       "<table border=\"1\" class=\"dataframe\">\n",
       "  <thead>\n",
       "    <tr style=\"text-align: right;\">\n",
       "      <th></th>\n",
       "      <th>roll_no</th>\n",
       "      <th>student_name</th>\n",
       "      <th>branch/course</th>\n",
       "      <th>sdur_C1</th>\n",
       "      <th>pref_C1</th>\n",
       "      <th>sdur_C2</th>\n",
       "      <th>pref_C2</th>\n",
       "      <th>sdur_C3</th>\n",
       "      <th>pref_C3</th>\n",
       "      <th>sdur_DE1</th>\n",
       "      <th>pref_DE1</th>\n",
       "      <th>sdur_DE2</th>\n",
       "      <th>pref_DE2</th>\n",
       "      <th>sdur_DE3</th>\n",
       "      <th>pref_DE3</th>\n",
       "      <th>sdur_OE1</th>\n",
       "      <th>pref_OE1</th>\n",
       "    </tr>\n",
       "  </thead>\n",
       "  <tbody>\n",
       "    <tr>\n",
       "      <th>0</th>\n",
       "      <td>20051663</td>\n",
       "      <td>SATYAM TIWARI</td>\n",
       "      <td>CSE-09</td>\n",
       "      <td>12</td>\n",
       "      <td>hardcopy</td>\n",
       "      <td>3</td>\n",
       "      <td>hardcopy</td>\n",
       "      <td>5</td>\n",
       "      <td>hardcopy</td>\n",
       "      <td>10</td>\n",
       "      <td>hardcopy</td>\n",
       "      <td>6</td>\n",
       "      <td>hardcopy</td>\n",
       "      <td>2</td>\n",
       "      <td>hardcopy</td>\n",
       "      <td>9</td>\n",
       "      <td>eBook</td>\n",
       "    </tr>\n",
       "    <tr>\n",
       "      <th>1</th>\n",
       "      <td>2005244</td>\n",
       "      <td>NIHARIKA SINGH</td>\n",
       "      <td>CSE-10</td>\n",
       "      <td>3</td>\n",
       "      <td>hardcopy</td>\n",
       "      <td>3</td>\n",
       "      <td>hardcopy</td>\n",
       "      <td>3</td>\n",
       "      <td>hardcopy</td>\n",
       "      <td>3</td>\n",
       "      <td>hardcopy</td>\n",
       "      <td>3</td>\n",
       "      <td>hardcopy</td>\n",
       "      <td>3</td>\n",
       "      <td>hardcopy</td>\n",
       "      <td>3</td>\n",
       "      <td>hardcopy</td>\n",
       "    </tr>\n",
       "    <tr>\n",
       "      <th>2</th>\n",
       "      <td>20051394</td>\n",
       "      <td>SHAINEE PATTNAIK</td>\n",
       "      <td>CSE-17</td>\n",
       "      <td>5</td>\n",
       "      <td>eBook</td>\n",
       "      <td>1</td>\n",
       "      <td>eBook</td>\n",
       "      <td>2</td>\n",
       "      <td>eBook</td>\n",
       "      <td>5</td>\n",
       "      <td>hardcopy</td>\n",
       "      <td>8</td>\n",
       "      <td>eBook</td>\n",
       "      <td>8</td>\n",
       "      <td>eBook</td>\n",
       "      <td>8</td>\n",
       "      <td>eBook</td>\n",
       "    </tr>\n",
       "    <tr>\n",
       "      <th>3</th>\n",
       "      <td>20051602</td>\n",
       "      <td>AANCHAL CHAMARIA</td>\n",
       "      <td>CSE-19</td>\n",
       "      <td>2</td>\n",
       "      <td>eBook</td>\n",
       "      <td>2</td>\n",
       "      <td>eBook</td>\n",
       "      <td>2</td>\n",
       "      <td>eBook</td>\n",
       "      <td>2</td>\n",
       "      <td>eBook</td>\n",
       "      <td>2</td>\n",
       "      <td>eBook</td>\n",
       "      <td>2</td>\n",
       "      <td>eBook</td>\n",
       "      <td>2</td>\n",
       "      <td>eBook</td>\n",
       "    </tr>\n",
       "    <tr>\n",
       "      <th>4</th>\n",
       "      <td>20051047</td>\n",
       "      <td>VAISHALI PAWAR</td>\n",
       "      <td>CSE-10</td>\n",
       "      <td>6</td>\n",
       "      <td>hardcopy</td>\n",
       "      <td>6</td>\n",
       "      <td>hardcopy</td>\n",
       "      <td>6</td>\n",
       "      <td>hardcopy</td>\n",
       "      <td>6</td>\n",
       "      <td>eBook</td>\n",
       "      <td>6</td>\n",
       "      <td>eBook</td>\n",
       "      <td>6</td>\n",
       "      <td>eBook</td>\n",
       "      <td>6</td>\n",
       "      <td>hardcopy</td>\n",
       "    </tr>\n",
       "    <tr>\n",
       "      <th>...</th>\n",
       "      <td>...</td>\n",
       "      <td>...</td>\n",
       "      <td>...</td>\n",
       "      <td>...</td>\n",
       "      <td>...</td>\n",
       "      <td>...</td>\n",
       "      <td>...</td>\n",
       "      <td>...</td>\n",
       "      <td>...</td>\n",
       "      <td>...</td>\n",
       "      <td>...</td>\n",
       "      <td>...</td>\n",
       "      <td>...</td>\n",
       "      <td>...</td>\n",
       "      <td>...</td>\n",
       "      <td>...</td>\n",
       "      <td>...</td>\n",
       "    </tr>\n",
       "    <tr>\n",
       "      <th>2403</th>\n",
       "      <td>2028130</td>\n",
       "      <td>RITIK KUMAR</td>\n",
       "      <td>CSSE-02</td>\n",
       "      <td>39</td>\n",
       "      <td>hardcopy</td>\n",
       "      <td>18</td>\n",
       "      <td>eBook</td>\n",
       "      <td>36</td>\n",
       "      <td>hardcopy</td>\n",
       "      <td>49</td>\n",
       "      <td>hardcopy</td>\n",
       "      <td>18</td>\n",
       "      <td>eBook</td>\n",
       "      <td>7</td>\n",
       "      <td>eBook</td>\n",
       "      <td>7</td>\n",
       "      <td>eBook</td>\n",
       "    </tr>\n",
       "    <tr>\n",
       "      <th>2404</th>\n",
       "      <td>2028110</td>\n",
       "      <td>SHREYA GHOSH</td>\n",
       "      <td>CSSE-01</td>\n",
       "      <td>44</td>\n",
       "      <td>hardcopy</td>\n",
       "      <td>2</td>\n",
       "      <td>eBook</td>\n",
       "      <td>20</td>\n",
       "      <td>eBook</td>\n",
       "      <td>36</td>\n",
       "      <td>hardcopy</td>\n",
       "      <td>32</td>\n",
       "      <td>hardcopy</td>\n",
       "      <td>13</td>\n",
       "      <td>eBook</td>\n",
       "      <td>13</td>\n",
       "      <td>eBook</td>\n",
       "    </tr>\n",
       "    <tr>\n",
       "      <th>2405</th>\n",
       "      <td>2028169</td>\n",
       "      <td>PRATYUSH MISHRA</td>\n",
       "      <td>CSSE-02</td>\n",
       "      <td>37</td>\n",
       "      <td>hardcopy</td>\n",
       "      <td>38</td>\n",
       "      <td>hardcopy</td>\n",
       "      <td>62</td>\n",
       "      <td>hardcopy</td>\n",
       "      <td>20</td>\n",
       "      <td>eBook</td>\n",
       "      <td>38</td>\n",
       "      <td>hardcopy</td>\n",
       "      <td>45</td>\n",
       "      <td>hardcopy</td>\n",
       "      <td>45</td>\n",
       "      <td>hardcopy</td>\n",
       "    </tr>\n",
       "    <tr>\n",
       "      <th>2406</th>\n",
       "      <td>2028197</td>\n",
       "      <td>PREM BAHADUR SHAH</td>\n",
       "      <td>CSSE-02</td>\n",
       "      <td>67</td>\n",
       "      <td>eBook</td>\n",
       "      <td>42</td>\n",
       "      <td>hardcopy</td>\n",
       "      <td>17</td>\n",
       "      <td>eBook</td>\n",
       "      <td>62</td>\n",
       "      <td>hardcopy</td>\n",
       "      <td>13</td>\n",
       "      <td>eBook</td>\n",
       "      <td>50</td>\n",
       "      <td>hardcopy</td>\n",
       "      <td>50</td>\n",
       "      <td>hardcopy</td>\n",
       "    </tr>\n",
       "    <tr>\n",
       "      <th>2407</th>\n",
       "      <td>2028190</td>\n",
       "      <td>Srishty Nanda</td>\n",
       "      <td>CSSE-02</td>\n",
       "      <td>16</td>\n",
       "      <td>eBook</td>\n",
       "      <td>10</td>\n",
       "      <td>eBook</td>\n",
       "      <td>18</td>\n",
       "      <td>eBook</td>\n",
       "      <td>17</td>\n",
       "      <td>eBook</td>\n",
       "      <td>49</td>\n",
       "      <td>hardcopy</td>\n",
       "      <td>9</td>\n",
       "      <td>eBook</td>\n",
       "      <td>9</td>\n",
       "      <td>eBook</td>\n",
       "    </tr>\n",
       "  </tbody>\n",
       "</table>\n",
       "<p>2408 rows × 17 columns</p>\n",
       "</div>"
      ],
      "text/plain": [
       "       roll_no       student_name branch/course  sdur_C1   pref_C1  sdur_C2  \\\n",
       "0     20051663      SATYAM TIWARI        CSE-09       12  hardcopy        3   \n",
       "1      2005244     NIHARIKA SINGH        CSE-10        3  hardcopy        3   \n",
       "2     20051394   SHAINEE PATTNAIK        CSE-17        5     eBook        1   \n",
       "3     20051602   AANCHAL CHAMARIA        CSE-19        2     eBook        2   \n",
       "4     20051047     VAISHALI PAWAR        CSE-10        6  hardcopy        6   \n",
       "...        ...                ...           ...      ...       ...      ...   \n",
       "2403   2028130        RITIK KUMAR       CSSE-02       39  hardcopy       18   \n",
       "2404   2028110       SHREYA GHOSH       CSSE-01       44  hardcopy        2   \n",
       "2405   2028169    PRATYUSH MISHRA       CSSE-02       37  hardcopy       38   \n",
       "2406   2028197  PREM BAHADUR SHAH       CSSE-02       67     eBook       42   \n",
       "2407   2028190      Srishty Nanda       CSSE-02       16     eBook       10   \n",
       "\n",
       "       pref_C2  sdur_C3   pref_C3  sdur_DE1  pref_DE1  sdur_DE2  pref_DE2  \\\n",
       "0     hardcopy        5  hardcopy        10  hardcopy         6  hardcopy   \n",
       "1     hardcopy        3  hardcopy         3  hardcopy         3  hardcopy   \n",
       "2        eBook        2     eBook         5  hardcopy         8     eBook   \n",
       "3        eBook        2     eBook         2     eBook         2     eBook   \n",
       "4     hardcopy        6  hardcopy         6     eBook         6     eBook   \n",
       "...        ...      ...       ...       ...       ...       ...       ...   \n",
       "2403     eBook       36  hardcopy        49  hardcopy        18     eBook   \n",
       "2404     eBook       20     eBook        36  hardcopy        32  hardcopy   \n",
       "2405  hardcopy       62  hardcopy        20     eBook        38  hardcopy   \n",
       "2406  hardcopy       17     eBook        62  hardcopy        13     eBook   \n",
       "2407     eBook       18     eBook        17     eBook        49  hardcopy   \n",
       "\n",
       "      sdur_DE3  pref_DE3  sdur_OE1  pref_OE1  \n",
       "0            2  hardcopy         9     eBook  \n",
       "1            3  hardcopy         3  hardcopy  \n",
       "2            8     eBook         8     eBook  \n",
       "3            2     eBook         2     eBook  \n",
       "4            6     eBook         6  hardcopy  \n",
       "...        ...       ...       ...       ...  \n",
       "2403         7     eBook         7     eBook  \n",
       "2404        13     eBook        13     eBook  \n",
       "2405        45  hardcopy        45  hardcopy  \n",
       "2406        50  hardcopy        50  hardcopy  \n",
       "2407         9     eBook         9     eBook  \n",
       "\n",
       "[2408 rows x 17 columns]"
      ]
     },
     "execution_count": 4,
     "metadata": {},
     "output_type": "execute_result"
    }
   ],
   "source": [
    "#dropping first column of dataframe (NaN)\n",
    "df = df.iloc[: , 1:]\n",
    "df"
   ]
  },
  {
   "cell_type": "code",
   "execution_count": 5,
   "id": "fd9059ff",
   "metadata": {
    "colab": {
     "base_uri": "https://localhost:8080/"
    },
    "id": "fd9059ff",
    "outputId": "682acab1-4975-49a1-c021-42b194cc67c7"
   },
   "outputs": [
    {
     "data": {
      "text/plain": [
       "(2408, 17)"
      ]
     },
     "execution_count": 5,
     "metadata": {},
     "output_type": "execute_result"
    }
   ],
   "source": [
    "#shape updates\n",
    "df.shape"
   ]
  },
  {
   "cell_type": "code",
   "execution_count": 6,
   "id": "bd4b5599",
   "metadata": {
    "id": "bd4b5599"
   },
   "outputs": [
    {
     "data": {
      "text/html": [
       "<div>\n",
       "<style scoped>\n",
       "    .dataframe tbody tr th:only-of-type {\n",
       "        vertical-align: middle;\n",
       "    }\n",
       "\n",
       "    .dataframe tbody tr th {\n",
       "        vertical-align: top;\n",
       "    }\n",
       "\n",
       "    .dataframe thead th {\n",
       "        text-align: right;\n",
       "    }\n",
       "</style>\n",
       "<table border=\"1\" class=\"dataframe\">\n",
       "  <thead>\n",
       "    <tr style=\"text-align: right;\">\n",
       "      <th></th>\n",
       "      <th>roll_no</th>\n",
       "      <th>student_name</th>\n",
       "      <th>branch/course</th>\n",
       "      <th>sdur_C1</th>\n",
       "      <th>pref_C1</th>\n",
       "      <th>sdur_C2</th>\n",
       "      <th>pref_C2</th>\n",
       "      <th>sdur_C3</th>\n",
       "      <th>pref_C3</th>\n",
       "      <th>sdur_DE1</th>\n",
       "      <th>pref_DE1</th>\n",
       "      <th>sdur_DE2</th>\n",
       "      <th>pref_DE2</th>\n",
       "      <th>sdur_DE3</th>\n",
       "      <th>pref_DE3</th>\n",
       "      <th>sdur_OE1</th>\n",
       "      <th>pref_OE1</th>\n",
       "    </tr>\n",
       "  </thead>\n",
       "  <tbody>\n",
       "    <tr>\n",
       "      <th>0</th>\n",
       "      <td>20051663</td>\n",
       "      <td>SATYAM TIWARI</td>\n",
       "      <td>CSE-09</td>\n",
       "      <td>12</td>\n",
       "      <td>hardcopy</td>\n",
       "      <td>3</td>\n",
       "      <td>hardcopy</td>\n",
       "      <td>5</td>\n",
       "      <td>hardcopy</td>\n",
       "      <td>10</td>\n",
       "      <td>hardcopy</td>\n",
       "      <td>6</td>\n",
       "      <td>hardcopy</td>\n",
       "      <td>2</td>\n",
       "      <td>hardcopy</td>\n",
       "      <td>9</td>\n",
       "      <td>eBook</td>\n",
       "    </tr>\n",
       "    <tr>\n",
       "      <th>1</th>\n",
       "      <td>2005244</td>\n",
       "      <td>NIHARIKA SINGH</td>\n",
       "      <td>CSE-10</td>\n",
       "      <td>3</td>\n",
       "      <td>hardcopy</td>\n",
       "      <td>3</td>\n",
       "      <td>hardcopy</td>\n",
       "      <td>3</td>\n",
       "      <td>hardcopy</td>\n",
       "      <td>3</td>\n",
       "      <td>hardcopy</td>\n",
       "      <td>3</td>\n",
       "      <td>hardcopy</td>\n",
       "      <td>3</td>\n",
       "      <td>hardcopy</td>\n",
       "      <td>3</td>\n",
       "      <td>hardcopy</td>\n",
       "    </tr>\n",
       "    <tr>\n",
       "      <th>2</th>\n",
       "      <td>20051394</td>\n",
       "      <td>SHAINEE PATTNAIK</td>\n",
       "      <td>CSE-17</td>\n",
       "      <td>5</td>\n",
       "      <td>eBook</td>\n",
       "      <td>1</td>\n",
       "      <td>eBook</td>\n",
       "      <td>2</td>\n",
       "      <td>eBook</td>\n",
       "      <td>5</td>\n",
       "      <td>hardcopy</td>\n",
       "      <td>8</td>\n",
       "      <td>eBook</td>\n",
       "      <td>8</td>\n",
       "      <td>eBook</td>\n",
       "      <td>8</td>\n",
       "      <td>eBook</td>\n",
       "    </tr>\n",
       "    <tr>\n",
       "      <th>3</th>\n",
       "      <td>20051602</td>\n",
       "      <td>AANCHAL CHAMARIA</td>\n",
       "      <td>CSE-19</td>\n",
       "      <td>2</td>\n",
       "      <td>eBook</td>\n",
       "      <td>2</td>\n",
       "      <td>eBook</td>\n",
       "      <td>2</td>\n",
       "      <td>eBook</td>\n",
       "      <td>2</td>\n",
       "      <td>eBook</td>\n",
       "      <td>2</td>\n",
       "      <td>eBook</td>\n",
       "      <td>2</td>\n",
       "      <td>eBook</td>\n",
       "      <td>2</td>\n",
       "      <td>eBook</td>\n",
       "    </tr>\n",
       "    <tr>\n",
       "      <th>4</th>\n",
       "      <td>20051047</td>\n",
       "      <td>VAISHALI PAWAR</td>\n",
       "      <td>CSE-10</td>\n",
       "      <td>6</td>\n",
       "      <td>hardcopy</td>\n",
       "      <td>6</td>\n",
       "      <td>hardcopy</td>\n",
       "      <td>6</td>\n",
       "      <td>hardcopy</td>\n",
       "      <td>6</td>\n",
       "      <td>eBook</td>\n",
       "      <td>6</td>\n",
       "      <td>eBook</td>\n",
       "      <td>6</td>\n",
       "      <td>eBook</td>\n",
       "      <td>6</td>\n",
       "      <td>hardcopy</td>\n",
       "    </tr>\n",
       "    <tr>\n",
       "      <th>...</th>\n",
       "      <td>...</td>\n",
       "      <td>...</td>\n",
       "      <td>...</td>\n",
       "      <td>...</td>\n",
       "      <td>...</td>\n",
       "      <td>...</td>\n",
       "      <td>...</td>\n",
       "      <td>...</td>\n",
       "      <td>...</td>\n",
       "      <td>...</td>\n",
       "      <td>...</td>\n",
       "      <td>...</td>\n",
       "      <td>...</td>\n",
       "      <td>...</td>\n",
       "      <td>...</td>\n",
       "      <td>...</td>\n",
       "      <td>...</td>\n",
       "    </tr>\n",
       "    <tr>\n",
       "      <th>2403</th>\n",
       "      <td>2028130</td>\n",
       "      <td>RITIK KUMAR</td>\n",
       "      <td>CSSE-02</td>\n",
       "      <td>39</td>\n",
       "      <td>hardcopy</td>\n",
       "      <td>18</td>\n",
       "      <td>eBook</td>\n",
       "      <td>36</td>\n",
       "      <td>hardcopy</td>\n",
       "      <td>49</td>\n",
       "      <td>hardcopy</td>\n",
       "      <td>18</td>\n",
       "      <td>eBook</td>\n",
       "      <td>7</td>\n",
       "      <td>eBook</td>\n",
       "      <td>7</td>\n",
       "      <td>eBook</td>\n",
       "    </tr>\n",
       "    <tr>\n",
       "      <th>2404</th>\n",
       "      <td>2028110</td>\n",
       "      <td>SHREYA GHOSH</td>\n",
       "      <td>CSSE-01</td>\n",
       "      <td>44</td>\n",
       "      <td>hardcopy</td>\n",
       "      <td>2</td>\n",
       "      <td>eBook</td>\n",
       "      <td>20</td>\n",
       "      <td>eBook</td>\n",
       "      <td>36</td>\n",
       "      <td>hardcopy</td>\n",
       "      <td>32</td>\n",
       "      <td>hardcopy</td>\n",
       "      <td>13</td>\n",
       "      <td>eBook</td>\n",
       "      <td>13</td>\n",
       "      <td>eBook</td>\n",
       "    </tr>\n",
       "    <tr>\n",
       "      <th>2405</th>\n",
       "      <td>2028169</td>\n",
       "      <td>PRATYUSH MISHRA</td>\n",
       "      <td>CSSE-02</td>\n",
       "      <td>37</td>\n",
       "      <td>hardcopy</td>\n",
       "      <td>38</td>\n",
       "      <td>hardcopy</td>\n",
       "      <td>62</td>\n",
       "      <td>hardcopy</td>\n",
       "      <td>20</td>\n",
       "      <td>eBook</td>\n",
       "      <td>38</td>\n",
       "      <td>hardcopy</td>\n",
       "      <td>45</td>\n",
       "      <td>hardcopy</td>\n",
       "      <td>45</td>\n",
       "      <td>hardcopy</td>\n",
       "    </tr>\n",
       "    <tr>\n",
       "      <th>2406</th>\n",
       "      <td>2028197</td>\n",
       "      <td>PREM BAHADUR SHAH</td>\n",
       "      <td>CSSE-02</td>\n",
       "      <td>67</td>\n",
       "      <td>eBook</td>\n",
       "      <td>42</td>\n",
       "      <td>hardcopy</td>\n",
       "      <td>17</td>\n",
       "      <td>eBook</td>\n",
       "      <td>62</td>\n",
       "      <td>hardcopy</td>\n",
       "      <td>13</td>\n",
       "      <td>eBook</td>\n",
       "      <td>50</td>\n",
       "      <td>hardcopy</td>\n",
       "      <td>50</td>\n",
       "      <td>hardcopy</td>\n",
       "    </tr>\n",
       "    <tr>\n",
       "      <th>2407</th>\n",
       "      <td>2028190</td>\n",
       "      <td>Srishty Nanda</td>\n",
       "      <td>CSSE-02</td>\n",
       "      <td>16</td>\n",
       "      <td>eBook</td>\n",
       "      <td>10</td>\n",
       "      <td>eBook</td>\n",
       "      <td>18</td>\n",
       "      <td>eBook</td>\n",
       "      <td>17</td>\n",
       "      <td>eBook</td>\n",
       "      <td>49</td>\n",
       "      <td>hardcopy</td>\n",
       "      <td>9</td>\n",
       "      <td>eBook</td>\n",
       "      <td>9</td>\n",
       "      <td>eBook</td>\n",
       "    </tr>\n",
       "  </tbody>\n",
       "</table>\n",
       "<p>2408 rows × 17 columns</p>\n",
       "</div>"
      ],
      "text/plain": [
       "       roll_no       student_name branch/course  sdur_C1   pref_C1  sdur_C2  \\\n",
       "0     20051663      SATYAM TIWARI        CSE-09       12  hardcopy        3   \n",
       "1      2005244     NIHARIKA SINGH        CSE-10        3  hardcopy        3   \n",
       "2     20051394   SHAINEE PATTNAIK        CSE-17        5     eBook        1   \n",
       "3     20051602   AANCHAL CHAMARIA        CSE-19        2     eBook        2   \n",
       "4     20051047     VAISHALI PAWAR        CSE-10        6  hardcopy        6   \n",
       "...        ...                ...           ...      ...       ...      ...   \n",
       "2403   2028130        RITIK KUMAR       CSSE-02       39  hardcopy       18   \n",
       "2404   2028110       SHREYA GHOSH       CSSE-01       44  hardcopy        2   \n",
       "2405   2028169    PRATYUSH MISHRA       CSSE-02       37  hardcopy       38   \n",
       "2406   2028197  PREM BAHADUR SHAH       CSSE-02       67     eBook       42   \n",
       "2407   2028190      Srishty Nanda       CSSE-02       16     eBook       10   \n",
       "\n",
       "       pref_C2  sdur_C3   pref_C3  sdur_DE1  pref_DE1  sdur_DE2  pref_DE2  \\\n",
       "0     hardcopy        5  hardcopy        10  hardcopy         6  hardcopy   \n",
       "1     hardcopy        3  hardcopy         3  hardcopy         3  hardcopy   \n",
       "2        eBook        2     eBook         5  hardcopy         8     eBook   \n",
       "3        eBook        2     eBook         2     eBook         2     eBook   \n",
       "4     hardcopy        6  hardcopy         6     eBook         6     eBook   \n",
       "...        ...      ...       ...       ...       ...       ...       ...   \n",
       "2403     eBook       36  hardcopy        49  hardcopy        18     eBook   \n",
       "2404     eBook       20     eBook        36  hardcopy        32  hardcopy   \n",
       "2405  hardcopy       62  hardcopy        20     eBook        38  hardcopy   \n",
       "2406  hardcopy       17     eBook        62  hardcopy        13     eBook   \n",
       "2407     eBook       18     eBook        17     eBook        49  hardcopy   \n",
       "\n",
       "      sdur_DE3  pref_DE3  sdur_OE1  pref_OE1  \n",
       "0            2  hardcopy         9     eBook  \n",
       "1            3  hardcopy         3  hardcopy  \n",
       "2            8     eBook         8     eBook  \n",
       "3            2     eBook         2     eBook  \n",
       "4            6     eBook         6  hardcopy  \n",
       "...        ...       ...       ...       ...  \n",
       "2403         7     eBook         7     eBook  \n",
       "2404        13     eBook        13     eBook  \n",
       "2405        45  hardcopy        45  hardcopy  \n",
       "2406        50  hardcopy        50  hardcopy  \n",
       "2407         9     eBook         9     eBook  \n",
       "\n",
       "[2408 rows x 17 columns]"
      ]
     },
     "execution_count": 6,
     "metadata": {},
     "output_type": "execute_result"
    }
   ],
   "source": [
    "#dropping empty 'rows'\n",
    "df = df.dropna(axis = 0)\n",
    "df"
   ]
  },
  {
   "cell_type": "code",
   "execution_count": 7,
   "id": "4902fb7d",
   "metadata": {
    "id": "4902fb7d"
   },
   "outputs": [
    {
     "data": {
      "text/plain": [
       "(2408, 17)"
      ]
     },
     "execution_count": 7,
     "metadata": {},
     "output_type": "execute_result"
    }
   ],
   "source": [
    "#shape updates\n",
    "df.shape"
   ]
  },
  {
   "cell_type": "code",
   "execution_count": 8,
   "id": "8d4a902f",
   "metadata": {
    "colab": {
     "base_uri": "https://localhost:8080/"
    },
    "id": "8d4a902f",
    "outputId": "cb1054f7-8cb8-47e6-8bf9-c947824368ed"
   },
   "outputs": [
    {
     "data": {
      "text/html": [
       "<div>\n",
       "<style scoped>\n",
       "    .dataframe tbody tr th:only-of-type {\n",
       "        vertical-align: middle;\n",
       "    }\n",
       "\n",
       "    .dataframe tbody tr th {\n",
       "        vertical-align: top;\n",
       "    }\n",
       "\n",
       "    .dataframe thead th {\n",
       "        text-align: right;\n",
       "    }\n",
       "</style>\n",
       "<table border=\"1\" class=\"dataframe\">\n",
       "  <thead>\n",
       "    <tr style=\"text-align: right;\">\n",
       "      <th></th>\n",
       "      <th>roll_no</th>\n",
       "      <th>sdur_C1</th>\n",
       "      <th>sdur_C2</th>\n",
       "      <th>sdur_C3</th>\n",
       "      <th>sdur_DE1</th>\n",
       "      <th>sdur_DE2</th>\n",
       "      <th>sdur_DE3</th>\n",
       "      <th>sdur_OE1</th>\n",
       "    </tr>\n",
       "  </thead>\n",
       "  <tbody>\n",
       "    <tr>\n",
       "      <th>count</th>\n",
       "      <td>2.408000e+03</td>\n",
       "      <td>2408.000000</td>\n",
       "      <td>2408.000000</td>\n",
       "      <td>2408.000000</td>\n",
       "      <td>2408.000000</td>\n",
       "      <td>2408.000000</td>\n",
       "      <td>2408.000000</td>\n",
       "      <td>2408.000000</td>\n",
       "    </tr>\n",
       "    <tr>\n",
       "      <th>mean</th>\n",
       "      <td>9.174952e+06</td>\n",
       "      <td>31.479236</td>\n",
       "      <td>31.740033</td>\n",
       "      <td>31.560631</td>\n",
       "      <td>31.657807</td>\n",
       "      <td>31.359219</td>\n",
       "      <td>31.661545</td>\n",
       "      <td>31.628738</td>\n",
       "    </tr>\n",
       "    <tr>\n",
       "      <th>std</th>\n",
       "      <td>8.860179e+06</td>\n",
       "      <td>18.826024</td>\n",
       "      <td>18.365889</td>\n",
       "      <td>18.697482</td>\n",
       "      <td>18.773551</td>\n",
       "      <td>18.812462</td>\n",
       "      <td>18.895567</td>\n",
       "      <td>18.633501</td>\n",
       "    </tr>\n",
       "    <tr>\n",
       "      <th>min</th>\n",
       "      <td>2.005001e+06</td>\n",
       "      <td>2.000000</td>\n",
       "      <td>1.000000</td>\n",
       "      <td>1.000000</td>\n",
       "      <td>2.000000</td>\n",
       "      <td>2.000000</td>\n",
       "      <td>2.000000</td>\n",
       "      <td>1.000000</td>\n",
       "    </tr>\n",
       "    <tr>\n",
       "      <th>25%</th>\n",
       "      <td>2.005706e+06</td>\n",
       "      <td>13.000000</td>\n",
       "      <td>14.750000</td>\n",
       "      <td>14.000000</td>\n",
       "      <td>15.000000</td>\n",
       "      <td>13.000000</td>\n",
       "      <td>13.000000</td>\n",
       "      <td>14.000000</td>\n",
       "    </tr>\n",
       "    <tr>\n",
       "      <th>50%</th>\n",
       "      <td>2.006368e+06</td>\n",
       "      <td>36.000000</td>\n",
       "      <td>36.000000</td>\n",
       "      <td>36.000000</td>\n",
       "      <td>36.000000</td>\n",
       "      <td>35.000000</td>\n",
       "      <td>36.000000</td>\n",
       "      <td>36.000000</td>\n",
       "    </tr>\n",
       "    <tr>\n",
       "      <th>75%</th>\n",
       "      <td>2.005140e+07</td>\n",
       "      <td>46.000000</td>\n",
       "      <td>46.000000</td>\n",
       "      <td>46.000000</td>\n",
       "      <td>46.000000</td>\n",
       "      <td>46.000000</td>\n",
       "      <td>46.000000</td>\n",
       "      <td>46.000000</td>\n",
       "    </tr>\n",
       "    <tr>\n",
       "      <th>max</th>\n",
       "      <td>2.105307e+07</td>\n",
       "      <td>74.000000</td>\n",
       "      <td>69.000000</td>\n",
       "      <td>69.000000</td>\n",
       "      <td>69.000000</td>\n",
       "      <td>71.000000</td>\n",
       "      <td>71.000000</td>\n",
       "      <td>71.000000</td>\n",
       "    </tr>\n",
       "  </tbody>\n",
       "</table>\n",
       "</div>"
      ],
      "text/plain": [
       "            roll_no      sdur_C1      sdur_C2      sdur_C3     sdur_DE1  \\\n",
       "count  2.408000e+03  2408.000000  2408.000000  2408.000000  2408.000000   \n",
       "mean   9.174952e+06    31.479236    31.740033    31.560631    31.657807   \n",
       "std    8.860179e+06    18.826024    18.365889    18.697482    18.773551   \n",
       "min    2.005001e+06     2.000000     1.000000     1.000000     2.000000   \n",
       "25%    2.005706e+06    13.000000    14.750000    14.000000    15.000000   \n",
       "50%    2.006368e+06    36.000000    36.000000    36.000000    36.000000   \n",
       "75%    2.005140e+07    46.000000    46.000000    46.000000    46.000000   \n",
       "max    2.105307e+07    74.000000    69.000000    69.000000    69.000000   \n",
       "\n",
       "          sdur_DE2     sdur_DE3     sdur_OE1  \n",
       "count  2408.000000  2408.000000  2408.000000  \n",
       "mean     31.359219    31.661545    31.628738  \n",
       "std      18.812462    18.895567    18.633501  \n",
       "min       2.000000     2.000000     1.000000  \n",
       "25%      13.000000    13.000000    14.000000  \n",
       "50%      35.000000    36.000000    36.000000  \n",
       "75%      46.000000    46.000000    46.000000  \n",
       "max      71.000000    71.000000    71.000000  "
      ]
     },
     "execution_count": 8,
     "metadata": {},
     "output_type": "execute_result"
    }
   ],
   "source": [
    "#information in dataframe\n",
    "df.describe()"
   ]
  },
  {
   "cell_type": "code",
   "execution_count": 9,
   "id": "36df4df7",
   "metadata": {
    "colab": {
     "base_uri": "https://localhost:8080/",
     "height": 678
    },
    "id": "36df4df7",
    "outputId": "dd6231e5-fadf-4fb2-e30b-f6fab122dec2"
   },
   "outputs": [
    {
     "data": {
      "text/html": [
       "<div>\n",
       "<style scoped>\n",
       "    .dataframe tbody tr th:only-of-type {\n",
       "        vertical-align: middle;\n",
       "    }\n",
       "\n",
       "    .dataframe tbody tr th {\n",
       "        vertical-align: top;\n",
       "    }\n",
       "\n",
       "    .dataframe thead th {\n",
       "        text-align: right;\n",
       "    }\n",
       "</style>\n",
       "<table border=\"1\" class=\"dataframe\">\n",
       "  <thead>\n",
       "    <tr style=\"text-align: right;\">\n",
       "      <th></th>\n",
       "      <th>roll_no</th>\n",
       "      <th>student_name</th>\n",
       "      <th>branch/course</th>\n",
       "      <th>sdur_C1</th>\n",
       "      <th>pref_C1</th>\n",
       "      <th>sdur_C2</th>\n",
       "      <th>pref_C2</th>\n",
       "      <th>sdur_C3</th>\n",
       "      <th>pref_C3</th>\n",
       "      <th>sdur_DE1</th>\n",
       "      <th>pref_DE1</th>\n",
       "      <th>sdur_DE2</th>\n",
       "      <th>pref_DE2</th>\n",
       "      <th>sdur_DE3</th>\n",
       "      <th>pref_DE3</th>\n",
       "      <th>sdur_OE1</th>\n",
       "      <th>pref_OE1</th>\n",
       "    </tr>\n",
       "  </thead>\n",
       "  <tbody>\n",
       "    <tr>\n",
       "      <th>0</th>\n",
       "      <td>20051663</td>\n",
       "      <td>SATYAM TIWARI</td>\n",
       "      <td>CSE-09</td>\n",
       "      <td>12</td>\n",
       "      <td>hardcopy</td>\n",
       "      <td>3</td>\n",
       "      <td>hardcopy</td>\n",
       "      <td>5</td>\n",
       "      <td>hardcopy</td>\n",
       "      <td>10</td>\n",
       "      <td>hardcopy</td>\n",
       "      <td>6</td>\n",
       "      <td>hardcopy</td>\n",
       "      <td>2</td>\n",
       "      <td>hardcopy</td>\n",
       "      <td>9</td>\n",
       "      <td>eBook</td>\n",
       "    </tr>\n",
       "    <tr>\n",
       "      <th>1</th>\n",
       "      <td>2005244</td>\n",
       "      <td>NIHARIKA SINGH</td>\n",
       "      <td>CSE-10</td>\n",
       "      <td>3</td>\n",
       "      <td>hardcopy</td>\n",
       "      <td>3</td>\n",
       "      <td>hardcopy</td>\n",
       "      <td>3</td>\n",
       "      <td>hardcopy</td>\n",
       "      <td>3</td>\n",
       "      <td>hardcopy</td>\n",
       "      <td>3</td>\n",
       "      <td>hardcopy</td>\n",
       "      <td>3</td>\n",
       "      <td>hardcopy</td>\n",
       "      <td>3</td>\n",
       "      <td>hardcopy</td>\n",
       "    </tr>\n",
       "    <tr>\n",
       "      <th>2</th>\n",
       "      <td>20051394</td>\n",
       "      <td>SHAINEE PATTNAIK</td>\n",
       "      <td>CSE-17</td>\n",
       "      <td>5</td>\n",
       "      <td>eBook</td>\n",
       "      <td>1</td>\n",
       "      <td>eBook</td>\n",
       "      <td>2</td>\n",
       "      <td>eBook</td>\n",
       "      <td>5</td>\n",
       "      <td>hardcopy</td>\n",
       "      <td>8</td>\n",
       "      <td>eBook</td>\n",
       "      <td>8</td>\n",
       "      <td>eBook</td>\n",
       "      <td>8</td>\n",
       "      <td>eBook</td>\n",
       "    </tr>\n",
       "    <tr>\n",
       "      <th>3</th>\n",
       "      <td>20051602</td>\n",
       "      <td>AANCHAL CHAMARIA</td>\n",
       "      <td>CSE-19</td>\n",
       "      <td>2</td>\n",
       "      <td>eBook</td>\n",
       "      <td>2</td>\n",
       "      <td>eBook</td>\n",
       "      <td>2</td>\n",
       "      <td>eBook</td>\n",
       "      <td>2</td>\n",
       "      <td>eBook</td>\n",
       "      <td>2</td>\n",
       "      <td>eBook</td>\n",
       "      <td>2</td>\n",
       "      <td>eBook</td>\n",
       "      <td>2</td>\n",
       "      <td>eBook</td>\n",
       "    </tr>\n",
       "    <tr>\n",
       "      <th>4</th>\n",
       "      <td>20051047</td>\n",
       "      <td>VAISHALI PAWAR</td>\n",
       "      <td>CSE-10</td>\n",
       "      <td>6</td>\n",
       "      <td>hardcopy</td>\n",
       "      <td>6</td>\n",
       "      <td>hardcopy</td>\n",
       "      <td>6</td>\n",
       "      <td>hardcopy</td>\n",
       "      <td>6</td>\n",
       "      <td>eBook</td>\n",
       "      <td>6</td>\n",
       "      <td>eBook</td>\n",
       "      <td>6</td>\n",
       "      <td>eBook</td>\n",
       "      <td>6</td>\n",
       "      <td>hardcopy</td>\n",
       "    </tr>\n",
       "    <tr>\n",
       "      <th>...</th>\n",
       "      <td>...</td>\n",
       "      <td>...</td>\n",
       "      <td>...</td>\n",
       "      <td>...</td>\n",
       "      <td>...</td>\n",
       "      <td>...</td>\n",
       "      <td>...</td>\n",
       "      <td>...</td>\n",
       "      <td>...</td>\n",
       "      <td>...</td>\n",
       "      <td>...</td>\n",
       "      <td>...</td>\n",
       "      <td>...</td>\n",
       "      <td>...</td>\n",
       "      <td>...</td>\n",
       "      <td>...</td>\n",
       "      <td>...</td>\n",
       "    </tr>\n",
       "    <tr>\n",
       "      <th>2403</th>\n",
       "      <td>2028130</td>\n",
       "      <td>RITIK KUMAR</td>\n",
       "      <td>CSSE-02</td>\n",
       "      <td>39</td>\n",
       "      <td>hardcopy</td>\n",
       "      <td>18</td>\n",
       "      <td>eBook</td>\n",
       "      <td>36</td>\n",
       "      <td>hardcopy</td>\n",
       "      <td>49</td>\n",
       "      <td>hardcopy</td>\n",
       "      <td>18</td>\n",
       "      <td>eBook</td>\n",
       "      <td>7</td>\n",
       "      <td>eBook</td>\n",
       "      <td>7</td>\n",
       "      <td>eBook</td>\n",
       "    </tr>\n",
       "    <tr>\n",
       "      <th>2404</th>\n",
       "      <td>2028110</td>\n",
       "      <td>SHREYA GHOSH</td>\n",
       "      <td>CSSE-01</td>\n",
       "      <td>44</td>\n",
       "      <td>hardcopy</td>\n",
       "      <td>2</td>\n",
       "      <td>eBook</td>\n",
       "      <td>20</td>\n",
       "      <td>eBook</td>\n",
       "      <td>36</td>\n",
       "      <td>hardcopy</td>\n",
       "      <td>32</td>\n",
       "      <td>hardcopy</td>\n",
       "      <td>13</td>\n",
       "      <td>eBook</td>\n",
       "      <td>13</td>\n",
       "      <td>eBook</td>\n",
       "    </tr>\n",
       "    <tr>\n",
       "      <th>2405</th>\n",
       "      <td>2028169</td>\n",
       "      <td>PRATYUSH MISHRA</td>\n",
       "      <td>CSSE-02</td>\n",
       "      <td>37</td>\n",
       "      <td>hardcopy</td>\n",
       "      <td>38</td>\n",
       "      <td>hardcopy</td>\n",
       "      <td>62</td>\n",
       "      <td>hardcopy</td>\n",
       "      <td>20</td>\n",
       "      <td>eBook</td>\n",
       "      <td>38</td>\n",
       "      <td>hardcopy</td>\n",
       "      <td>45</td>\n",
       "      <td>hardcopy</td>\n",
       "      <td>45</td>\n",
       "      <td>hardcopy</td>\n",
       "    </tr>\n",
       "    <tr>\n",
       "      <th>2406</th>\n",
       "      <td>2028197</td>\n",
       "      <td>PREM BAHADUR SHAH</td>\n",
       "      <td>CSSE-02</td>\n",
       "      <td>67</td>\n",
       "      <td>eBook</td>\n",
       "      <td>42</td>\n",
       "      <td>hardcopy</td>\n",
       "      <td>17</td>\n",
       "      <td>eBook</td>\n",
       "      <td>62</td>\n",
       "      <td>hardcopy</td>\n",
       "      <td>13</td>\n",
       "      <td>eBook</td>\n",
       "      <td>50</td>\n",
       "      <td>hardcopy</td>\n",
       "      <td>50</td>\n",
       "      <td>hardcopy</td>\n",
       "    </tr>\n",
       "    <tr>\n",
       "      <th>2407</th>\n",
       "      <td>2028190</td>\n",
       "      <td>Srishty Nanda</td>\n",
       "      <td>CSSE-02</td>\n",
       "      <td>16</td>\n",
       "      <td>eBook</td>\n",
       "      <td>10</td>\n",
       "      <td>eBook</td>\n",
       "      <td>18</td>\n",
       "      <td>eBook</td>\n",
       "      <td>17</td>\n",
       "      <td>eBook</td>\n",
       "      <td>49</td>\n",
       "      <td>hardcopy</td>\n",
       "      <td>9</td>\n",
       "      <td>eBook</td>\n",
       "      <td>9</td>\n",
       "      <td>eBook</td>\n",
       "    </tr>\n",
       "  </tbody>\n",
       "</table>\n",
       "<p>2408 rows × 17 columns</p>\n",
       "</div>"
      ],
      "text/plain": [
       "       roll_no       student_name branch/course  sdur_C1   pref_C1  sdur_C2  \\\n",
       "0     20051663      SATYAM TIWARI        CSE-09       12  hardcopy        3   \n",
       "1      2005244     NIHARIKA SINGH        CSE-10        3  hardcopy        3   \n",
       "2     20051394   SHAINEE PATTNAIK        CSE-17        5     eBook        1   \n",
       "3     20051602   AANCHAL CHAMARIA        CSE-19        2     eBook        2   \n",
       "4     20051047     VAISHALI PAWAR        CSE-10        6  hardcopy        6   \n",
       "...        ...                ...           ...      ...       ...      ...   \n",
       "2403   2028130        RITIK KUMAR       CSSE-02       39  hardcopy       18   \n",
       "2404   2028110       SHREYA GHOSH       CSSE-01       44  hardcopy        2   \n",
       "2405   2028169    PRATYUSH MISHRA       CSSE-02       37  hardcopy       38   \n",
       "2406   2028197  PREM BAHADUR SHAH       CSSE-02       67     eBook       42   \n",
       "2407   2028190      Srishty Nanda       CSSE-02       16     eBook       10   \n",
       "\n",
       "       pref_C2  sdur_C3   pref_C3  sdur_DE1  pref_DE1  sdur_DE2  pref_DE2  \\\n",
       "0     hardcopy        5  hardcopy        10  hardcopy         6  hardcopy   \n",
       "1     hardcopy        3  hardcopy         3  hardcopy         3  hardcopy   \n",
       "2        eBook        2     eBook         5  hardcopy         8     eBook   \n",
       "3        eBook        2     eBook         2     eBook         2     eBook   \n",
       "4     hardcopy        6  hardcopy         6     eBook         6     eBook   \n",
       "...        ...      ...       ...       ...       ...       ...       ...   \n",
       "2403     eBook       36  hardcopy        49  hardcopy        18     eBook   \n",
       "2404     eBook       20     eBook        36  hardcopy        32  hardcopy   \n",
       "2405  hardcopy       62  hardcopy        20     eBook        38  hardcopy   \n",
       "2406  hardcopy       17     eBook        62  hardcopy        13     eBook   \n",
       "2407     eBook       18     eBook        17     eBook        49  hardcopy   \n",
       "\n",
       "      sdur_DE3  pref_DE3  sdur_OE1  pref_OE1  \n",
       "0            2  hardcopy         9     eBook  \n",
       "1            3  hardcopy         3  hardcopy  \n",
       "2            8     eBook         8     eBook  \n",
       "3            2     eBook         2     eBook  \n",
       "4            6     eBook         6  hardcopy  \n",
       "...        ...       ...       ...       ...  \n",
       "2403         7     eBook         7     eBook  \n",
       "2404        13     eBook        13     eBook  \n",
       "2405        45  hardcopy        45  hardcopy  \n",
       "2406        50  hardcopy        50  hardcopy  \n",
       "2407         9     eBook         9     eBook  \n",
       "\n",
       "[2408 rows x 17 columns]"
      ]
     },
     "execution_count": 9,
     "metadata": {},
     "output_type": "execute_result"
    }
   ],
   "source": [
    "#deleting multiple entries (and considering just first entry) of same student w.r.t his/her roll number\n",
    "df = df.drop_duplicates(subset='roll_no', keep=\"first\")\n",
    "df"
   ]
  },
  {
   "cell_type": "code",
   "execution_count": 10,
   "id": "1a193036",
   "metadata": {
    "id": "1a193036",
    "outputId": "bc65947c-ae6a-493c-e08a-03a878a88952"
   },
   "outputs": [
    {
     "data": {
      "text/plain": [
       "(2408, 17)"
      ]
     },
     "execution_count": 10,
     "metadata": {},
     "output_type": "execute_result"
    }
   ],
   "source": [
    "#shape updates\n",
    "df.shape"
   ]
  },
  {
   "cell_type": "markdown",
   "id": "9a32e613",
   "metadata": {
    "id": "9a32e613"
   },
   "source": [
    "# Binary encoding the preferences"
   ]
  },
  {
   "cell_type": "code",
   "execution_count": 11,
   "id": "9580b752",
   "metadata": {
    "colab": {
     "base_uri": "https://localhost:8080/",
     "height": 678
    },
    "id": "9580b752",
    "outputId": "20b41c74-87c0-4731-8310-97d611cfe1d8"
   },
   "outputs": [
    {
     "data": {
      "text/html": [
       "<div>\n",
       "<style scoped>\n",
       "    .dataframe tbody tr th:only-of-type {\n",
       "        vertical-align: middle;\n",
       "    }\n",
       "\n",
       "    .dataframe tbody tr th {\n",
       "        vertical-align: top;\n",
       "    }\n",
       "\n",
       "    .dataframe thead th {\n",
       "        text-align: right;\n",
       "    }\n",
       "</style>\n",
       "<table border=\"1\" class=\"dataframe\">\n",
       "  <thead>\n",
       "    <tr style=\"text-align: right;\">\n",
       "      <th></th>\n",
       "      <th>roll_no</th>\n",
       "      <th>student_name</th>\n",
       "      <th>branch/course</th>\n",
       "      <th>sdur_C1</th>\n",
       "      <th>pref_C1</th>\n",
       "      <th>sdur_C2</th>\n",
       "      <th>pref_C2</th>\n",
       "      <th>sdur_C3</th>\n",
       "      <th>pref_C3</th>\n",
       "      <th>sdur_DE1</th>\n",
       "      <th>pref_DE1</th>\n",
       "      <th>sdur_DE2</th>\n",
       "      <th>pref_DE2</th>\n",
       "      <th>sdur_DE3</th>\n",
       "      <th>pref_DE3</th>\n",
       "      <th>sdur_OE1</th>\n",
       "      <th>pref_OE1</th>\n",
       "    </tr>\n",
       "  </thead>\n",
       "  <tbody>\n",
       "    <tr>\n",
       "      <th>0</th>\n",
       "      <td>20051663</td>\n",
       "      <td>SATYAM TIWARI</td>\n",
       "      <td>CSE-09</td>\n",
       "      <td>12</td>\n",
       "      <td>1</td>\n",
       "      <td>3</td>\n",
       "      <td>1</td>\n",
       "      <td>5</td>\n",
       "      <td>1</td>\n",
       "      <td>10</td>\n",
       "      <td>1</td>\n",
       "      <td>6</td>\n",
       "      <td>1</td>\n",
       "      <td>2</td>\n",
       "      <td>1</td>\n",
       "      <td>9</td>\n",
       "      <td>0</td>\n",
       "    </tr>\n",
       "    <tr>\n",
       "      <th>1</th>\n",
       "      <td>2005244</td>\n",
       "      <td>NIHARIKA SINGH</td>\n",
       "      <td>CSE-10</td>\n",
       "      <td>3</td>\n",
       "      <td>1</td>\n",
       "      <td>3</td>\n",
       "      <td>1</td>\n",
       "      <td>3</td>\n",
       "      <td>1</td>\n",
       "      <td>3</td>\n",
       "      <td>1</td>\n",
       "      <td>3</td>\n",
       "      <td>1</td>\n",
       "      <td>3</td>\n",
       "      <td>1</td>\n",
       "      <td>3</td>\n",
       "      <td>1</td>\n",
       "    </tr>\n",
       "    <tr>\n",
       "      <th>2</th>\n",
       "      <td>20051394</td>\n",
       "      <td>SHAINEE PATTNAIK</td>\n",
       "      <td>CSE-17</td>\n",
       "      <td>5</td>\n",
       "      <td>0</td>\n",
       "      <td>1</td>\n",
       "      <td>0</td>\n",
       "      <td>2</td>\n",
       "      <td>0</td>\n",
       "      <td>5</td>\n",
       "      <td>1</td>\n",
       "      <td>8</td>\n",
       "      <td>0</td>\n",
       "      <td>8</td>\n",
       "      <td>0</td>\n",
       "      <td>8</td>\n",
       "      <td>0</td>\n",
       "    </tr>\n",
       "    <tr>\n",
       "      <th>3</th>\n",
       "      <td>20051602</td>\n",
       "      <td>AANCHAL CHAMARIA</td>\n",
       "      <td>CSE-19</td>\n",
       "      <td>2</td>\n",
       "      <td>0</td>\n",
       "      <td>2</td>\n",
       "      <td>0</td>\n",
       "      <td>2</td>\n",
       "      <td>0</td>\n",
       "      <td>2</td>\n",
       "      <td>0</td>\n",
       "      <td>2</td>\n",
       "      <td>0</td>\n",
       "      <td>2</td>\n",
       "      <td>0</td>\n",
       "      <td>2</td>\n",
       "      <td>0</td>\n",
       "    </tr>\n",
       "    <tr>\n",
       "      <th>4</th>\n",
       "      <td>20051047</td>\n",
       "      <td>VAISHALI PAWAR</td>\n",
       "      <td>CSE-10</td>\n",
       "      <td>6</td>\n",
       "      <td>1</td>\n",
       "      <td>6</td>\n",
       "      <td>1</td>\n",
       "      <td>6</td>\n",
       "      <td>1</td>\n",
       "      <td>6</td>\n",
       "      <td>0</td>\n",
       "      <td>6</td>\n",
       "      <td>0</td>\n",
       "      <td>6</td>\n",
       "      <td>0</td>\n",
       "      <td>6</td>\n",
       "      <td>1</td>\n",
       "    </tr>\n",
       "    <tr>\n",
       "      <th>...</th>\n",
       "      <td>...</td>\n",
       "      <td>...</td>\n",
       "      <td>...</td>\n",
       "      <td>...</td>\n",
       "      <td>...</td>\n",
       "      <td>...</td>\n",
       "      <td>...</td>\n",
       "      <td>...</td>\n",
       "      <td>...</td>\n",
       "      <td>...</td>\n",
       "      <td>...</td>\n",
       "      <td>...</td>\n",
       "      <td>...</td>\n",
       "      <td>...</td>\n",
       "      <td>...</td>\n",
       "      <td>...</td>\n",
       "      <td>...</td>\n",
       "    </tr>\n",
       "    <tr>\n",
       "      <th>2403</th>\n",
       "      <td>2028130</td>\n",
       "      <td>RITIK KUMAR</td>\n",
       "      <td>CSSE-02</td>\n",
       "      <td>39</td>\n",
       "      <td>1</td>\n",
       "      <td>18</td>\n",
       "      <td>0</td>\n",
       "      <td>36</td>\n",
       "      <td>1</td>\n",
       "      <td>49</td>\n",
       "      <td>1</td>\n",
       "      <td>18</td>\n",
       "      <td>0</td>\n",
       "      <td>7</td>\n",
       "      <td>0</td>\n",
       "      <td>7</td>\n",
       "      <td>0</td>\n",
       "    </tr>\n",
       "    <tr>\n",
       "      <th>2404</th>\n",
       "      <td>2028110</td>\n",
       "      <td>SHREYA GHOSH</td>\n",
       "      <td>CSSE-01</td>\n",
       "      <td>44</td>\n",
       "      <td>1</td>\n",
       "      <td>2</td>\n",
       "      <td>0</td>\n",
       "      <td>20</td>\n",
       "      <td>0</td>\n",
       "      <td>36</td>\n",
       "      <td>1</td>\n",
       "      <td>32</td>\n",
       "      <td>1</td>\n",
       "      <td>13</td>\n",
       "      <td>0</td>\n",
       "      <td>13</td>\n",
       "      <td>0</td>\n",
       "    </tr>\n",
       "    <tr>\n",
       "      <th>2405</th>\n",
       "      <td>2028169</td>\n",
       "      <td>PRATYUSH MISHRA</td>\n",
       "      <td>CSSE-02</td>\n",
       "      <td>37</td>\n",
       "      <td>1</td>\n",
       "      <td>38</td>\n",
       "      <td>1</td>\n",
       "      <td>62</td>\n",
       "      <td>1</td>\n",
       "      <td>20</td>\n",
       "      <td>0</td>\n",
       "      <td>38</td>\n",
       "      <td>1</td>\n",
       "      <td>45</td>\n",
       "      <td>1</td>\n",
       "      <td>45</td>\n",
       "      <td>1</td>\n",
       "    </tr>\n",
       "    <tr>\n",
       "      <th>2406</th>\n",
       "      <td>2028197</td>\n",
       "      <td>PREM BAHADUR SHAH</td>\n",
       "      <td>CSSE-02</td>\n",
       "      <td>67</td>\n",
       "      <td>0</td>\n",
       "      <td>42</td>\n",
       "      <td>1</td>\n",
       "      <td>17</td>\n",
       "      <td>0</td>\n",
       "      <td>62</td>\n",
       "      <td>1</td>\n",
       "      <td>13</td>\n",
       "      <td>0</td>\n",
       "      <td>50</td>\n",
       "      <td>1</td>\n",
       "      <td>50</td>\n",
       "      <td>1</td>\n",
       "    </tr>\n",
       "    <tr>\n",
       "      <th>2407</th>\n",
       "      <td>2028190</td>\n",
       "      <td>Srishty Nanda</td>\n",
       "      <td>CSSE-02</td>\n",
       "      <td>16</td>\n",
       "      <td>0</td>\n",
       "      <td>10</td>\n",
       "      <td>0</td>\n",
       "      <td>18</td>\n",
       "      <td>0</td>\n",
       "      <td>17</td>\n",
       "      <td>0</td>\n",
       "      <td>49</td>\n",
       "      <td>1</td>\n",
       "      <td>9</td>\n",
       "      <td>0</td>\n",
       "      <td>9</td>\n",
       "      <td>0</td>\n",
       "    </tr>\n",
       "  </tbody>\n",
       "</table>\n",
       "<p>2408 rows × 17 columns</p>\n",
       "</div>"
      ],
      "text/plain": [
       "       roll_no       student_name branch/course  sdur_C1  pref_C1  sdur_C2  \\\n",
       "0     20051663      SATYAM TIWARI        CSE-09       12        1        3   \n",
       "1      2005244     NIHARIKA SINGH        CSE-10        3        1        3   \n",
       "2     20051394   SHAINEE PATTNAIK        CSE-17        5        0        1   \n",
       "3     20051602   AANCHAL CHAMARIA        CSE-19        2        0        2   \n",
       "4     20051047     VAISHALI PAWAR        CSE-10        6        1        6   \n",
       "...        ...                ...           ...      ...      ...      ...   \n",
       "2403   2028130        RITIK KUMAR       CSSE-02       39        1       18   \n",
       "2404   2028110       SHREYA GHOSH       CSSE-01       44        1        2   \n",
       "2405   2028169    PRATYUSH MISHRA       CSSE-02       37        1       38   \n",
       "2406   2028197  PREM BAHADUR SHAH       CSSE-02       67        0       42   \n",
       "2407   2028190      Srishty Nanda       CSSE-02       16        0       10   \n",
       "\n",
       "      pref_C2  sdur_C3  pref_C3  sdur_DE1  pref_DE1  sdur_DE2  pref_DE2  \\\n",
       "0           1        5        1        10         1         6         1   \n",
       "1           1        3        1         3         1         3         1   \n",
       "2           0        2        0         5         1         8         0   \n",
       "3           0        2        0         2         0         2         0   \n",
       "4           1        6        1         6         0         6         0   \n",
       "...       ...      ...      ...       ...       ...       ...       ...   \n",
       "2403        0       36        1        49         1        18         0   \n",
       "2404        0       20        0        36         1        32         1   \n",
       "2405        1       62        1        20         0        38         1   \n",
       "2406        1       17        0        62         1        13         0   \n",
       "2407        0       18        0        17         0        49         1   \n",
       "\n",
       "      sdur_DE3  pref_DE3  sdur_OE1  pref_OE1  \n",
       "0            2         1         9         0  \n",
       "1            3         1         3         1  \n",
       "2            8         0         8         0  \n",
       "3            2         0         2         0  \n",
       "4            6         0         6         1  \n",
       "...        ...       ...       ...       ...  \n",
       "2403         7         0         7         0  \n",
       "2404        13         0        13         0  \n",
       "2405        45         1        45         1  \n",
       "2406        50         1        50         1  \n",
       "2407         9         0         9         0  \n",
       "\n",
       "[2408 rows x 17 columns]"
      ]
     },
     "execution_count": 11,
     "metadata": {},
     "output_type": "execute_result"
    }
   ],
   "source": [
    "#importing library to ignore warnings\n",
    "import warnings\n",
    "warnings.filterwarnings('ignore')\n",
    "\n",
    "#converting preferences in binary (1 for Hardcopy, 0 for eBook)\n",
    "df['pref_C1'] = df['pref_C1'].map(\n",
    "                   {'hardcopy':1 ,'eBook':0})\n",
    "\n",
    "df['pref_C2'] = df['pref_C2'].map(\n",
    "                   {'hardcopy':1 ,'eBook':0})\n",
    "\n",
    "df['pref_C3'] = df['pref_C3'].map(\n",
    "                   {'hardcopy':1 ,'eBook':0})\n",
    "\n",
    "df['pref_DE1'] = df['pref_DE1'].map(\n",
    "                   {'hardcopy':1 ,'eBook':0})\n",
    "\n",
    "df['pref_DE2'] = df['pref_DE2'].map(\n",
    "                   {'hardcopy':1 ,'eBook':0})\n",
    "\n",
    "df['pref_DE3'] = df['pref_DE3'].map(\n",
    "                   {'hardcopy':1 ,'eBook':0})\n",
    "\n",
    "df['pref_OE1'] = df['pref_OE1'].map(\n",
    "                   {'hardcopy':1 ,'eBook':0})\n",
    "\n",
    "df"
   ]
  },
  {
   "cell_type": "code",
   "execution_count": 12,
   "id": "fe733d87",
   "metadata": {
    "colab": {
     "base_uri": "https://localhost:8080/"
    },
    "id": "fe733d87",
    "outputId": "85d5c91c-e922-42f6-c128-fee5c467c2c4"
   },
   "outputs": [
    {
     "data": {
      "text/html": [
       "<div>\n",
       "<style scoped>\n",
       "    .dataframe tbody tr th:only-of-type {\n",
       "        vertical-align: middle;\n",
       "    }\n",
       "\n",
       "    .dataframe tbody tr th {\n",
       "        vertical-align: top;\n",
       "    }\n",
       "\n",
       "    .dataframe thead th {\n",
       "        text-align: right;\n",
       "    }\n",
       "</style>\n",
       "<table border=\"1\" class=\"dataframe\">\n",
       "  <thead>\n",
       "    <tr style=\"text-align: right;\">\n",
       "      <th></th>\n",
       "      <th>roll_no</th>\n",
       "      <th>sdur_C1</th>\n",
       "      <th>pref_C1</th>\n",
       "      <th>sdur_C2</th>\n",
       "      <th>pref_C2</th>\n",
       "      <th>sdur_C3</th>\n",
       "      <th>pref_C3</th>\n",
       "      <th>sdur_DE1</th>\n",
       "      <th>pref_DE1</th>\n",
       "      <th>sdur_DE2</th>\n",
       "      <th>pref_DE2</th>\n",
       "      <th>sdur_DE3</th>\n",
       "      <th>pref_DE3</th>\n",
       "      <th>sdur_OE1</th>\n",
       "      <th>pref_OE1</th>\n",
       "    </tr>\n",
       "  </thead>\n",
       "  <tbody>\n",
       "    <tr>\n",
       "      <th>count</th>\n",
       "      <td>2.408000e+03</td>\n",
       "      <td>2408.000000</td>\n",
       "      <td>2408.000000</td>\n",
       "      <td>2408.000000</td>\n",
       "      <td>2408.000000</td>\n",
       "      <td>2408.000000</td>\n",
       "      <td>2408.000000</td>\n",
       "      <td>2408.000000</td>\n",
       "      <td>2408.000000</td>\n",
       "      <td>2408.000000</td>\n",
       "      <td>2408.000000</td>\n",
       "      <td>2408.000000</td>\n",
       "      <td>2408.000000</td>\n",
       "      <td>2408.000000</td>\n",
       "      <td>2408.000000</td>\n",
       "    </tr>\n",
       "    <tr>\n",
       "      <th>mean</th>\n",
       "      <td>9.174952e+06</td>\n",
       "      <td>31.479236</td>\n",
       "      <td>0.595515</td>\n",
       "      <td>31.740033</td>\n",
       "      <td>0.630399</td>\n",
       "      <td>31.560631</td>\n",
       "      <td>0.615033</td>\n",
       "      <td>31.657807</td>\n",
       "      <td>0.599668</td>\n",
       "      <td>31.359219</td>\n",
       "      <td>0.592193</td>\n",
       "      <td>31.661545</td>\n",
       "      <td>0.590116</td>\n",
       "      <td>31.628738</td>\n",
       "      <td>0.607558</td>\n",
       "    </tr>\n",
       "    <tr>\n",
       "      <th>std</th>\n",
       "      <td>8.860179e+06</td>\n",
       "      <td>18.826024</td>\n",
       "      <td>0.490894</td>\n",
       "      <td>18.365889</td>\n",
       "      <td>0.482797</td>\n",
       "      <td>18.697482</td>\n",
       "      <td>0.486689</td>\n",
       "      <td>18.773551</td>\n",
       "      <td>0.490067</td>\n",
       "      <td>18.812462</td>\n",
       "      <td>0.491529</td>\n",
       "      <td>18.895567</td>\n",
       "      <td>0.491914</td>\n",
       "      <td>18.633501</td>\n",
       "      <td>0.488396</td>\n",
       "    </tr>\n",
       "    <tr>\n",
       "      <th>min</th>\n",
       "      <td>2.005001e+06</td>\n",
       "      <td>2.000000</td>\n",
       "      <td>0.000000</td>\n",
       "      <td>1.000000</td>\n",
       "      <td>0.000000</td>\n",
       "      <td>1.000000</td>\n",
       "      <td>0.000000</td>\n",
       "      <td>2.000000</td>\n",
       "      <td>0.000000</td>\n",
       "      <td>2.000000</td>\n",
       "      <td>0.000000</td>\n",
       "      <td>2.000000</td>\n",
       "      <td>0.000000</td>\n",
       "      <td>1.000000</td>\n",
       "      <td>0.000000</td>\n",
       "    </tr>\n",
       "    <tr>\n",
       "      <th>25%</th>\n",
       "      <td>2.005706e+06</td>\n",
       "      <td>13.000000</td>\n",
       "      <td>0.000000</td>\n",
       "      <td>14.750000</td>\n",
       "      <td>0.000000</td>\n",
       "      <td>14.000000</td>\n",
       "      <td>0.000000</td>\n",
       "      <td>15.000000</td>\n",
       "      <td>0.000000</td>\n",
       "      <td>13.000000</td>\n",
       "      <td>0.000000</td>\n",
       "      <td>13.000000</td>\n",
       "      <td>0.000000</td>\n",
       "      <td>14.000000</td>\n",
       "      <td>0.000000</td>\n",
       "    </tr>\n",
       "    <tr>\n",
       "      <th>50%</th>\n",
       "      <td>2.006368e+06</td>\n",
       "      <td>36.000000</td>\n",
       "      <td>1.000000</td>\n",
       "      <td>36.000000</td>\n",
       "      <td>1.000000</td>\n",
       "      <td>36.000000</td>\n",
       "      <td>1.000000</td>\n",
       "      <td>36.000000</td>\n",
       "      <td>1.000000</td>\n",
       "      <td>35.000000</td>\n",
       "      <td>1.000000</td>\n",
       "      <td>36.000000</td>\n",
       "      <td>1.000000</td>\n",
       "      <td>36.000000</td>\n",
       "      <td>1.000000</td>\n",
       "    </tr>\n",
       "    <tr>\n",
       "      <th>75%</th>\n",
       "      <td>2.005140e+07</td>\n",
       "      <td>46.000000</td>\n",
       "      <td>1.000000</td>\n",
       "      <td>46.000000</td>\n",
       "      <td>1.000000</td>\n",
       "      <td>46.000000</td>\n",
       "      <td>1.000000</td>\n",
       "      <td>46.000000</td>\n",
       "      <td>1.000000</td>\n",
       "      <td>46.000000</td>\n",
       "      <td>1.000000</td>\n",
       "      <td>46.000000</td>\n",
       "      <td>1.000000</td>\n",
       "      <td>46.000000</td>\n",
       "      <td>1.000000</td>\n",
       "    </tr>\n",
       "    <tr>\n",
       "      <th>max</th>\n",
       "      <td>2.105307e+07</td>\n",
       "      <td>74.000000</td>\n",
       "      <td>1.000000</td>\n",
       "      <td>69.000000</td>\n",
       "      <td>1.000000</td>\n",
       "      <td>69.000000</td>\n",
       "      <td>1.000000</td>\n",
       "      <td>69.000000</td>\n",
       "      <td>1.000000</td>\n",
       "      <td>71.000000</td>\n",
       "      <td>1.000000</td>\n",
       "      <td>71.000000</td>\n",
       "      <td>1.000000</td>\n",
       "      <td>71.000000</td>\n",
       "      <td>1.000000</td>\n",
       "    </tr>\n",
       "  </tbody>\n",
       "</table>\n",
       "</div>"
      ],
      "text/plain": [
       "            roll_no      sdur_C1      pref_C1      sdur_C2      pref_C2  \\\n",
       "count  2.408000e+03  2408.000000  2408.000000  2408.000000  2408.000000   \n",
       "mean   9.174952e+06    31.479236     0.595515    31.740033     0.630399   \n",
       "std    8.860179e+06    18.826024     0.490894    18.365889     0.482797   \n",
       "min    2.005001e+06     2.000000     0.000000     1.000000     0.000000   \n",
       "25%    2.005706e+06    13.000000     0.000000    14.750000     0.000000   \n",
       "50%    2.006368e+06    36.000000     1.000000    36.000000     1.000000   \n",
       "75%    2.005140e+07    46.000000     1.000000    46.000000     1.000000   \n",
       "max    2.105307e+07    74.000000     1.000000    69.000000     1.000000   \n",
       "\n",
       "           sdur_C3      pref_C3     sdur_DE1     pref_DE1     sdur_DE2  \\\n",
       "count  2408.000000  2408.000000  2408.000000  2408.000000  2408.000000   \n",
       "mean     31.560631     0.615033    31.657807     0.599668    31.359219   \n",
       "std      18.697482     0.486689    18.773551     0.490067    18.812462   \n",
       "min       1.000000     0.000000     2.000000     0.000000     2.000000   \n",
       "25%      14.000000     0.000000    15.000000     0.000000    13.000000   \n",
       "50%      36.000000     1.000000    36.000000     1.000000    35.000000   \n",
       "75%      46.000000     1.000000    46.000000     1.000000    46.000000   \n",
       "max      69.000000     1.000000    69.000000     1.000000    71.000000   \n",
       "\n",
       "          pref_DE2     sdur_DE3     pref_DE3     sdur_OE1     pref_OE1  \n",
       "count  2408.000000  2408.000000  2408.000000  2408.000000  2408.000000  \n",
       "mean      0.592193    31.661545     0.590116    31.628738     0.607558  \n",
       "std       0.491529    18.895567     0.491914    18.633501     0.488396  \n",
       "min       0.000000     2.000000     0.000000     1.000000     0.000000  \n",
       "25%       0.000000    13.000000     0.000000    14.000000     0.000000  \n",
       "50%       1.000000    36.000000     1.000000    36.000000     1.000000  \n",
       "75%       1.000000    46.000000     1.000000    46.000000     1.000000  \n",
       "max       1.000000    71.000000     1.000000    71.000000     1.000000  "
      ]
     },
     "execution_count": 12,
     "metadata": {},
     "output_type": "execute_result"
    }
   ],
   "source": [
    "#visializing information in dataframe\n",
    "df.describe()"
   ]
  },
  {
   "cell_type": "markdown",
   "id": "bbb1d344",
   "metadata": {
    "id": "bbb1d344"
   },
   "source": [
    "# Sorting the dataset in terms of roll number"
   ]
  },
  {
   "cell_type": "code",
   "execution_count": 13,
   "id": "78bca205",
   "metadata": {
    "colab": {
     "base_uri": "https://localhost:8080/",
     "height": 609
    },
    "id": "78bca205",
    "outputId": "104f6a5d-b4a3-48a0-f290-7712515592e9"
   },
   "outputs": [
    {
     "data": {
      "text/html": [
       "<div>\n",
       "<style scoped>\n",
       "    .dataframe tbody tr th:only-of-type {\n",
       "        vertical-align: middle;\n",
       "    }\n",
       "\n",
       "    .dataframe tbody tr th {\n",
       "        vertical-align: top;\n",
       "    }\n",
       "\n",
       "    .dataframe thead th {\n",
       "        text-align: right;\n",
       "    }\n",
       "</style>\n",
       "<table border=\"1\" class=\"dataframe\">\n",
       "  <thead>\n",
       "    <tr style=\"text-align: right;\">\n",
       "      <th></th>\n",
       "      <th>roll_no</th>\n",
       "      <th>student_name</th>\n",
       "      <th>branch/course</th>\n",
       "      <th>sdur_C1</th>\n",
       "      <th>pref_C1</th>\n",
       "      <th>sdur_C2</th>\n",
       "      <th>pref_C2</th>\n",
       "      <th>sdur_C3</th>\n",
       "      <th>pref_C3</th>\n",
       "      <th>sdur_DE1</th>\n",
       "      <th>pref_DE1</th>\n",
       "      <th>sdur_DE2</th>\n",
       "      <th>pref_DE2</th>\n",
       "      <th>sdur_DE3</th>\n",
       "      <th>pref_DE3</th>\n",
       "      <th>sdur_OE1</th>\n",
       "      <th>pref_OE1</th>\n",
       "    </tr>\n",
       "  </thead>\n",
       "  <tbody>\n",
       "    <tr>\n",
       "      <th>252</th>\n",
       "      <td>2005001</td>\n",
       "      <td>ABHINAV KUMAR PANDEY</td>\n",
       "      <td>CSE-19</td>\n",
       "      <td>45</td>\n",
       "      <td>1</td>\n",
       "      <td>50</td>\n",
       "      <td>1</td>\n",
       "      <td>62</td>\n",
       "      <td>1</td>\n",
       "      <td>20</td>\n",
       "      <td>0</td>\n",
       "      <td>44</td>\n",
       "      <td>1</td>\n",
       "      <td>57</td>\n",
       "      <td>1</td>\n",
       "      <td>13</td>\n",
       "      <td>0</td>\n",
       "    </tr>\n",
       "    <tr>\n",
       "      <th>86</th>\n",
       "      <td>2005003</td>\n",
       "      <td>ADITI PRASHANT RAI</td>\n",
       "      <td>CSE-10</td>\n",
       "      <td>60</td>\n",
       "      <td>1</td>\n",
       "      <td>32</td>\n",
       "      <td>1</td>\n",
       "      <td>35</td>\n",
       "      <td>1</td>\n",
       "      <td>39</td>\n",
       "      <td>1</td>\n",
       "      <td>44</td>\n",
       "      <td>1</td>\n",
       "      <td>62</td>\n",
       "      <td>1</td>\n",
       "      <td>20</td>\n",
       "      <td>0</td>\n",
       "    </tr>\n",
       "    <tr>\n",
       "      <th>583</th>\n",
       "      <td>2005004</td>\n",
       "      <td>ADITYA PRIYA</td>\n",
       "      <td>CSE-19</td>\n",
       "      <td>2</td>\n",
       "      <td>0</td>\n",
       "      <td>45</td>\n",
       "      <td>1</td>\n",
       "      <td>44</td>\n",
       "      <td>1</td>\n",
       "      <td>61</td>\n",
       "      <td>1</td>\n",
       "      <td>39</td>\n",
       "      <td>1</td>\n",
       "      <td>39</td>\n",
       "      <td>1</td>\n",
       "      <td>49</td>\n",
       "      <td>1</td>\n",
       "    </tr>\n",
       "    <tr>\n",
       "      <th>364</th>\n",
       "      <td>2005005</td>\n",
       "      <td>ADITYA RAJ</td>\n",
       "      <td>CSE-21</td>\n",
       "      <td>8</td>\n",
       "      <td>0</td>\n",
       "      <td>8</td>\n",
       "      <td>0</td>\n",
       "      <td>1</td>\n",
       "      <td>0</td>\n",
       "      <td>2</td>\n",
       "      <td>0</td>\n",
       "      <td>20</td>\n",
       "      <td>0</td>\n",
       "      <td>18</td>\n",
       "      <td>0</td>\n",
       "      <td>5</td>\n",
       "      <td>0</td>\n",
       "    </tr>\n",
       "    <tr>\n",
       "      <th>2255</th>\n",
       "      <td>2005006</td>\n",
       "      <td>AHANA BOSE</td>\n",
       "      <td>CSE-18</td>\n",
       "      <td>10</td>\n",
       "      <td>0</td>\n",
       "      <td>12</td>\n",
       "      <td>1</td>\n",
       "      <td>47</td>\n",
       "      <td>1</td>\n",
       "      <td>45</td>\n",
       "      <td>1</td>\n",
       "      <td>61</td>\n",
       "      <td>1</td>\n",
       "      <td>17</td>\n",
       "      <td>0</td>\n",
       "      <td>45</td>\n",
       "      <td>1</td>\n",
       "    </tr>\n",
       "    <tr>\n",
       "      <th>...</th>\n",
       "      <td>...</td>\n",
       "      <td>...</td>\n",
       "      <td>...</td>\n",
       "      <td>...</td>\n",
       "      <td>...</td>\n",
       "      <td>...</td>\n",
       "      <td>...</td>\n",
       "      <td>...</td>\n",
       "      <td>...</td>\n",
       "      <td>...</td>\n",
       "      <td>...</td>\n",
       "      <td>...</td>\n",
       "      <td>...</td>\n",
       "      <td>...</td>\n",
       "      <td>...</td>\n",
       "      <td>...</td>\n",
       "      <td>...</td>\n",
       "    </tr>\n",
       "    <tr>\n",
       "      <th>1044</th>\n",
       "      <td>21053066</td>\n",
       "      <td>SUPAYAN DAS</td>\n",
       "      <td>CSE-01</td>\n",
       "      <td>5</td>\n",
       "      <td>0</td>\n",
       "      <td>7</td>\n",
       "      <td>0</td>\n",
       "      <td>10</td>\n",
       "      <td>0</td>\n",
       "      <td>58</td>\n",
       "      <td>1</td>\n",
       "      <td>12</td>\n",
       "      <td>0</td>\n",
       "      <td>12</td>\n",
       "      <td>0</td>\n",
       "      <td>17</td>\n",
       "      <td>0</td>\n",
       "    </tr>\n",
       "    <tr>\n",
       "      <th>969</th>\n",
       "      <td>21053067</td>\n",
       "      <td>SUBHANNITA SAHA</td>\n",
       "      <td>CSE-01</td>\n",
       "      <td>12</td>\n",
       "      <td>0</td>\n",
       "      <td>46</td>\n",
       "      <td>1</td>\n",
       "      <td>39</td>\n",
       "      <td>1</td>\n",
       "      <td>5</td>\n",
       "      <td>0</td>\n",
       "      <td>57</td>\n",
       "      <td>1</td>\n",
       "      <td>57</td>\n",
       "      <td>1</td>\n",
       "      <td>50</td>\n",
       "      <td>1</td>\n",
       "    </tr>\n",
       "    <tr>\n",
       "      <th>2297</th>\n",
       "      <td>21053068</td>\n",
       "      <td>KOUSTAV DASGUPTA</td>\n",
       "      <td>CSE-16</td>\n",
       "      <td>15</td>\n",
       "      <td>0</td>\n",
       "      <td>10</td>\n",
       "      <td>0</td>\n",
       "      <td>39</td>\n",
       "      <td>1</td>\n",
       "      <td>44</td>\n",
       "      <td>1</td>\n",
       "      <td>20</td>\n",
       "      <td>0</td>\n",
       "      <td>17</td>\n",
       "      <td>0</td>\n",
       "      <td>49</td>\n",
       "      <td>1</td>\n",
       "    </tr>\n",
       "    <tr>\n",
       "      <th>2273</th>\n",
       "      <td>21053069</td>\n",
       "      <td>SOTRAJIT DAS</td>\n",
       "      <td>CSE-05</td>\n",
       "      <td>52</td>\n",
       "      <td>1</td>\n",
       "      <td>20</td>\n",
       "      <td>0</td>\n",
       "      <td>17</td>\n",
       "      <td>0</td>\n",
       "      <td>12</td>\n",
       "      <td>0</td>\n",
       "      <td>40</td>\n",
       "      <td>1</td>\n",
       "      <td>47</td>\n",
       "      <td>1</td>\n",
       "      <td>7</td>\n",
       "      <td>0</td>\n",
       "    </tr>\n",
       "    <tr>\n",
       "      <th>2269</th>\n",
       "      <td>21053071</td>\n",
       "      <td>ALISHA MOHANTY</td>\n",
       "      <td>CSE-16</td>\n",
       "      <td>6</td>\n",
       "      <td>1</td>\n",
       "      <td>6</td>\n",
       "      <td>1</td>\n",
       "      <td>6</td>\n",
       "      <td>1</td>\n",
       "      <td>6</td>\n",
       "      <td>0</td>\n",
       "      <td>6</td>\n",
       "      <td>0</td>\n",
       "      <td>6</td>\n",
       "      <td>0</td>\n",
       "      <td>6</td>\n",
       "      <td>1</td>\n",
       "    </tr>\n",
       "  </tbody>\n",
       "</table>\n",
       "<p>2408 rows × 17 columns</p>\n",
       "</div>"
      ],
      "text/plain": [
       "       roll_no          student_name branch/course  sdur_C1  pref_C1  sdur_C2  \\\n",
       "252    2005001  ABHINAV KUMAR PANDEY        CSE-19       45        1       50   \n",
       "86     2005003    ADITI PRASHANT RAI        CSE-10       60        1       32   \n",
       "583    2005004          ADITYA PRIYA        CSE-19        2        0       45   \n",
       "364    2005005            ADITYA RAJ        CSE-21        8        0        8   \n",
       "2255   2005006            AHANA BOSE        CSE-18       10        0       12   \n",
       "...        ...                   ...           ...      ...      ...      ...   \n",
       "1044  21053066           SUPAYAN DAS        CSE-01        5        0        7   \n",
       "969   21053067       SUBHANNITA SAHA        CSE-01       12        0       46   \n",
       "2297  21053068      KOUSTAV DASGUPTA        CSE-16       15        0       10   \n",
       "2273  21053069          SOTRAJIT DAS        CSE-05       52        1       20   \n",
       "2269  21053071        ALISHA MOHANTY        CSE-16        6        1        6   \n",
       "\n",
       "      pref_C2  sdur_C3  pref_C3  sdur_DE1  pref_DE1  sdur_DE2  pref_DE2  \\\n",
       "252         1       62        1        20         0        44         1   \n",
       "86          1       35        1        39         1        44         1   \n",
       "583         1       44        1        61         1        39         1   \n",
       "364         0        1        0         2         0        20         0   \n",
       "2255        1       47        1        45         1        61         1   \n",
       "...       ...      ...      ...       ...       ...       ...       ...   \n",
       "1044        0       10        0        58         1        12         0   \n",
       "969         1       39        1         5         0        57         1   \n",
       "2297        0       39        1        44         1        20         0   \n",
       "2273        0       17        0        12         0        40         1   \n",
       "2269        1        6        1         6         0         6         0   \n",
       "\n",
       "      sdur_DE3  pref_DE3  sdur_OE1  pref_OE1  \n",
       "252         57         1        13         0  \n",
       "86          62         1        20         0  \n",
       "583         39         1        49         1  \n",
       "364         18         0         5         0  \n",
       "2255        17         0        45         1  \n",
       "...        ...       ...       ...       ...  \n",
       "1044        12         0        17         0  \n",
       "969         57         1        50         1  \n",
       "2297        17         0        49         1  \n",
       "2273        47         1         7         0  \n",
       "2269         6         0         6         1  \n",
       "\n",
       "[2408 rows x 17 columns]"
      ]
     },
     "execution_count": 13,
     "metadata": {},
     "output_type": "execute_result"
    }
   ],
   "source": [
    "#sorting the dataframe w.r.t student roll numbers\n",
    "df = df.sort_values(by ='roll_no')\n",
    "df"
   ]
  },
  {
   "cell_type": "code",
   "execution_count": 14,
   "id": "e3f08627",
   "metadata": {
    "colab": {
     "base_uri": "https://localhost:8080/"
    },
    "id": "e3f08627",
    "outputId": "4e855049-34b8-4b41-db5b-c149f580cdbf"
   },
   "outputs": [
    {
     "data": {
      "text/plain": [
       "(2408, 17)"
      ]
     },
     "execution_count": 14,
     "metadata": {},
     "output_type": "execute_result"
    }
   ],
   "source": [
    "#shape updates\n",
    "df.shape"
   ]
  },
  {
   "cell_type": "markdown",
   "id": "f2886bfb",
   "metadata": {
    "id": "f2886bfb"
   },
   "source": [
    "# Typecasting the entries into appropriate datatypes"
   ]
  },
  {
   "cell_type": "code",
   "execution_count": 15,
   "id": "3820297a",
   "metadata": {
    "id": "3820297a"
   },
   "outputs": [
    {
     "data": {
      "text/html": [
       "<div>\n",
       "<style scoped>\n",
       "    .dataframe tbody tr th:only-of-type {\n",
       "        vertical-align: middle;\n",
       "    }\n",
       "\n",
       "    .dataframe tbody tr th {\n",
       "        vertical-align: top;\n",
       "    }\n",
       "\n",
       "    .dataframe thead th {\n",
       "        text-align: right;\n",
       "    }\n",
       "</style>\n",
       "<table border=\"1\" class=\"dataframe\">\n",
       "  <thead>\n",
       "    <tr style=\"text-align: right;\">\n",
       "      <th></th>\n",
       "      <th>roll_no</th>\n",
       "      <th>student_name</th>\n",
       "      <th>branch/course</th>\n",
       "      <th>sdur_C1</th>\n",
       "      <th>pref_C1</th>\n",
       "      <th>sdur_C2</th>\n",
       "      <th>pref_C2</th>\n",
       "      <th>sdur_C3</th>\n",
       "      <th>pref_C3</th>\n",
       "      <th>sdur_DE1</th>\n",
       "      <th>pref_DE1</th>\n",
       "      <th>sdur_DE2</th>\n",
       "      <th>pref_DE2</th>\n",
       "      <th>sdur_DE3</th>\n",
       "      <th>pref_DE3</th>\n",
       "      <th>sdur_OE1</th>\n",
       "      <th>pref_OE1</th>\n",
       "    </tr>\n",
       "  </thead>\n",
       "  <tbody>\n",
       "    <tr>\n",
       "      <th>252</th>\n",
       "      <td>2005001</td>\n",
       "      <td>ABHINAV KUMAR PANDEY</td>\n",
       "      <td>CSE-19</td>\n",
       "      <td>45</td>\n",
       "      <td>1</td>\n",
       "      <td>50</td>\n",
       "      <td>1</td>\n",
       "      <td>62</td>\n",
       "      <td>1</td>\n",
       "      <td>20</td>\n",
       "      <td>0</td>\n",
       "      <td>44</td>\n",
       "      <td>1</td>\n",
       "      <td>57</td>\n",
       "      <td>1</td>\n",
       "      <td>13</td>\n",
       "      <td>0</td>\n",
       "    </tr>\n",
       "    <tr>\n",
       "      <th>86</th>\n",
       "      <td>2005003</td>\n",
       "      <td>ADITI PRASHANT RAI</td>\n",
       "      <td>CSE-10</td>\n",
       "      <td>60</td>\n",
       "      <td>1</td>\n",
       "      <td>32</td>\n",
       "      <td>1</td>\n",
       "      <td>35</td>\n",
       "      <td>1</td>\n",
       "      <td>39</td>\n",
       "      <td>1</td>\n",
       "      <td>44</td>\n",
       "      <td>1</td>\n",
       "      <td>62</td>\n",
       "      <td>1</td>\n",
       "      <td>20</td>\n",
       "      <td>0</td>\n",
       "    </tr>\n",
       "    <tr>\n",
       "      <th>583</th>\n",
       "      <td>2005004</td>\n",
       "      <td>ADITYA PRIYA</td>\n",
       "      <td>CSE-19</td>\n",
       "      <td>2</td>\n",
       "      <td>0</td>\n",
       "      <td>45</td>\n",
       "      <td>1</td>\n",
       "      <td>44</td>\n",
       "      <td>1</td>\n",
       "      <td>61</td>\n",
       "      <td>1</td>\n",
       "      <td>39</td>\n",
       "      <td>1</td>\n",
       "      <td>39</td>\n",
       "      <td>1</td>\n",
       "      <td>49</td>\n",
       "      <td>1</td>\n",
       "    </tr>\n",
       "    <tr>\n",
       "      <th>364</th>\n",
       "      <td>2005005</td>\n",
       "      <td>ADITYA RAJ</td>\n",
       "      <td>CSE-21</td>\n",
       "      <td>8</td>\n",
       "      <td>0</td>\n",
       "      <td>8</td>\n",
       "      <td>0</td>\n",
       "      <td>1</td>\n",
       "      <td>0</td>\n",
       "      <td>2</td>\n",
       "      <td>0</td>\n",
       "      <td>20</td>\n",
       "      <td>0</td>\n",
       "      <td>18</td>\n",
       "      <td>0</td>\n",
       "      <td>5</td>\n",
       "      <td>0</td>\n",
       "    </tr>\n",
       "    <tr>\n",
       "      <th>2255</th>\n",
       "      <td>2005006</td>\n",
       "      <td>AHANA BOSE</td>\n",
       "      <td>CSE-18</td>\n",
       "      <td>10</td>\n",
       "      <td>0</td>\n",
       "      <td>12</td>\n",
       "      <td>1</td>\n",
       "      <td>47</td>\n",
       "      <td>1</td>\n",
       "      <td>45</td>\n",
       "      <td>1</td>\n",
       "      <td>61</td>\n",
       "      <td>1</td>\n",
       "      <td>17</td>\n",
       "      <td>0</td>\n",
       "      <td>45</td>\n",
       "      <td>1</td>\n",
       "    </tr>\n",
       "    <tr>\n",
       "      <th>...</th>\n",
       "      <td>...</td>\n",
       "      <td>...</td>\n",
       "      <td>...</td>\n",
       "      <td>...</td>\n",
       "      <td>...</td>\n",
       "      <td>...</td>\n",
       "      <td>...</td>\n",
       "      <td>...</td>\n",
       "      <td>...</td>\n",
       "      <td>...</td>\n",
       "      <td>...</td>\n",
       "      <td>...</td>\n",
       "      <td>...</td>\n",
       "      <td>...</td>\n",
       "      <td>...</td>\n",
       "      <td>...</td>\n",
       "      <td>...</td>\n",
       "    </tr>\n",
       "    <tr>\n",
       "      <th>1044</th>\n",
       "      <td>21053066</td>\n",
       "      <td>SUPAYAN DAS</td>\n",
       "      <td>CSE-01</td>\n",
       "      <td>5</td>\n",
       "      <td>0</td>\n",
       "      <td>7</td>\n",
       "      <td>0</td>\n",
       "      <td>10</td>\n",
       "      <td>0</td>\n",
       "      <td>58</td>\n",
       "      <td>1</td>\n",
       "      <td>12</td>\n",
       "      <td>0</td>\n",
       "      <td>12</td>\n",
       "      <td>0</td>\n",
       "      <td>17</td>\n",
       "      <td>0</td>\n",
       "    </tr>\n",
       "    <tr>\n",
       "      <th>969</th>\n",
       "      <td>21053067</td>\n",
       "      <td>SUBHANNITA SAHA</td>\n",
       "      <td>CSE-01</td>\n",
       "      <td>12</td>\n",
       "      <td>0</td>\n",
       "      <td>46</td>\n",
       "      <td>1</td>\n",
       "      <td>39</td>\n",
       "      <td>1</td>\n",
       "      <td>5</td>\n",
       "      <td>0</td>\n",
       "      <td>57</td>\n",
       "      <td>1</td>\n",
       "      <td>57</td>\n",
       "      <td>1</td>\n",
       "      <td>50</td>\n",
       "      <td>1</td>\n",
       "    </tr>\n",
       "    <tr>\n",
       "      <th>2297</th>\n",
       "      <td>21053068</td>\n",
       "      <td>KOUSTAV DASGUPTA</td>\n",
       "      <td>CSE-16</td>\n",
       "      <td>15</td>\n",
       "      <td>0</td>\n",
       "      <td>10</td>\n",
       "      <td>0</td>\n",
       "      <td>39</td>\n",
       "      <td>1</td>\n",
       "      <td>44</td>\n",
       "      <td>1</td>\n",
       "      <td>20</td>\n",
       "      <td>0</td>\n",
       "      <td>17</td>\n",
       "      <td>0</td>\n",
       "      <td>49</td>\n",
       "      <td>1</td>\n",
       "    </tr>\n",
       "    <tr>\n",
       "      <th>2273</th>\n",
       "      <td>21053069</td>\n",
       "      <td>SOTRAJIT DAS</td>\n",
       "      <td>CSE-05</td>\n",
       "      <td>52</td>\n",
       "      <td>1</td>\n",
       "      <td>20</td>\n",
       "      <td>0</td>\n",
       "      <td>17</td>\n",
       "      <td>0</td>\n",
       "      <td>12</td>\n",
       "      <td>0</td>\n",
       "      <td>40</td>\n",
       "      <td>1</td>\n",
       "      <td>47</td>\n",
       "      <td>1</td>\n",
       "      <td>7</td>\n",
       "      <td>0</td>\n",
       "    </tr>\n",
       "    <tr>\n",
       "      <th>2269</th>\n",
       "      <td>21053071</td>\n",
       "      <td>ALISHA MOHANTY</td>\n",
       "      <td>CSE-16</td>\n",
       "      <td>6</td>\n",
       "      <td>1</td>\n",
       "      <td>6</td>\n",
       "      <td>1</td>\n",
       "      <td>6</td>\n",
       "      <td>1</td>\n",
       "      <td>6</td>\n",
       "      <td>0</td>\n",
       "      <td>6</td>\n",
       "      <td>0</td>\n",
       "      <td>6</td>\n",
       "      <td>0</td>\n",
       "      <td>6</td>\n",
       "      <td>1</td>\n",
       "    </tr>\n",
       "  </tbody>\n",
       "</table>\n",
       "<p>2408 rows × 17 columns</p>\n",
       "</div>"
      ],
      "text/plain": [
       "       roll_no          student_name branch/course  sdur_C1  pref_C1  sdur_C2  \\\n",
       "252    2005001  ABHINAV KUMAR PANDEY        CSE-19       45        1       50   \n",
       "86     2005003    ADITI PRASHANT RAI        CSE-10       60        1       32   \n",
       "583    2005004          ADITYA PRIYA        CSE-19        2        0       45   \n",
       "364    2005005            ADITYA RAJ        CSE-21        8        0        8   \n",
       "2255   2005006            AHANA BOSE        CSE-18       10        0       12   \n",
       "...        ...                   ...           ...      ...      ...      ...   \n",
       "1044  21053066           SUPAYAN DAS        CSE-01        5        0        7   \n",
       "969   21053067       SUBHANNITA SAHA        CSE-01       12        0       46   \n",
       "2297  21053068      KOUSTAV DASGUPTA        CSE-16       15        0       10   \n",
       "2273  21053069          SOTRAJIT DAS        CSE-05       52        1       20   \n",
       "2269  21053071        ALISHA MOHANTY        CSE-16        6        1        6   \n",
       "\n",
       "      pref_C2  sdur_C3  pref_C3  sdur_DE1  pref_DE1  sdur_DE2  pref_DE2  \\\n",
       "252         1       62        1        20         0        44         1   \n",
       "86          1       35        1        39         1        44         1   \n",
       "583         1       44        1        61         1        39         1   \n",
       "364         0        1        0         2         0        20         0   \n",
       "2255        1       47        1        45         1        61         1   \n",
       "...       ...      ...      ...       ...       ...       ...       ...   \n",
       "1044        0       10        0        58         1        12         0   \n",
       "969         1       39        1         5         0        57         1   \n",
       "2297        0       39        1        44         1        20         0   \n",
       "2273        0       17        0        12         0        40         1   \n",
       "2269        1        6        1         6         0         6         0   \n",
       "\n",
       "      sdur_DE3  pref_DE3  sdur_OE1  pref_OE1  \n",
       "252         57         1        13         0  \n",
       "86          62         1        20         0  \n",
       "583         39         1        49         1  \n",
       "364         18         0         5         0  \n",
       "2255        17         0        45         1  \n",
       "...        ...       ...       ...       ...  \n",
       "1044        12         0        17         0  \n",
       "969         57         1        50         1  \n",
       "2297        17         0        49         1  \n",
       "2273        47         1         7         0  \n",
       "2269         6         0         6         1  \n",
       "\n",
       "[2408 rows x 17 columns]"
      ]
     },
     "execution_count": 15,
     "metadata": {},
     "output_type": "execute_result"
    }
   ],
   "source": [
    "#converting roll numbers to int from float\n",
    "df[\"roll_no\"] = df[\"roll_no\"].astype(float).astype(int)\n",
    "df"
   ]
  },
  {
   "cell_type": "markdown",
   "id": "e708aa6c",
   "metadata": {
    "id": "e708aa6c"
   },
   "source": [
    "# Performing price and mass related computations"
   ]
  },
  {
   "cell_type": "code",
   "execution_count": 16,
   "id": "04e9f0d3",
   "metadata": {
    "id": "04e9f0d3"
   },
   "outputs": [],
   "source": [
    "#material (hardcopy) prices in Rupees\n",
    "\n",
    "#Wireless communications - Theodore S Rapport\n",
    "hc_price_CC = 829.00\n",
    "\n",
    "#Probability and Statistics for Engineering and the Sciences - Jay L Devore\n",
    "hc_price_IFS = 725.00\n",
    "\n",
    "#CMOS VLSI design - Neil H. E. Weste and David Money Harris\n",
    "hc_price_VLSI = 929.00\n",
    "\n",
    "#Principles of Soft Computing - S. N. Sivanandan and S. N. Deepa\n",
    "hc_price_DE1 = 710.00\n",
    "\n",
    "#Information Theory, Coding and Cryptography - Ranjan Bose\n",
    "hc_price_DE2 = 495.00\n",
    "\n",
    "#Digital Image Processing - S Jayaraman, S Esakkirajan, T Veerakumar\n",
    "hc_price_DE3 = 738.00\n",
    "\n",
    "#Quantum Computing Explained - David McMohan\n",
    "hc_price_OE1 = 6500.00"
   ]
  },
  {
   "cell_type": "code",
   "execution_count": 17,
   "id": "e2077b40",
   "metadata": {
    "colab": {
     "base_uri": "https://localhost:8080/",
     "height": 350
    },
    "id": "e2077b40",
    "outputId": "d1134dc6-2a2e-409d-c1d4-af34bb598abd"
   },
   "outputs": [
    {
     "data": {
      "image/png": "[encoded data removed]",
      "text/plain": [
       "<Figure size 1000x500 with 1 Axes>"
      ]
     },
     "metadata": {},
     "output_type": "display_data"
    }
   ],
   "source": [
    "data = {'CC':hc_price_CC,\n",
    "        'IFS':hc_price_IFS,\n",
    "        'VLSI':hc_price_VLSI,\n",
    "        'DE1':hc_price_DE1,\n",
    "        'DE2':hc_price_DE2,\n",
    "        'DE3':hc_price_DE3,\n",
    "        'OE1':hc_price_OE1}\n",
    "\n",
    "subjects = list(data.keys())\n",
    "values = list(data.values())\n",
    "  \n",
    "fig = plt.figure(figsize = (10, 5))\n",
    " \n",
    "# creating the bar plot\n",
    "plt.bar(subjects, values, color ='green',\n",
    "        width = 0.4)\n",
    " \n",
    "plt.xlabel(\"Subject Material Names\")\n",
    "plt.ylabel(\"Hardcopy Price (in Rs.)\")\n",
    "plt.title(\"Market price of materials (Hardcopy)\")\n",
    "plt.show()"
   ]
  },
  {
   "cell_type": "code",
   "execution_count": 18,
   "id": "cdd755ec",
   "metadata": {
    "id": "cdd755ec"
   },
   "outputs": [],
   "source": [
    "#material (eBook) prices in Rupees\n",
    "\n",
    "#Wireless communications - Theodore S Rapport\n",
    "sc_price_CC = 0.00 #source: www.researchgate.net\n",
    "\n",
    "#Probability and Statistics for Engineering and the Sciences - Jay L Devore\n",
    "sc_price_IFS = 0.00 #source: z-lib.org\n",
    "\n",
    "#CMOS VLSI design - Neil H. E. Weste and David Money Harris\n",
    "sc_price_VLSI = 404.00 #source: Amazon-Kindle Edition\n",
    "\n",
    "#Principles of Soft Computing - S. N. Sivanandan and S. N. Deepa\n",
    "sc_price_DE1 = 568.00 #Source: Amazon-Kindle Edition\n",
    "\n",
    "#Information Theory, Coding and Cryptography - Ranjan Bose\n",
    "sc_price_DE2 = 495.00 #eBook note available\n",
    "\n",
    "#Digital Image Processing - S Jayaraman, S Esakkirajan, T Veerakumar\n",
    "sc_price_DE3 = 738.00 #eBook note available\n",
    "\n",
    "#Quantum Computing Explained - David McMohan\n",
    "sc_price_OE1 = 0.00 #source: www.academia.edu"
   ]
  },
  {
   "cell_type": "code",
   "execution_count": 19,
   "id": "d5d2f951",
   "metadata": {
    "colab": {
     "base_uri": "https://localhost:8080/",
     "height": 350
    },
    "id": "d5d2f951",
    "outputId": "efd6b352-a7c5-4275-80ca-f9de761355f0"
   },
   "outputs": [
    {
     "data": {
      "image/png": "[encoded data removed]",
      "text/plain": [
       "<Figure size 1000x500 with 1 Axes>"
      ]
     },
     "metadata": {},
     "output_type": "display_data"
    }
   ],
   "source": [
    "data = {'CC':sc_price_CC,\n",
    "        'IFS':sc_price_IFS,\n",
    "        'VLSI':sc_price_VLSI,\n",
    "        'DE1':sc_price_DE1,\n",
    "        'DE2':sc_price_DE2,\n",
    "        'DE3':sc_price_DE3,\n",
    "        'OE1':sc_price_OE1}\n",
    "\n",
    "subjects1 = list(data.keys())\n",
    "values1 = list(data.values())\n",
    "  \n",
    "fig = plt.figure(figsize = (10, 5))\n",
    " \n",
    "# creating the bar plot\n",
    "plt.bar(subjects1, values1, color ='blue',\n",
    "        width = 0.4)\n",
    " \n",
    "plt.xlabel(\"Subject Material Names\")\n",
    "plt.ylabel(\"eBook Price (in Rs.)\")\n",
    "plt.title(\"Market price of materials (eBook)\")\n",
    "plt.show()"
   ]
  },
  {
   "cell_type": "code",
   "execution_count": 20,
   "id": "88f6e529",
   "metadata": {
    "id": "88f6e529"
   },
   "outputs": [],
   "source": [
    "#counting the preferences for each subject\n",
    "no_sc_CC = (df['pref_C1'] == 0).sum()\n",
    "no_hc_CC = (df['pref_C1'] == 1).sum()\n",
    "\n",
    "no_sc_IFS = (df['pref_C2'] == 0).sum()\n",
    "no_hc_IFS = (df['pref_C2'] == 1).sum()\n",
    "\n",
    "no_sc_VLSI = (df['pref_C3'] == 0).sum()\n",
    "no_hc_VLSI = (df['pref_C3'] == 1).sum()\n",
    "\n",
    "no_sc_DE1 = (df['pref_DE1'] == 0).sum()\n",
    "no_hc_DE1 = (df['pref_DE1'] == 1).sum()\n",
    "\n",
    "no_sc_DE2 = (df['pref_DE2'] == 0).sum()\n",
    "no_hc_DE2 = (df['pref_DE2'] == 1).sum()\n",
    "\n",
    "no_sc_DE3 = (df['pref_DE3'] == 0).sum()\n",
    "no_hc_DE3 = (df['pref_DE3'] == 1).sum()\n",
    "\n",
    "no_sc_OE1 = (df['pref_OE1'] == 0).sum()\n",
    "no_hc_OE1 = (df['pref_OE1'] == 1).sum()"
   ]
  },
  {
   "cell_type": "code",
   "execution_count": 21,
   "id": "87cafd5f",
   "metadata": {
    "colab": {
     "base_uri": "https://localhost:8080/",
     "height": 295
    },
    "id": "87cafd5f",
    "outputId": "2d20a951-6fe8-4b44-a107-29a2142cb96a"
   },
   "outputs": [
    {
     "data": {
      "image/png": "[encoded data removed]",
      "text/plain": [
       "<Figure size 640x480 with 1 Axes>"
      ]
     },
     "metadata": {},
     "output_type": "display_data"
    }
   ],
   "source": [
    "X = ['CC','IFS','VLSI','DE1','DE2','DE3','OE1']\n",
    "eBook = [no_sc_CC,no_sc_IFS,no_sc_VLSI,no_sc_DE1,no_sc_DE2,no_sc_DE3,no_sc_OE1]\n",
    "Hardcopy = [no_hc_CC,no_hc_IFS,no_hc_VLSI,no_hc_DE1,no_hc_DE2,no_hc_DE3,no_hc_OE1]\n",
    "  \n",
    "X_axis = np.arange(len(X))\n",
    "  \n",
    "plt.bar(X_axis - 0.2, eBook, 0.4, label = 'eBook')\n",
    "plt.bar(X_axis + 0.2, Hardcopy, 0.4, label = 'Hardcopy')\n",
    "  \n",
    "plt.xticks(X_axis, X)\n",
    "plt.xlabel(\"Engineering (6th sem) study materials\")\n",
    "plt.ylabel(\"Quantity of materials\")\n",
    "plt.title(\"Subject wise material preferences (Hardcopy/eBook)\")\n",
    "plt.legend()\n",
    "plt.show()"
   ]
  },
  {
   "cell_type": "code",
   "execution_count": 22,
   "id": "5668f616",
   "metadata": {
    "id": "5668f616"
   },
   "outputs": [],
   "source": [
    "#calculation of savings\n",
    "\n",
    "saving_CC = (no_hc_CC * hc_price_CC) - (no_sc_CC * sc_price_CC)\n",
    "\n",
    "saving_IFS = (no_hc_IFS * hc_price_IFS) - (no_sc_IFS * sc_price_IFS)\n",
    "\n",
    "saving_VLSI = (no_hc_VLSI * hc_price_VLSI) - (no_sc_VLSI * sc_price_VLSI)\n",
    "\n",
    "saving_DE1 = (no_hc_DE1 * hc_price_DE1) - (no_sc_DE1 * sc_price_DE1)\n",
    "\n",
    "saving_DE2 = (no_hc_DE2 * hc_price_DE2) - (no_sc_DE2 * sc_price_DE2)\n",
    "\n",
    "saving_DE3 = (no_hc_DE3 * hc_price_DE3) - (no_sc_DE3 * sc_price_DE3)\n",
    "\n",
    "saving_OE1 = (no_hc_OE1 * hc_price_OE1) - (no_sc_OE1 * sc_price_OE1)"
   ]
  },
  {
   "cell_type": "code",
   "execution_count": 23,
   "id": "0734d267",
   "metadata": {
    "colab": {
     "base_uri": "https://localhost:8080/"
    },
    "id": "0734d267",
    "outputId": "b6e43c3f-d511-4372-edf8-3f729c0b896c"
   },
   "outputs": [
    {
     "name": "stdout",
     "output_type": "stream",
     "text": [
      "Savings in Cellular Communication: Rs. 1188786\n",
      "\n",
      "Savings in Inferential Statistics: Rs. 1100550\n",
      "\n",
      "Savings in VLSI: Rs. 1001341\n",
      "\n",
      "Savings in Department Elective 1: Rs. 477688\n",
      "\n",
      "Savings in Department Elective 2: Rs. 219780\n",
      "\n",
      "Savings in Department Elective 3: Rs. 320292\n",
      "\n",
      "Savings in Open Elective 1: Rs. 9509500\n"
     ]
    }
   ],
   "source": [
    "print(\"Savings in Cellular Communication: Rs.\", round(saving_CC))\n",
    "print(\"\\nSavings in Inferential Statistics: Rs.\", round(saving_IFS))\n",
    "print(\"\\nSavings in VLSI: Rs.\", round(saving_VLSI))\n",
    "print(\"\\nSavings in Department Elective 1: Rs.\", round(saving_DE1))\n",
    "print(\"\\nSavings in Department Elective 2: Rs.\", round(saving_DE2))\n",
    "print(\"\\nSavings in Department Elective 3: Rs.\", round(saving_DE3))\n",
    "print(\"\\nSavings in Open Elective 1: Rs.\", round(saving_OE1))"
   ]
  },
  {
   "cell_type": "code",
   "execution_count": 24,
   "id": "a7440440",
   "metadata": {
    "colab": {
     "base_uri": "https://localhost:8080/"
    },
    "id": "a7440440",
    "outputId": "a276aa01-7502-455f-ef31-a6986ac98b49"
   },
   "outputs": [
    {
     "name": "stdout",
     "output_type": "stream",
     "text": [
      "Percentage savings (Cellular Communication): 100.0 %\n",
      "\n",
      "Percentage savings (Inferential Statistics): 100.0 %\n",
      "\n",
      "Percentage savings (VLSI): 72.77986174354889 %\n",
      "\n",
      "Percentage savings (Department Elective 1): 46.59279778393352 %\n",
      "\n",
      "Percentage savings (Department Elective 2): 31.136044880785413 %\n",
      "\n",
      "Percentage savings (Department Elective 3): 30.541871921182267 %\n",
      "\n",
      "Percentage savings (Open Elective 1): 100.0 %\n"
     ]
    }
   ],
   "source": [
    "#percentage savings per subject\n",
    "print(\"Percentage savings (Cellular Communication):\", (saving_CC/(no_hc_CC * hc_price_CC))*100,\"%\")\n",
    "print(\"\\nPercentage savings (Inferential Statistics):\", (saving_IFS/(no_hc_IFS * hc_price_IFS))*100,\"%\")\n",
    "print(\"\\nPercentage savings (VLSI):\", (saving_VLSI/(no_hc_VLSI * hc_price_VLSI))*100,\"%\")\n",
    "print(\"\\nPercentage savings (Department Elective 1):\", (saving_DE1/(no_hc_DE1 * hc_price_DE1))*100,\"%\")\n",
    "print(\"\\nPercentage savings (Department Elective 2):\", (saving_DE2/(no_hc_DE2 * hc_price_DE2))*100,\"%\")\n",
    "print(\"\\nPercentage savings (Department Elective 3):\", (saving_DE3/(no_hc_DE3 * hc_price_DE3))*100,\"%\")\n",
    "print(\"\\nPercentage savings (Open Elective 1):\", (saving_OE1/(no_hc_OE1 * hc_price_OE1))*100,\"%\")"
   ]
  },
  {
   "cell_type": "code",
   "execution_count": 25,
   "id": "656cebfe",
   "metadata": {
    "colab": {
     "base_uri": "https://localhost:8080/",
     "height": 350
    },
    "id": "656cebfe",
    "outputId": "1d1f260b-8b83-413e-dcf1-b2a544c2f0d4"
   },
   "outputs": [
    {
     "data": {
      "image/png": "[encoded data removed]",
      "text/plain": [
       "<Figure size 1000x500 with 1 Axes>"
      ]
     },
     "metadata": {},
     "output_type": "display_data"
    }
   ],
   "source": [
    "data = {'CC':(saving_CC/(no_hc_CC * hc_price_CC))*100,\n",
    "        'IFS':(saving_IFS/(no_hc_IFS * hc_price_IFS))*100,\n",
    "        'VLSI':(saving_VLSI/(no_hc_VLSI * hc_price_VLSI))*100,\n",
    "        'DE1':(saving_DE1/(no_hc_DE1 * hc_price_DE1))*100,\n",
    "        'DE2':(saving_DE2/(no_hc_DE2 * hc_price_DE2))*100,\n",
    "        'DE3':(saving_DE3/(no_hc_DE3 * hc_price_DE3))*100,\n",
    "        'OE1':(saving_OE1/(no_hc_OE1 * hc_price_OE1))*100}\n",
    "\n",
    "subjects2 = list(data.keys())\n",
    "values2 = list(data.values())\n",
    "  \n",
    "fig = plt.figure(figsize = (10, 5))\n",
    " \n",
    "# creating the bar plot\n",
    "plt.bar(subjects2, values2, color ='maroon',\n",
    "        width = 0.4)\n",
    " \n",
    "plt.xlabel(\"Subject Names\")\n",
    "plt.ylabel(\"Percentage Savings (in Rs.)\")\n",
    "plt.title(\"Subject wise %age savings in study materials\")\n",
    "plt.show()"
   ]
  },
  {
   "cell_type": "code",
   "execution_count": 27,
   "id": "ace6f883",
   "metadata": {
    "colab": {
     "base_uri": "https://localhost:8080/"
    },
    "id": "ace6f883",
    "outputId": "eeaf786f-152a-4143-9e92-1a5ca85fd46a"
   },
   "outputs": [
    {
     "name": "stdout",
     "output_type": "stream",
     "text": [
      "Total savings = 68.72151090420716 % = 69 %\n"
     ]
    }
   ],
   "source": [
    "#computing total percentage savings\n",
    "ultimate_savings_per = (((saving_CC/(no_hc_CC * hc_price_CC))*100)+\n",
    "                    ((saving_IFS/(no_hc_IFS * hc_price_IFS))*100)+\n",
    "                    ((saving_VLSI/(no_hc_VLSI * hc_price_VLSI))*100)+\n",
    "                    ((saving_DE1/(no_hc_DE1 * hc_price_DE1))*100)+\n",
    "                    ((saving_DE2/(no_hc_DE2 * hc_price_DE2))*100)+\n",
    "                    ((saving_DE3/(no_hc_DE3 * hc_price_DE3))*100)+\n",
    "                    ((saving_OE1/(no_hc_OE1 * hc_price_OE1))*100))/7\n",
    "\n",
    "print(\"Total savings =\",ultimate_savings_per,\"% =\", round(ultimate_savings_per),\"%\")"
   ]
  },
  {
   "cell_type": "code",
   "execution_count": 28,
   "id": "73f561f2",
   "metadata": {
    "colab": {
     "base_uri": "https://localhost:8080/"
    },
    "id": "73f561f2",
    "outputId": "f56c76eb-8268-49af-a293-b836a7ad1644"
   },
   "outputs": [
    {
     "name": "stdout",
     "output_type": "stream",
     "text": [
      "Total estimated savings: Rs. 13817937\n"
     ]
    }
   ],
   "source": [
    "#total savings for 6th semester\n",
    "total_savings = (saving_CC\n",
    "                +saving_IFS\n",
    "                +saving_VLSI\n",
    "                +saving_DE1\n",
    "                +saving_DE2\n",
    "                +saving_DE3\n",
    "                +saving_OE1)\n",
    "\n",
    "print(\"Total estimated savings: Rs.\", round(total_savings))"
   ]
  },
  {
   "cell_type": "code",
   "execution_count": 29,
   "id": "dee45495",
   "metadata": {
    "id": "dee45495"
   },
   "outputs": [],
   "source": [
    "#computing the paper savings (in grams)\n",
    "#Source: Amazon.in\n",
    "\n",
    "#Wireless communications - Theodore S Rapport\n",
    "w_CC = 750\n",
    "\n",
    "#Probability and Statistics for Engineering and the Sciences - Jay L Devore\n",
    "w_IFS = 1540\n",
    "\n",
    "#CMOS VLSI design - Neil H. E. Weste and David Money Harris\n",
    "w_VLSI = 1290\n",
    "\n",
    "#Principles of Soft Computing - S. N. Sivanandan and S. N. Deepa\n",
    "w_DE1 = 1560\n",
    "\n",
    "#Information Theory, Coding and Cryptography - Ranjan Bose\n",
    "w_DE2 = 287\n",
    "\n",
    "#Digital Image Processing - S Jayaraman, S Esakkirajan, T Veerakumar\n",
    "w_DE3 = 1200\n",
    "\n",
    "#Quantum Computing Explained - David McMohan\n",
    "w_OE1 = 624"
   ]
  },
  {
   "cell_type": "code",
   "execution_count": 30,
   "id": "fe2cb14e",
   "metadata": {
    "colab": {
     "base_uri": "https://localhost:8080/",
     "height": 350
    },
    "id": "fe2cb14e",
    "outputId": "fd88fb18-cd36-4543-9f7e-86bc469d5230"
   },
   "outputs": [
    {
     "data": {
      "image/png": "[encoded data removed]",
      "text/plain": [
       "<Figure size 1000x500 with 1 Axes>"
      ]
     },
     "metadata": {},
     "output_type": "display_data"
    }
   ],
   "source": [
    "data = {'CC':w_CC/1000,\n",
    "        'IFS':w_IFS/1000,\n",
    "        'VLSI':w_VLSI/1000,\n",
    "        'DE1':w_DE1/1000,\n",
    "        'DE2':w_DE2/1000,\n",
    "        'DE3':w_DE3/1000,\n",
    "        'OE1':w_OE1/1000}\n",
    "\n",
    "book = list(data.keys())\n",
    "weight = list(data.values())\n",
    "  \n",
    "fig = plt.figure(figsize = (10, 5))\n",
    " \n",
    "# creating the bar plot\n",
    "plt.bar(book, weight, color ='blue',\n",
    "        width = 0.4)\n",
    " \n",
    "plt.xlabel(\"Subject Material Names\")\n",
    "plt.ylabel(\"Weight (in kg)\")\n",
    "plt.title(\"Subject material names as per their respective weights per piece\")\n",
    "plt.show()"
   ]
  },
  {
   "cell_type": "code",
   "execution_count": 31,
   "id": "8b7ed4c4",
   "metadata": {
    "colab": {
     "base_uri": "https://localhost:8080/"
    },
    "id": "8b7ed4c4",
    "outputId": "b5ef75eb-d489-4781-eb45-9fb33db5cc6e"
   },
   "outputs": [
    {
     "name": "stdout",
     "output_type": "stream",
     "text": [
      "Total weight = 10603724 gms = 10603.724 Kg = 10.603724 Tonnes\n"
     ]
    }
   ],
   "source": [
    "#computing the total weight of papers (in Online mode)\n",
    "\n",
    "w_CC_total = w_CC*no_hc_CC\n",
    "\n",
    "w_IFS_total = w_IFS*no_hc_IFS\n",
    "\n",
    "w_VLSI_total = w_VLSI*no_hc_VLSI\n",
    "\n",
    "w_DE1_total = w_DE1*no_hc_DE1\n",
    "\n",
    "w_DE2_total = w_DE2*no_hc_DE2\n",
    "\n",
    "w_DE3_total = w_DE3*no_hc_DE3\n",
    "\n",
    "w_OE1_total = w_OE1*no_hc_OE1\n",
    "\n",
    "w_total = w_CC_total+w_IFS_total+w_VLSI_total+w_DE1_total+w_DE2_total+w_DE3_total+w_OE1_total\n",
    "\n",
    "print(\"Total weight =\",w_total,\"gms =\",w_total/1000,\"Kg =\",(w_total/1000)/1000,\"Tonnes\")"
   ]
  },
  {
   "cell_type": "code",
   "execution_count": 32,
   "id": "61a857db",
   "metadata": {
    "colab": {
     "base_uri": "https://localhost:8080/",
     "height": 350
    },
    "id": "61a857db",
    "outputId": "a39db49d-dfee-4386-9aac-6f5b79bc2854"
   },
   "outputs": [
    {
     "data": {
      "image/png": "[encoded data removed]",
      "text/plain": [
       "<Figure size 1000x500 with 1 Axes>"
      ]
     },
     "metadata": {},
     "output_type": "display_data"
    }
   ],
   "source": [
    "data = {'CC':w_CC_total/1000,\n",
    "        'IFS':w_IFS_total/1000,\n",
    "        'VLSI':w_VLSI_total/1000,\n",
    "        'DE1':w_DE1_total/1000,\n",
    "        'DE2':w_DE2_total/1000,\n",
    "        'DE3':w_DE3_total/1000,\n",
    "        'OE1':w_OE1_total/1000}\n",
    "\n",
    "book_t = list(data.keys())\n",
    "weight_t = list(data.values())\n",
    "  \n",
    "fig = plt.figure(figsize = (10, 5))\n",
    " \n",
    "# creating the bar plot\n",
    "plt.bar(book_t, weight_t, color ='magenta',\n",
    "        width = 0.4)\n",
    " \n",
    "plt.xlabel(\"Subject Material Names\")\n",
    "plt.ylabel(\"Weight (in kg)\")\n",
    "plt.title(\"Total subject wise weights of all the purchased materials\")\n",
    "plt.show()"
   ]
  },
  {
   "cell_type": "code",
   "execution_count": 33,
   "id": "1b1947b2",
   "metadata": {
    "colab": {
     "base_uri": "https://localhost:8080/"
    },
    "id": "1b1947b2",
    "outputId": "5879bcfa-3841-4928-c688-5b432795bac5"
   },
   "outputs": [
    {
     "name": "stdout",
     "output_type": "stream",
     "text": [
      "total courier charges (Online est.) = 1007353.78 = 1007354 Rupees\n"
     ]
    }
   ],
   "source": [
    "#courier delivery charges (in Rupees) per kg in India (Source: www.DTDC.in)\n",
    "courier_charges = 95\n",
    "\n",
    "total_charge = courier_charges*(w_total/1000)\n",
    "\n",
    "print(\"total courier charges (Online est.) =\",total_charge,\"=\",round(total_charge),\"Rupees\")"
   ]
  },
  {
   "cell_type": "code",
   "execution_count": 34,
   "id": "107b4543",
   "metadata": {
    "colab": {
     "base_uri": "https://localhost:8080/"
    },
    "id": "107b4543",
    "outputId": "38fec8a8-714a-4af6-eddd-057ff42755de"
   },
   "outputs": [
    {
     "name": "stdout",
     "output_type": "stream",
     "text": [
      "Total weight = 19895328 gms = 19895.328 Kg = 19.895328000000003 Tonnes\n"
     ]
    }
   ],
   "source": [
    "#computing the total weight of papers (in conventional Offline mode) assuming pre-Corona times.\n",
    "\n",
    "w_CC_total1 = w_CC*no_hc_CC+w_CC*no_sc_CC\n",
    "\n",
    "w_IFS_total1 = w_IFS*no_hc_IFS+w_IFS*no_sc_IFS\n",
    "\n",
    "w_VLSI_total1 = w_VLSI*no_hc_VLSI+w_VLSI*no_hc_VLSI\n",
    "\n",
    "w_DE1_total1 = w_DE1*no_hc_DE1+w_DE1*no_hc_DE1\n",
    "\n",
    "w_DE2_total1 = w_DE2*no_hc_DE2+w_DE2*no_hc_DE2\n",
    "\n",
    "w_DE3_total1 = w_DE3*no_hc_DE3+w_DE3*no_hc_DE3\n",
    "\n",
    "w_OE1_total1 = w_OE1*no_hc_OE1+w_OE1*no_hc_OE1\n",
    "\n",
    "w_total1 = w_CC_total1+w_IFS_total1+w_VLSI_total1+w_DE1_total1+w_DE2_total1+w_DE3_total1+w_OE1_total1\n",
    "\n",
    "print(\"Total weight =\",w_total1,\"gms =\",w_total1/1000,\"Kg =\",(w_total1/1000)/1000,\"Tonnes\")"
   ]
  },
  {
   "cell_type": "code",
   "execution_count": 35,
   "id": "503302c7",
   "metadata": {
    "colab": {
     "base_uri": "https://localhost:8080/",
     "height": 350
    },
    "id": "503302c7",
    "outputId": "fd5418b0-2712-4f43-f1f1-128282502718"
   },
   "outputs": [
    {
     "data": {
      "image/png": "[encoded data removed]",
      "text/plain": [
       "<Figure size 1000x500 with 1 Axes>"
      ]
     },
     "metadata": {},
     "output_type": "display_data"
    }
   ],
   "source": [
    "data = {'CC':w_CC_total1/1000,\n",
    "        'IFS':w_IFS_total1/1000,\n",
    "        'VLSI':w_VLSI_total1/1000,\n",
    "        'DE1':w_DE1_total1/1000,\n",
    "        'DE2':w_DE2_total1/1000,\n",
    "        'DE3':w_DE3_total1/1000,\n",
    "        'OE1':w_OE1_total1/1000}\n",
    "\n",
    "book_t1 = list(data.keys())\n",
    "weight_t1 = list(data.values())\n",
    "  \n",
    "fig = plt.figure(figsize = (10, 5))\n",
    " \n",
    "# creating the bar plot\n",
    "plt.bar(book_t1, weight_t1, color ='purple',\n",
    "        width = 0.4)\n",
    " \n",
    "plt.xlabel(\"Subject Material Names\")\n",
    "plt.ylabel(\"Weight (in kg)\")\n",
    "plt.title(\"Total subject wise weights (Hardcopies and eBooks combined)\")\n",
    "plt.show()"
   ]
  },
  {
   "cell_type": "code",
   "execution_count": 36,
   "id": "568b11d1",
   "metadata": {
    "colab": {
     "base_uri": "https://localhost:8080/"
    },
    "id": "568b11d1",
    "outputId": "690336c4-657a-4be4-c4f1-145c1cb2715d"
   },
   "outputs": [
    {
     "name": "stdout",
     "output_type": "stream",
     "text": [
      "total courier charges (Offline est.) = 1890056.1600000001 = 1890056 Rupees\n"
     ]
    }
   ],
   "source": [
    "#courier delivery charges (in Rupees) per kg in India (Source: www.DTDC.in)\n",
    "\n",
    "total_charge1 = courier_charges*(w_total1/1000)\n",
    "\n",
    "print(\"total courier charges (Offline est.) =\",total_charge1,\"=\",round(total_charge1),\"Rupees\")"
   ]
  },
  {
   "cell_type": "code",
   "execution_count": 37,
   "id": "eda6a7d2",
   "metadata": {
    "colab": {
     "base_uri": "https://localhost:8080/"
    },
    "id": "eda6a7d2",
    "outputId": "e8f20b9f-9e51-4fec-b8b7-2bfaa0100c81"
   },
   "outputs": [
    {
     "name": "stdout",
     "output_type": "stream",
     "text": [
      "Rs. 882702.3800000001 /-\n"
     ]
    }
   ],
   "source": [
    "#total savings in courier delivery charges\n",
    "print(\"Rs.\",total_charge1-total_charge,\"/-\")"
   ]
  },
  {
   "cell_type": "code",
   "execution_count": 38,
   "id": "d22c847d",
   "metadata": {
    "colab": {
     "base_uri": "https://localhost:8080/"
    },
    "id": "d22c847d",
    "outputId": "fd8bfc3c-9496-4583-a999-427d79510f5e"
   },
   "outputs": [
    {
     "name": "stdout",
     "output_type": "stream",
     "text": [
      "Papers saved: 9.291604 Tonnes\n"
     ]
    }
   ],
   "source": [
    "#total paper savings\n",
    "print(\"Papers saved:\",((w_total1-w_total)/1000)/1000,\"Tonnes\")"
   ]
  },
  {
   "cell_type": "code",
   "execution_count": 39,
   "id": "c60548ef",
   "metadata": {
    "colab": {
     "base_uri": "https://localhost:8080/",
     "height": 248
    },
    "id": "c60548ef",
    "outputId": "6b627d00-8ad7-457d-9aa4-15f701ccfe86"
   },
   "outputs": [
    {
     "data": {
      "image/png": "[encoded data removed]",
      "text/plain": [
       "<Figure size 640x480 with 1 Axes>"
      ]
     },
     "metadata": {},
     "output_type": "display_data"
    }
   ],
   "source": [
    "y = np.array([total_charge1, total_charge])\n",
    "# or y = np.array([w_total1, w_total])\n",
    "mylabels = [\"Pre-Covid\", \"Post-Covid\"]\n",
    "\n",
    "plt.pie(y, labels = mylabels, startangle = 90)\n",
    "plt.show() "
   ]
  },
  {
   "cell_type": "markdown",
   "id": "b5a73005",
   "metadata": {
    "id": "b5a73005"
   },
   "source": [
    "# Scatter plot for subjectwise student data"
   ]
  },
  {
   "cell_type": "code",
   "execution_count": 40,
   "id": "4ee67d7c",
   "metadata": {
    "colab": {
     "base_uri": "https://localhost:8080/",
     "height": 313
    },
    "id": "4ee67d7c",
    "outputId": "90c2357e-9e06-460f-8ef7-b9da4466b39f"
   },
   "outputs": [
    {
     "data": {
      "text/plain": [
       "Text(0, 0.5, '0: eBook, 1: Hardcopy')"
      ]
     },
     "execution_count": 40,
     "metadata": {},
     "output_type": "execute_result"
    },
    {
     "data": {
      "image/png": "[encoded data removed]",
      "text/plain": [
       "<Figure size 640x480 with 1 Axes>"
      ]
     },
     "metadata": {},
     "output_type": "display_data"
    }
   ],
   "source": [
    "plt.scatter(df.sdur_C1, df.pref_C1, marker = '+', color = 'red')\n",
    "plt.title('Cellular Communication')\n",
    "plt.xlabel('Monthly Study Duration (in hours)')\n",
    "plt.ylabel('0: eBook, 1: Hardcopy')"
   ]
  },
  {
   "cell_type": "code",
   "execution_count": 41,
   "id": "19de7b04",
   "metadata": {
    "colab": {
     "base_uri": "https://localhost:8080/",
     "height": 313
    },
    "id": "19de7b04",
    "outputId": "c10fa656-dc79-4120-8818-9f0dec6924fb"
   },
   "outputs": [
    {
     "data": {
      "text/plain": [
       "Text(0, 0.5, '0: eBook, 1: Hardcopy')"
      ]
     },
     "execution_count": 41,
     "metadata": {},
     "output_type": "execute_result"
    },
    {
     "data": {
      "image/png": "[encoded data removed]",
      "text/plain": [
       "<Figure size 640x480 with 1 Axes>"
      ]
     },
     "metadata": {},
     "output_type": "display_data"
    }
   ],
   "source": [
    "plt.scatter(df.sdur_C2, df.pref_C2, marker = '+', color = 'green')\n",
    "plt.title('Inferential Statistics')\n",
    "plt.xlabel('Monthly Study Duration (in hours)')\n",
    "plt.ylabel('0: eBook, 1: Hardcopy')"
   ]
  },
  {
   "cell_type": "code",
   "execution_count": 42,
   "id": "f8f60917",
   "metadata": {
    "colab": {
     "base_uri": "https://localhost:8080/",
     "height": 313
    },
    "id": "f8f60917",
    "outputId": "8a3b11a9-f404-4087-b023-a679ed7d9ddc"
   },
   "outputs": [
    {
     "data": {
      "text/plain": [
       "Text(0, 0.5, '0: eBook, 1: Hardcopy')"
      ]
     },
     "execution_count": 42,
     "metadata": {},
     "output_type": "execute_result"
    },
    {
     "data": {
      "image/png": "[encoded data removed]",
      "text/plain": [
       "<Figure size 640x480 with 1 Axes>"
      ]
     },
     "metadata": {},
     "output_type": "display_data"
    }
   ],
   "source": [
    "plt.scatter(df.sdur_C3, df.pref_C3, marker = '+', color = 'blue')\n",
    "plt.title('VLSI Technology')\n",
    "plt.xlabel('Monthly Study Duration (in hours)')\n",
    "plt.ylabel('0: eBook, 1: Hardcopy')"
   ]
  },
  {
   "cell_type": "code",
   "execution_count": 43,
   "id": "fd8017c3",
   "metadata": {
    "colab": {
     "base_uri": "https://localhost:8080/",
     "height": 313
    },
    "id": "fd8017c3",
    "outputId": "0fc6ef91-98ce-4355-b586-ef57f08e3a18"
   },
   "outputs": [
    {
     "data": {
      "text/plain": [
       "Text(0, 0.5, '0: eBook, 1: Hardcopy')"
      ]
     },
     "execution_count": 43,
     "metadata": {},
     "output_type": "execute_result"
    },
    {
     "data": {
      "image/png": "[encoded data removed]",
      "text/plain": [
       "<Figure size 640x480 with 1 Axes>"
      ]
     },
     "metadata": {},
     "output_type": "display_data"
    }
   ],
   "source": [
    "plt.scatter(df.sdur_DE1, df.pref_DE1, marker = '+', color = 'brown')\n",
    "plt.title('Department Elective 1 (Neural Networks & ML)')\n",
    "plt.xlabel('Monthly Study Duration (in hours)')\n",
    "plt.ylabel('0: eBook, 1: Hardcopy')"
   ]
  },
  {
   "cell_type": "code",
   "execution_count": 44,
   "id": "831a1cd8",
   "metadata": {
    "colab": {
     "base_uri": "https://localhost:8080/",
     "height": 313
    },
    "id": "831a1cd8",
    "outputId": "4f7b51d1-f19a-4272-8ac3-0fc1a0f5d65e"
   },
   "outputs": [
    {
     "data": {
      "text/plain": [
       "Text(0, 0.5, '0: eBook, 1: Hardcopy')"
      ]
     },
     "execution_count": 44,
     "metadata": {},
     "output_type": "execute_result"
    },
    {
     "data": {
      "image/png": "[encoded data removed]",
      "text/plain": [
       "<Figure size 640x480 with 1 Axes>"
      ]
     },
     "metadata": {},
     "output_type": "display_data"
    }
   ],
   "source": [
    "plt.scatter(df.sdur_DE2, df.pref_DE2, marker = '+', color = 'black')\n",
    "plt.title('Department Elective 2 (Image Processing)')\n",
    "plt.xlabel('Monthly Study Duration (in hours)')\n",
    "plt.ylabel('0: eBook, 1: Hardcopy')"
   ]
  },
  {
   "cell_type": "code",
   "execution_count": 45,
   "id": "b4595716",
   "metadata": {
    "colab": {
     "base_uri": "https://localhost:8080/",
     "height": 313
    },
    "id": "b4595716",
    "outputId": "65087539-3c8f-40c8-caba-3ffd67298e4e"
   },
   "outputs": [
    {
     "data": {
      "text/plain": [
       "Text(0, 0.5, '0: eBook, 1: Hardcopy')"
      ]
     },
     "execution_count": 45,
     "metadata": {},
     "output_type": "execute_result"
    },
    {
     "data": {
      "image/png": "[encoded data removed]",
      "text/plain": [
       "<Figure size 640x480 with 1 Axes>"
      ]
     },
     "metadata": {},
     "output_type": "display_data"
    }
   ],
   "source": [
    "plt.scatter(df.sdur_DE3, df.pref_DE3, marker = '+', color = 'magenta')\n",
    "plt.title('Department Elective 3 (Information Theory & Coding)')\n",
    "plt.xlabel('Monthly Study Duration (in hours)')\n",
    "plt.ylabel('0: eBook, 1: Hardcopy')"
   ]
  },
  {
   "cell_type": "code",
   "execution_count": 46,
   "id": "52d07c1e",
   "metadata": {
    "colab": {
     "base_uri": "https://localhost:8080/",
     "height": 313
    },
    "id": "52d07c1e",
    "outputId": "695873f9-9742-4e21-de9d-f3095c82b83c"
   },
   "outputs": [
    {
     "data": {
      "text/plain": [
       "Text(0, 0.5, '0: eBook, 1: Hardcopy')"
      ]
     },
     "execution_count": 46,
     "metadata": {},
     "output_type": "execute_result"
    },
    {
     "data": {
      "image/png": "[encoded data removed]",
      "text/plain": [
       "<Figure size 640x480 with 1 Axes>"
      ]
     },
     "metadata": {},
     "output_type": "display_data"
    }
   ],
   "source": [
    "plt.scatter(df.sdur_OE1, df.pref_OE1, marker = '+', color = 'purple')\n",
    "plt.title('Open Elective 1 (Quantum Computation)')\n",
    "plt.xlabel('Monthly Study Duration (in hours)')\n",
    "plt.ylabel('0: eBook, 1: Hardcopy')"
   ]
  },
  {
   "cell_type": "code",
   "execution_count": 47,
   "id": "a700578d",
   "metadata": {
    "colab": {
     "base_uri": "https://localhost:8080/"
    },
    "id": "a700578d",
    "outputId": "7fb376f9-3f64-4150-bdcf-046231f4f119"
   },
   "outputs": [
    {
     "data": {
      "text/plain": [
       "(2408, 17)"
      ]
     },
     "execution_count": 47,
     "metadata": {},
     "output_type": "execute_result"
    }
   ],
   "source": [
    "df.shape"
   ]
  },
  {
   "cell_type": "markdown",
   "id": "01ed0ea8",
   "metadata": {
    "id": "01ed0ea8"
   },
   "source": [
    "# Applying machine learning algorithm to the data"
   ]
  },
  {
   "cell_type": "code",
   "execution_count": 48,
   "id": "620f10c4",
   "metadata": {
    "colab": {
     "base_uri": "https://localhost:8080/"
    },
    "id": "620f10c4",
    "outputId": "2e8ba002-1bda-4dd2-ce74-93cc33f251e4"
   },
   "outputs": [],
   "source": [
    "#!pip install sklearn"
   ]
  },
  {
   "cell_type": "code",
   "execution_count": 49,
   "id": "pATHRm_Es_Ra",
   "metadata": {
    "id": "pATHRm_Es_Ra"
   },
   "outputs": [],
   "source": [
    "from sklearn.model_selection import train_test_split"
   ]
  },
  {
   "cell_type": "code",
   "execution_count": 50,
   "id": "84764c39",
   "metadata": {
    "id": "84764c39"
   },
   "outputs": [],
   "source": [
    "#splitting the dataset into train and test for Cellular Communication\n",
    "X1_train, X1_test, y1_train, y1_test = train_test_split(df[['sdur_C1']], df.pref_C1, test_size = 0.2)"
   ]
  },
  {
   "cell_type": "code",
   "execution_count": 51,
   "id": "ed337d17",
   "metadata": {
    "id": "ed337d17"
   },
   "outputs": [],
   "source": [
    "from sklearn.linear_model import LogisticRegression"
   ]
  },
  {
   "cell_type": "code",
   "execution_count": 52,
   "id": "2dae0d13",
   "metadata": {
    "id": "2dae0d13"
   },
   "outputs": [],
   "source": [
    "model1 = LogisticRegression()"
   ]
  },
  {
   "cell_type": "code",
   "execution_count": 53,
   "id": "252a18a1",
   "metadata": {
    "colab": {
     "base_uri": "https://localhost:8080/"
    },
    "id": "252a18a1",
    "outputId": "05a52bb1-d463-4bd1-9603-7ece387d4ad6"
   },
   "outputs": [
    {
     "data": {
      "text/plain": [
       "LogisticRegression()"
      ]
     },
     "execution_count": 53,
     "metadata": {},
     "output_type": "execute_result"
    }
   ],
   "source": [
    "#training our ML model\n",
    "model1.fit(X1_train, y1_train)"
   ]
  },
  {
   "cell_type": "code",
   "execution_count": 54,
   "id": "833fcdb5",
   "metadata": {
    "colab": {
     "base_uri": "https://localhost:8080/"
    },
    "id": "833fcdb5",
    "outputId": "d79df27a-3207-4662-dd9f-e4ecb348b400"
   },
   "outputs": [
    {
     "data": {
      "text/plain": [
       "array([1, 1, 1, 1, 1, 0, 0, 1, 1, 0, 0, 0, 0, 0, 1, 0, 1, 0, 1, 0, 1, 0,\n",
       "       1, 0, 1, 1, 1, 0, 1, 0, 1, 1, 0, 0, 0, 0, 0, 1, 1, 1, 1, 1, 1, 1,\n",
       "       1, 1, 0, 1, 1, 0, 1, 0, 1, 0, 1, 1, 1, 1, 0, 1, 0, 0, 0, 0, 0, 1,\n",
       "       1, 1, 0, 1, 1, 1, 1, 1, 1, 0, 1, 1, 0, 0, 0, 0, 0, 0, 0, 0, 1, 0,\n",
       "       1, 0, 1, 1, 1, 0, 0, 1, 0, 0, 0, 0, 1, 1, 1, 1, 1, 1, 0, 1, 1, 0,\n",
       "       0, 1, 1, 1, 0, 1, 1, 0, 1, 1, 0, 1, 1, 0, 0, 0, 1, 0, 1, 0, 1, 0,\n",
       "       0, 1, 1, 0, 1, 1, 0, 1, 1, 1, 1, 1, 1, 1, 1, 0, 0, 0, 1, 1, 1, 1,\n",
       "       1, 1, 1, 1, 0, 0, 0, 0, 1, 1, 0, 0, 1, 1, 1, 0, 1, 1, 1, 0, 1, 1,\n",
       "       1, 1, 1, 0, 1, 0, 1, 0, 1, 0, 1, 1, 0, 0, 0, 1, 1, 0, 0, 1, 0, 1,\n",
       "       1, 1, 1, 1, 0, 0, 0, 0, 0, 1, 0, 1, 0, 1, 0, 0, 0, 0, 1, 0, 0, 1,\n",
       "       0, 1, 0, 0, 0, 0, 1, 1, 0, 1, 1, 1, 0, 1, 0, 1, 1, 1, 1, 1, 0, 1,\n",
       "       1, 1, 1, 1, 1, 1, 1, 1, 0, 0, 1, 1, 1, 1, 0, 1, 1, 1, 0, 0, 0, 0,\n",
       "       0, 1, 0, 1, 1, 1, 0, 1, 0, 1, 1, 1, 0, 0, 0, 0, 0, 0, 0, 1, 1, 0,\n",
       "       0, 0, 0, 1, 1, 0, 1, 0, 0, 1, 0, 0, 0, 1, 1, 1, 1, 1, 0, 0, 0, 0,\n",
       "       0, 0, 1, 0, 0, 1, 1, 1, 0, 1, 0, 1, 1, 0, 0, 1, 1, 0, 1, 1, 1, 0,\n",
       "       0, 0, 1, 1, 0, 1, 0, 0, 1, 1, 1, 1, 0, 0, 0, 1, 1, 1, 0, 0, 0, 1,\n",
       "       0, 0, 0, 0, 1, 0, 1, 1, 0, 1, 0, 0, 1, 1, 0, 0, 0, 1, 0, 1, 1, 0,\n",
       "       1, 1, 1, 1, 0, 1, 1, 0, 1, 1, 1, 1, 1, 0, 1, 1, 1, 0, 1, 1, 0, 0,\n",
       "       0, 1, 1, 1, 1, 1, 0, 1, 1, 1, 1, 0, 0, 1, 1, 1, 1, 1, 1, 0, 1, 0,\n",
       "       1, 0, 1, 1, 1, 0, 0, 1, 1, 0, 0, 0, 1, 1, 0, 1, 0, 0, 0, 1, 0, 1,\n",
       "       1, 0, 0, 1, 0, 0, 0, 1, 0, 0, 0, 1, 1, 1, 1, 0, 0, 0, 1, 0, 1, 0,\n",
       "       1, 1, 0, 1, 1, 1, 0, 1, 1, 0, 0, 1, 1, 1, 1, 1, 0, 0, 0, 0],\n",
       "      dtype=int64)"
      ]
     },
     "execution_count": 54,
     "metadata": {},
     "output_type": "execute_result"
    }
   ],
   "source": [
    "model1.predict(X1_test)"
   ]
  },
  {
   "cell_type": "code",
   "execution_count": 55,
   "id": "d836c366",
   "metadata": {
    "colab": {
     "base_uri": "https://localhost:8080/"
    },
    "id": "d836c366",
    "outputId": "a40d6957-bd8c-4191-fc6c-540302e9c8de"
   },
   "outputs": [
    {
     "name": "stdout",
     "output_type": "stream",
     "text": [
      "Score for Cellular Communication: 92.11618257261411 %\n"
     ]
    }
   ],
   "source": [
    "print(\"Score for Cellular Communication:\", model1.score(X1_test, y1_test)*100,\"%\")"
   ]
  },
  {
   "cell_type": "code",
   "execution_count": 56,
   "id": "b0e9e706",
   "metadata": {
    "id": "b0e9e706"
   },
   "outputs": [],
   "source": [
    "#splitting the dataset into train and test for Inferential Statistics\n",
    "X2_train, X2_test, y2_train, y2_test = train_test_split(df[['sdur_C2']], df.pref_C2, test_size = 0.2)"
   ]
  },
  {
   "cell_type": "code",
   "execution_count": 57,
   "id": "a53f6607",
   "metadata": {
    "id": "a53f6607"
   },
   "outputs": [],
   "source": [
    "model2 = LogisticRegression()"
   ]
  },
  {
   "cell_type": "code",
   "execution_count": 58,
   "id": "45adf7c8",
   "metadata": {
    "colab": {
     "base_uri": "https://localhost:8080/"
    },
    "id": "45adf7c8",
    "outputId": "34576442-f114-4f53-b97d-de4390d613c0"
   },
   "outputs": [
    {
     "data": {
      "text/plain": [
       "LogisticRegression()"
      ]
     },
     "execution_count": 58,
     "metadata": {},
     "output_type": "execute_result"
    }
   ],
   "source": [
    "#training our ML model\n",
    "model2.fit(X2_train, y2_train)"
   ]
  },
  {
   "cell_type": "code",
   "execution_count": 59,
   "id": "de8dc8a9",
   "metadata": {
    "colab": {
     "base_uri": "https://localhost:8080/"
    },
    "id": "de8dc8a9",
    "outputId": "868fe28e-49b9-46f2-9675-09f365d14d82"
   },
   "outputs": [
    {
     "data": {
      "text/plain": [
       "array([1, 1, 1, 0, 0, 0, 0, 0, 1, 1, 1, 1, 1, 1, 1, 1, 0, 1, 1, 0, 1, 1,\n",
       "       0, 0, 0, 1, 1, 1, 0, 1, 1, 1, 0, 1, 0, 0, 1, 1, 1, 1, 0, 1, 0, 1,\n",
       "       0, 1, 0, 0, 0, 0, 0, 0, 0, 0, 1, 1, 0, 1, 0, 0, 1, 0, 1, 0, 0, 1,\n",
       "       0, 1, 1, 1, 1, 0, 1, 0, 0, 1, 0, 1, 1, 0, 1, 0, 1, 1, 0, 0, 1, 1,\n",
       "       1, 1, 1, 1, 1, 0, 1, 1, 1, 0, 0, 1, 1, 1, 0, 0, 1, 1, 1, 0, 1, 1,\n",
       "       0, 0, 1, 0, 1, 1, 0, 0, 0, 0, 0, 1, 0, 1, 1, 1, 0, 0, 0, 1, 1, 1,\n",
       "       1, 0, 1, 1, 1, 0, 0, 1, 0, 1, 1, 0, 0, 1, 1, 1, 1, 1, 1, 1, 0, 0,\n",
       "       1, 0, 0, 1, 1, 0, 1, 1, 1, 0, 1, 1, 0, 1, 1, 1, 0, 0, 0, 0, 0, 0,\n",
       "       1, 1, 0, 1, 0, 0, 1, 0, 1, 0, 0, 0, 1, 1, 0, 1, 1, 1, 1, 1, 0, 1,\n",
       "       0, 1, 0, 0, 0, 1, 1, 0, 1, 1, 1, 1, 1, 1, 0, 0, 0, 1, 0, 1, 1, 0,\n",
       "       0, 0, 1, 0, 0, 0, 1, 1, 1, 1, 1, 1, 1, 0, 1, 1, 0, 0, 0, 0, 1, 0,\n",
       "       0, 0, 0, 0, 0, 0, 1, 1, 1, 1, 1, 0, 0, 0, 1, 1, 1, 0, 0, 1, 1, 0,\n",
       "       0, 1, 1, 1, 0, 0, 1, 0, 1, 1, 0, 0, 1, 1, 0, 1, 1, 0, 0, 1, 1, 1,\n",
       "       1, 0, 1, 1, 1, 1, 0, 1, 0, 0, 0, 1, 1, 0, 0, 1, 1, 1, 0, 0, 0, 1,\n",
       "       1, 1, 1, 0, 1, 0, 0, 1, 1, 0, 0, 0, 0, 1, 0, 1, 1, 0, 0, 0, 1, 1,\n",
       "       1, 0, 0, 1, 0, 1, 0, 0, 0, 0, 1, 0, 0, 1, 0, 1, 0, 0, 1, 0, 1, 1,\n",
       "       0, 1, 1, 1, 1, 1, 0, 1, 1, 1, 1, 0, 0, 0, 0, 1, 0, 0, 0, 1, 0, 1,\n",
       "       1, 0, 1, 0, 0, 0, 0, 1, 0, 0, 1, 1, 1, 0, 1, 1, 0, 1, 0, 1, 0, 1,\n",
       "       1, 0, 0, 1, 1, 1, 1, 1, 0, 0, 1, 0, 1, 0, 1, 0, 0, 0, 0, 1, 0, 0,\n",
       "       0, 1, 1, 1, 1, 1, 0, 1, 1, 1, 0, 0, 1, 1, 0, 1, 0, 1, 1, 1, 1, 0,\n",
       "       1, 1, 1, 0, 0, 1, 1, 1, 1, 1, 1, 1, 0, 1, 0, 0, 1, 1, 0, 1, 0, 0,\n",
       "       1, 1, 1, 0, 0, 0, 1, 1, 1, 0, 0, 0, 0, 1, 1, 1, 1, 1, 1, 1],\n",
       "      dtype=int64)"
      ]
     },
     "execution_count": 59,
     "metadata": {},
     "output_type": "execute_result"
    }
   ],
   "source": [
    "model2.predict(X2_test)"
   ]
  },
  {
   "cell_type": "code",
   "execution_count": 60,
   "id": "c5f7b44e",
   "metadata": {
    "colab": {
     "base_uri": "https://localhost:8080/"
    },
    "id": "c5f7b44e",
    "outputId": "82c33572-d2bf-486a-e24e-e4398bfd6925"
   },
   "outputs": [
    {
     "name": "stdout",
     "output_type": "stream",
     "text": [
      "Score for Inferential Statistics: 93.15352697095436 %\n"
     ]
    }
   ],
   "source": [
    "print(\"Score for Inferential Statistics:\", model2.score(X2_test, y2_test)*100,\"%\")"
   ]
  },
  {
   "cell_type": "code",
   "execution_count": 61,
   "id": "49c1e508",
   "metadata": {
    "id": "49c1e508"
   },
   "outputs": [],
   "source": [
    "#splitting the dataset into train and test for VLSI\n",
    "X3_train, X3_test, y3_train, y3_test = train_test_split(df[['sdur_C3']], df.pref_C3, test_size = 0.2)"
   ]
  },
  {
   "cell_type": "code",
   "execution_count": 62,
   "id": "038ba5ee",
   "metadata": {
    "id": "038ba5ee"
   },
   "outputs": [],
   "source": [
    "model3 = LogisticRegression()"
   ]
  },
  {
   "cell_type": "code",
   "execution_count": 63,
   "id": "b2ce1113",
   "metadata": {
    "colab": {
     "base_uri": "https://localhost:8080/"
    },
    "id": "b2ce1113",
    "outputId": "a0afa43c-59b0-43ae-bcfe-5d52a46df7ea"
   },
   "outputs": [
    {
     "data": {
      "text/plain": [
       "LogisticRegression()"
      ]
     },
     "execution_count": 63,
     "metadata": {},
     "output_type": "execute_result"
    }
   ],
   "source": [
    "#training our ML model\n",
    "model3.fit(X3_train, y3_train)"
   ]
  },
  {
   "cell_type": "code",
   "execution_count": 64,
   "id": "a4e089b8",
   "metadata": {
    "colab": {
     "base_uri": "https://localhost:8080/"
    },
    "id": "a4e089b8",
    "outputId": "17e5738d-426e-45a7-f44f-cba7997a1b6f"
   },
   "outputs": [
    {
     "data": {
      "text/plain": [
       "array([0, 1, 0, 0, 1, 1, 1, 1, 1, 1, 1, 0, 1, 1, 0, 0, 0, 0, 1, 1, 1, 1,\n",
       "       0, 0, 1, 0, 0, 1, 1, 1, 1, 0, 0, 1, 0, 1, 0, 0, 1, 0, 0, 0, 1, 0,\n",
       "       1, 1, 1, 0, 1, 1, 0, 1, 1, 0, 0, 1, 1, 1, 0, 0, 1, 0, 0, 1, 1, 0,\n",
       "       1, 0, 1, 1, 0, 1, 1, 0, 0, 1, 0, 0, 1, 0, 0, 1, 1, 0, 1, 0, 0, 1,\n",
       "       0, 1, 1, 1, 0, 0, 1, 1, 1, 0, 1, 1, 1, 0, 1, 1, 0, 1, 1, 0, 0, 1,\n",
       "       1, 1, 1, 1, 0, 1, 1, 1, 1, 0, 1, 0, 0, 1, 1, 1, 0, 1, 1, 1, 0, 0,\n",
       "       1, 0, 0, 0, 0, 0, 1, 0, 1, 1, 1, 0, 1, 0, 0, 0, 0, 1, 1, 0, 0, 0,\n",
       "       1, 0, 1, 1, 0, 1, 0, 0, 0, 1, 1, 0, 0, 1, 1, 0, 0, 0, 1, 0, 1, 1,\n",
       "       1, 0, 1, 0, 0, 0, 0, 0, 0, 1, 0, 0, 0, 0, 0, 0, 0, 0, 1, 0, 1, 1,\n",
       "       0, 1, 1, 1, 0, 0, 1, 1, 1, 0, 0, 0, 0, 0, 1, 1, 1, 0, 0, 0, 0, 0,\n",
       "       0, 0, 0, 1, 0, 1, 0, 1, 0, 0, 1, 1, 0, 1, 1, 1, 1, 1, 0, 0, 0, 1,\n",
       "       1, 1, 1, 0, 0, 1, 1, 0, 1, 0, 1, 0, 0, 0, 1, 0, 0, 1, 1, 0, 0, 0,\n",
       "       1, 0, 1, 0, 1, 1, 1, 1, 1, 0, 1, 1, 0, 0, 0, 0, 1, 0, 1, 1, 1, 0,\n",
       "       1, 0, 1, 1, 0, 0, 0, 1, 1, 0, 1, 1, 1, 1, 1, 0, 0, 1, 1, 1, 0, 1,\n",
       "       0, 0, 1, 0, 0, 0, 1, 0, 0, 1, 1, 0, 0, 1, 1, 1, 1, 0, 0, 0, 0, 0,\n",
       "       0, 0, 0, 1, 1, 1, 0, 1, 1, 0, 1, 1, 0, 1, 1, 0, 1, 0, 1, 1, 0, 1,\n",
       "       1, 1, 1, 1, 1, 0, 1, 1, 1, 1, 0, 0, 1, 0, 1, 1, 1, 1, 1, 1, 0, 1,\n",
       "       0, 0, 1, 0, 1, 1, 1, 1, 1, 0, 0, 1, 1, 0, 1, 1, 1, 0, 1, 1, 1, 1,\n",
       "       1, 0, 1, 1, 1, 0, 0, 1, 1, 1, 1, 1, 1, 1, 0, 1, 0, 1, 0, 1, 1, 1,\n",
       "       0, 1, 0, 1, 1, 0, 1, 1, 0, 0, 1, 1, 1, 0, 1, 1, 1, 0, 0, 1, 0, 1,\n",
       "       1, 0, 0, 1, 1, 0, 1, 1, 0, 0, 0, 1, 1, 1, 1, 1, 1, 1, 0, 1, 0, 0,\n",
       "       0, 1, 0, 0, 0, 0, 1, 1, 1, 1, 1, 1, 1, 1, 1, 1, 0, 0, 1, 1],\n",
       "      dtype=int64)"
      ]
     },
     "execution_count": 64,
     "metadata": {},
     "output_type": "execute_result"
    }
   ],
   "source": [
    "model3.predict(X3_test)"
   ]
  },
  {
   "cell_type": "code",
   "execution_count": 65,
   "id": "05f62a63",
   "metadata": {
    "colab": {
     "base_uri": "https://localhost:8080/"
    },
    "id": "05f62a63",
    "outputId": "45de8cc9-4964-4a21-abf7-f80b05bd4d4b"
   },
   "outputs": [
    {
     "name": "stdout",
     "output_type": "stream",
     "text": [
      "Score for VLSI: 95.22821576763485 %\n"
     ]
    }
   ],
   "source": [
    "print(\"Score for VLSI:\", model3.score(X3_test, y3_test)*100,\"%\")"
   ]
  },
  {
   "cell_type": "code",
   "execution_count": 66,
   "id": "2b6ccaff",
   "metadata": {
    "id": "2b6ccaff"
   },
   "outputs": [],
   "source": [
    "#splitting the dataset into train and test for DE1\n",
    "X4_train, X4_test, y4_train, y4_test = train_test_split(df[['sdur_DE1']], df.pref_DE1, test_size = 0.2)"
   ]
  },
  {
   "cell_type": "code",
   "execution_count": 67,
   "id": "05519a44",
   "metadata": {
    "id": "05519a44"
   },
   "outputs": [],
   "source": [
    "model4 = LogisticRegression()"
   ]
  },
  {
   "cell_type": "code",
   "execution_count": 68,
   "id": "ca0ae706",
   "metadata": {
    "colab": {
     "base_uri": "https://localhost:8080/"
    },
    "id": "ca0ae706",
    "outputId": "2d5f41f6-b169-4787-b8c9-321f40318744"
   },
   "outputs": [
    {
     "data": {
      "text/plain": [
       "LogisticRegression()"
      ]
     },
     "execution_count": 68,
     "metadata": {},
     "output_type": "execute_result"
    }
   ],
   "source": [
    "#training our ML model\n",
    "model4.fit(X4_train, y4_train)"
   ]
  },
  {
   "cell_type": "code",
   "execution_count": 69,
   "id": "94bb7819",
   "metadata": {
    "colab": {
     "base_uri": "https://localhost:8080/"
    },
    "id": "94bb7819",
    "outputId": "f6149567-8550-4d73-8c13-e9034bb3c965"
   },
   "outputs": [
    {
     "data": {
      "text/plain": [
       "array([0, 1, 0, 1, 0, 1, 0, 1, 0, 0, 0, 1, 0, 1, 0, 0, 0, 1, 0, 0, 1, 0,\n",
       "       1, 0, 1, 0, 1, 1, 1, 0, 0, 1, 1, 1, 0, 0, 1, 1, 0, 0, 1, 0, 1, 0,\n",
       "       1, 0, 1, 1, 1, 0, 1, 0, 0, 1, 0, 1, 0, 1, 1, 1, 1, 1, 1, 1, 0, 0,\n",
       "       0, 1, 0, 0, 1, 1, 0, 1, 1, 0, 0, 0, 1, 1, 0, 1, 1, 0, 1, 0, 1, 1,\n",
       "       1, 1, 1, 0, 0, 0, 0, 1, 0, 0, 0, 1, 1, 1, 1, 0, 1, 1, 1, 1, 0, 0,\n",
       "       1, 1, 0, 0, 0, 1, 0, 0, 0, 0, 1, 0, 1, 1, 1, 0, 0, 1, 0, 1, 0, 1,\n",
       "       0, 1, 0, 0, 1, 0, 1, 1, 0, 1, 1, 1, 0, 1, 1, 1, 1, 0, 1, 0, 1, 0,\n",
       "       0, 1, 1, 1, 1, 1, 0, 0, 0, 1, 1, 1, 0, 0, 0, 1, 1, 0, 0, 0, 0, 1,\n",
       "       1, 0, 1, 0, 1, 1, 0, 0, 0, 0, 0, 1, 0, 1, 1, 1, 0, 1, 1, 0, 0, 0,\n",
       "       1, 1, 1, 1, 1, 0, 0, 0, 1, 1, 1, 0, 0, 1, 0, 0, 1, 0, 1, 0, 1, 0,\n",
       "       0, 1, 1, 1, 0, 1, 1, 0, 0, 1, 1, 1, 0, 1, 1, 1, 0, 0, 1, 1, 1, 0,\n",
       "       1, 1, 1, 0, 1, 0, 0, 0, 1, 0, 1, 0, 1, 1, 0, 0, 1, 1, 0, 0, 1, 1,\n",
       "       1, 1, 0, 0, 1, 1, 1, 1, 1, 0, 0, 0, 1, 1, 1, 1, 0, 1, 1, 1, 1, 1,\n",
       "       1, 0, 1, 0, 1, 0, 1, 0, 1, 1, 0, 1, 0, 0, 1, 1, 0, 1, 0, 0, 1, 0,\n",
       "       0, 1, 1, 1, 0, 0, 1, 1, 0, 1, 1, 1, 0, 1, 0, 1, 1, 0, 1, 1, 1, 1,\n",
       "       1, 1, 0, 1, 1, 1, 0, 1, 0, 1, 0, 1, 1, 1, 1, 0, 1, 1, 1, 1, 1, 0,\n",
       "       0, 0, 1, 1, 1, 0, 1, 1, 1, 1, 1, 0, 0, 0, 1, 1, 0, 1, 1, 0, 0, 1,\n",
       "       0, 0, 0, 1, 0, 1, 0, 0, 1, 1, 1, 0, 1, 1, 0, 0, 0, 0, 0, 1, 0, 0,\n",
       "       0, 0, 1, 1, 0, 0, 1, 1, 1, 1, 1, 0, 1, 1, 1, 0, 1, 0, 1, 1, 1, 1,\n",
       "       1, 0, 1, 1, 0, 0, 0, 1, 1, 1, 1, 1, 0, 1, 0, 0, 0, 1, 0, 1, 1, 0,\n",
       "       0, 1, 1, 1, 0, 0, 1, 1, 0, 0, 0, 1, 1, 0, 0, 1, 1, 0, 0, 1, 0, 1,\n",
       "       0, 1, 0, 0, 1, 1, 0, 1, 0, 0, 1, 0, 1, 1, 1, 1, 1, 0, 0, 1],\n",
       "      dtype=int64)"
      ]
     },
     "execution_count": 69,
     "metadata": {},
     "output_type": "execute_result"
    }
   ],
   "source": [
    "model4.predict(X4_test)"
   ]
  },
  {
   "cell_type": "code",
   "execution_count": 70,
   "id": "c19c1b2a",
   "metadata": {
    "colab": {
     "base_uri": "https://localhost:8080/"
    },
    "id": "c19c1b2a",
    "outputId": "90f0b084-d7d2-4279-bf4d-ef43db431ce9"
   },
   "outputs": [
    {
     "name": "stdout",
     "output_type": "stream",
     "text": [
      "Score for DE1: 93.3609958506224 %\n"
     ]
    }
   ],
   "source": [
    "print(\"Score for DE1:\", model4.score(X4_test, y4_test)*100,\"%\")"
   ]
  },
  {
   "cell_type": "code",
   "execution_count": 71,
   "id": "88668647",
   "metadata": {
    "id": "88668647"
   },
   "outputs": [],
   "source": [
    "#splitting the dataset into train and test for DE2\n",
    "X5_train, X5_test, y5_train, y5_test = train_test_split(df[['sdur_DE2']], df.pref_DE2, test_size = 0.2)"
   ]
  },
  {
   "cell_type": "code",
   "execution_count": 72,
   "id": "0763f04f",
   "metadata": {
    "id": "0763f04f"
   },
   "outputs": [],
   "source": [
    "model5 = LogisticRegression()"
   ]
  },
  {
   "cell_type": "code",
   "execution_count": 73,
   "id": "e982af45",
   "metadata": {
    "colab": {
     "base_uri": "https://localhost:8080/"
    },
    "id": "e982af45",
    "outputId": "ed5cdb93-48fd-4d0d-e3a7-84a4e723efe9"
   },
   "outputs": [
    {
     "data": {
      "text/plain": [
       "LogisticRegression()"
      ]
     },
     "execution_count": 73,
     "metadata": {},
     "output_type": "execute_result"
    }
   ],
   "source": [
    "#training our ML model\n",
    "model5.fit(X5_train, y5_train)"
   ]
  },
  {
   "cell_type": "code",
   "execution_count": 74,
   "id": "1c7e56d0",
   "metadata": {
    "colab": {
     "base_uri": "https://localhost:8080/"
    },
    "id": "1c7e56d0",
    "outputId": "7421955a-67f6-4240-8dd6-2e3ed8ccad5a"
   },
   "outputs": [
    {
     "data": {
      "text/plain": [
       "array([1, 1, 0, 0, 1, 1, 0, 0, 0, 0, 0, 1, 0, 1, 1, 1, 0, 1, 1, 1, 1, 0,\n",
       "       1, 1, 1, 1, 0, 1, 0, 1, 1, 1, 0, 0, 1, 0, 1, 1, 1, 0, 1, 0, 1, 0,\n",
       "       1, 1, 1, 1, 1, 0, 0, 1, 1, 0, 0, 1, 1, 1, 1, 0, 1, 1, 0, 0, 0, 0,\n",
       "       1, 0, 1, 1, 1, 0, 1, 1, 1, 0, 0, 0, 0, 1, 1, 0, 0, 1, 1, 0, 0, 0,\n",
       "       0, 1, 1, 0, 0, 1, 1, 0, 0, 0, 1, 0, 1, 0, 0, 1, 1, 1, 1, 0, 1, 1,\n",
       "       0, 1, 0, 1, 0, 0, 1, 0, 1, 0, 1, 1, 0, 0, 1, 0, 1, 0, 0, 1, 1, 1,\n",
       "       0, 1, 1, 1, 1, 1, 1, 0, 1, 0, 0, 1, 1, 1, 0, 1, 1, 0, 0, 1, 1, 1,\n",
       "       1, 0, 1, 0, 1, 1, 1, 0, 1, 1, 1, 1, 1, 1, 1, 1, 1, 1, 1, 1, 0, 1,\n",
       "       0, 0, 0, 1, 0, 1, 1, 0, 1, 0, 1, 0, 0, 1, 1, 1, 0, 0, 1, 1, 1, 0,\n",
       "       0, 0, 0, 0, 1, 0, 0, 1, 1, 1, 0, 0, 1, 1, 1, 0, 0, 0, 1, 1, 0, 1,\n",
       "       0, 1, 1, 1, 1, 1, 1, 1, 0, 1, 0, 1, 1, 1, 1, 1, 1, 0, 1, 1, 0, 0,\n",
       "       0, 0, 0, 0, 0, 0, 1, 1, 0, 1, 1, 1, 1, 0, 0, 0, 1, 1, 0, 0, 1, 0,\n",
       "       1, 1, 1, 1, 1, 0, 0, 1, 1, 0, 0, 1, 0, 1, 0, 0, 1, 1, 0, 0, 0, 1,\n",
       "       0, 0, 0, 1, 1, 1, 1, 0, 1, 1, 1, 1, 1, 0, 1, 1, 0, 1, 1, 1, 0, 1,\n",
       "       0, 1, 0, 1, 1, 1, 0, 1, 0, 1, 1, 1, 0, 0, 1, 0, 1, 0, 1, 0, 1, 0,\n",
       "       1, 1, 0, 1, 0, 1, 0, 0, 1, 1, 1, 1, 1, 1, 1, 0, 1, 1, 0, 1, 0, 0,\n",
       "       1, 1, 1, 1, 1, 1, 1, 1, 0, 0, 1, 1, 1, 1, 1, 0, 1, 1, 0, 0, 1, 1,\n",
       "       1, 0, 0, 0, 1, 1, 0, 0, 1, 1, 0, 1, 1, 1, 0, 0, 1, 0, 1, 1, 1, 0,\n",
       "       1, 0, 0, 0, 1, 1, 1, 0, 1, 1, 0, 1, 1, 0, 1, 1, 0, 0, 0, 1, 0, 1,\n",
       "       0, 0, 0, 1, 1, 0, 0, 0, 1, 1, 1, 1, 1, 0, 1, 1, 0, 1, 1, 0, 1, 1,\n",
       "       0, 0, 1, 0, 1, 1, 1, 0, 0, 0, 1, 1, 1, 1, 1, 0, 1, 1, 0, 1, 1, 1,\n",
       "       1, 1, 0, 0, 1, 0, 0, 0, 1, 0, 1, 1, 0, 1, 1, 0, 1, 0, 1, 1],\n",
       "      dtype=int64)"
      ]
     },
     "execution_count": 74,
     "metadata": {},
     "output_type": "execute_result"
    }
   ],
   "source": [
    "model4.predict(X5_test)"
   ]
  },
  {
   "cell_type": "code",
   "execution_count": 75,
   "id": "517915d6",
   "metadata": {
    "colab": {
     "base_uri": "https://localhost:8080/"
    },
    "id": "517915d6",
    "outputId": "6e23c2df-d633-44f5-da7f-8bf427692057"
   },
   "outputs": [
    {
     "name": "stdout",
     "output_type": "stream",
     "text": [
      "Score for DE2: 92.32365145228216 %\n"
     ]
    }
   ],
   "source": [
    "print(\"Score for DE2:\", model5.score(X5_test, y5_test)*100,\"%\")"
   ]
  },
  {
   "cell_type": "code",
   "execution_count": 76,
   "id": "e383ed74",
   "metadata": {
    "id": "e383ed74"
   },
   "outputs": [],
   "source": [
    "#splitting the dataset into train and test for DE3\n",
    "X6_train, X6_test, y6_train, y6_test = train_test_split(df[['sdur_DE3']], df.pref_DE3, test_size = 0.2)"
   ]
  },
  {
   "cell_type": "code",
   "execution_count": 77,
   "id": "8dbe1d14",
   "metadata": {
    "id": "8dbe1d14"
   },
   "outputs": [],
   "source": [
    "model6 = LogisticRegression()"
   ]
  },
  {
   "cell_type": "code",
   "execution_count": 78,
   "id": "88ec7c87",
   "metadata": {
    "colab": {
     "base_uri": "https://localhost:8080/"
    },
    "id": "88ec7c87",
    "outputId": "a333389e-8973-444f-b49c-26dcb94ba41a"
   },
   "outputs": [
    {
     "data": {
      "text/plain": [
       "LogisticRegression()"
      ]
     },
     "execution_count": 78,
     "metadata": {},
     "output_type": "execute_result"
    }
   ],
   "source": [
    "#training our ML model\n",
    "model6.fit(X6_train, y6_train)"
   ]
  },
  {
   "cell_type": "code",
   "execution_count": 79,
   "id": "54872995",
   "metadata": {
    "colab": {
     "base_uri": "https://localhost:8080/"
    },
    "id": "54872995",
    "outputId": "d8204f07-6c32-48f5-dc7a-c67217e60fe7"
   },
   "outputs": [
    {
     "data": {
      "text/plain": [
       "array([0, 1, 1, 1, 0, 0, 1, 1, 0, 0, 1, 1, 0, 1, 1, 1, 0, 0, 1, 0, 1, 1,\n",
       "       1, 1, 0, 0, 1, 0, 0, 1, 0, 1, 0, 1, 0, 1, 0, 0, 1, 0, 0, 1, 1, 0,\n",
       "       1, 1, 1, 0, 0, 1, 1, 0, 1, 1, 1, 1, 1, 1, 1, 0, 0, 0, 0, 1, 1, 1,\n",
       "       1, 0, 0, 1, 1, 0, 0, 1, 1, 1, 0, 1, 0, 1, 1, 1, 1, 1, 0, 1, 1, 1,\n",
       "       0, 0, 0, 1, 1, 0, 0, 0, 0, 1, 0, 1, 1, 1, 1, 1, 0, 1, 0, 0, 0, 1,\n",
       "       0, 1, 1, 0, 0, 1, 1, 1, 1, 0, 1, 1, 0, 0, 0, 1, 1, 1, 1, 1, 1, 1,\n",
       "       0, 1, 1, 1, 0, 1, 1, 0, 0, 1, 1, 1, 1, 1, 0, 1, 0, 1, 1, 0, 1, 0,\n",
       "       0, 1, 0, 1, 1, 1, 0, 0, 0, 1, 1, 0, 0, 1, 0, 1, 1, 1, 0, 0, 1, 0,\n",
       "       0, 1, 1, 1, 0, 1, 1, 0, 1, 1, 1, 1, 0, 1, 1, 1, 0, 1, 1, 0, 1, 1,\n",
       "       0, 1, 1, 0, 1, 1, 1, 1, 0, 1, 1, 1, 1, 0, 0, 0, 1, 1, 1, 1, 0, 1,\n",
       "       1, 0, 1, 1, 0, 1, 0, 1, 1, 0, 0, 1, 0, 0, 1, 1, 1, 1, 0, 0, 0, 0,\n",
       "       0, 1, 1, 0, 1, 1, 0, 1, 0, 0, 1, 1, 1, 0, 0, 0, 0, 1, 1, 0, 1, 1,\n",
       "       0, 1, 1, 0, 1, 1, 0, 1, 0, 1, 0, 1, 1, 0, 0, 0, 1, 1, 1, 1, 1, 1,\n",
       "       1, 1, 0, 0, 0, 0, 0, 0, 0, 1, 0, 1, 1, 1, 1, 1, 0, 1, 0, 1, 1, 0,\n",
       "       0, 0, 1, 1, 0, 1, 1, 1, 1, 1, 0, 1, 0, 0, 1, 0, 0, 0, 1, 0, 0, 0,\n",
       "       1, 1, 0, 0, 0, 0, 0, 1, 1, 0, 0, 1, 0, 1, 0, 0, 0, 1, 0, 1, 1, 1,\n",
       "       0, 1, 0, 0, 0, 1, 0, 1, 1, 1, 1, 0, 1, 1, 0, 1, 1, 0, 0, 0, 1, 0,\n",
       "       1, 1, 0, 0, 0, 0, 1, 1, 0, 0, 1, 1, 0, 0, 0, 1, 0, 0, 0, 0, 1, 1,\n",
       "       1, 1, 0, 0, 0, 0, 1, 1, 1, 0, 0, 0, 0, 1, 1, 1, 1, 1, 1, 1, 1, 1,\n",
       "       0, 1, 1, 1, 0, 1, 0, 1, 0, 1, 1, 1, 0, 1, 1, 1, 0, 0, 1, 1, 1, 0,\n",
       "       0, 0, 1, 1, 1, 0, 0, 1, 1, 0, 1, 1, 1, 0, 1, 0, 0, 0, 0, 1, 1, 0,\n",
       "       1, 0, 1, 1, 0, 0, 0, 0, 0, 0, 1, 1, 0, 1, 0, 1, 1, 1, 0, 0],\n",
       "      dtype=int64)"
      ]
     },
     "execution_count": 79,
     "metadata": {},
     "output_type": "execute_result"
    }
   ],
   "source": [
    "model6.predict(X6_test)"
   ]
  },
  {
   "cell_type": "code",
   "execution_count": 80,
   "id": "1ce637cc",
   "metadata": {
    "colab": {
     "base_uri": "https://localhost:8080/"
    },
    "id": "1ce637cc",
    "outputId": "4d125585-83af-4f62-9fb4-568c69e6f362"
   },
   "outputs": [
    {
     "name": "stdout",
     "output_type": "stream",
     "text": [
      "Score for DE2: 91.70124481327801 %\n"
     ]
    }
   ],
   "source": [
    "print(\"Score for DE2:\", model6.score(X6_test, y6_test)*100,\"%\")"
   ]
  },
  {
   "cell_type": "code",
   "execution_count": 81,
   "id": "3abfbcac",
   "metadata": {
    "id": "3abfbcac"
   },
   "outputs": [],
   "source": [
    "#splitting the dataset into train and test for OE1\n",
    "X7_train, X7_test, y7_train, y7_test = train_test_split(df[['sdur_OE1']], df.pref_OE1, test_size = 0.2)"
   ]
  },
  {
   "cell_type": "code",
   "execution_count": 82,
   "id": "e781365e",
   "metadata": {
    "id": "e781365e"
   },
   "outputs": [],
   "source": [
    "model7 = LogisticRegression()"
   ]
  },
  {
   "cell_type": "code",
   "execution_count": 83,
   "id": "0f1c2a7c",
   "metadata": {
    "colab": {
     "base_uri": "https://localhost:8080/"
    },
    "id": "0f1c2a7c",
    "outputId": "fb931eba-e8b3-4224-9266-a4fb9029fc3e"
   },
   "outputs": [
    {
     "data": {
      "text/plain": [
       "LogisticRegression()"
      ]
     },
     "execution_count": 83,
     "metadata": {},
     "output_type": "execute_result"
    }
   ],
   "source": [
    "#training our ML model\n",
    "model7.fit(X7_train, y7_train)"
   ]
  },
  {
   "cell_type": "code",
   "execution_count": 84,
   "id": "9be9aa87",
   "metadata": {
    "colab": {
     "base_uri": "https://localhost:8080/"
    },
    "id": "9be9aa87",
    "outputId": "f6a4f480-720d-431b-8f46-5a6480733c0c"
   },
   "outputs": [
    {
     "data": {
      "text/plain": [
       "array([1, 0, 1, 1, 1, 1, 0, 0, 1, 1, 1, 1, 1, 1, 0, 1, 0, 1, 1, 1, 0, 1,\n",
       "       1, 1, 0, 1, 1, 0, 1, 1, 0, 1, 1, 1, 0, 1, 1, 0, 1, 1, 0, 1, 0, 1,\n",
       "       1, 1, 1, 0, 0, 1, 0, 0, 1, 1, 1, 0, 1, 1, 1, 1, 0, 1, 0, 0, 1, 1,\n",
       "       0, 0, 1, 0, 1, 0, 0, 0, 1, 1, 1, 0, 0, 0, 1, 0, 1, 1, 1, 1, 1, 1,\n",
       "       1, 0, 0, 0, 1, 0, 0, 0, 0, 0, 1, 0, 0, 0, 1, 0, 0, 1, 1, 1, 0, 0,\n",
       "       1, 0, 1, 1, 0, 1, 1, 0, 1, 1, 0, 0, 1, 1, 1, 0, 0, 1, 0, 0, 1, 1,\n",
       "       0, 0, 0, 1, 1, 0, 1, 1, 1, 1, 1, 1, 1, 1, 0, 1, 0, 0, 1, 0, 0, 0,\n",
       "       0, 0, 1, 1, 0, 0, 1, 0, 1, 1, 0, 1, 0, 0, 1, 1, 1, 0, 1, 1, 1, 0,\n",
       "       1, 0, 0, 1, 1, 0, 0, 0, 1, 1, 1, 0, 1, 1, 0, 1, 0, 1, 1, 0, 0, 0,\n",
       "       1, 0, 1, 0, 0, 1, 0, 1, 0, 0, 1, 0, 1, 1, 1, 1, 1, 1, 1, 0, 1, 0,\n",
       "       0, 1, 0, 1, 0, 1, 1, 1, 0, 1, 1, 0, 1, 0, 1, 0, 1, 1, 1, 1, 1, 1,\n",
       "       0, 1, 1, 0, 1, 0, 0, 1, 1, 1, 1, 1, 1, 1, 1, 1, 1, 0, 1, 1, 1, 1,\n",
       "       1, 0, 0, 1, 1, 1, 0, 1, 0, 1, 1, 1, 0, 0, 1, 1, 1, 0, 1, 1, 0, 1,\n",
       "       0, 0, 1, 0, 1, 1, 1, 0, 0, 1, 0, 1, 0, 0, 0, 0, 1, 0, 1, 1, 1, 0,\n",
       "       1, 0, 1, 0, 0, 0, 1, 1, 0, 1, 0, 1, 1, 1, 1, 1, 0, 1, 1, 1, 0, 1,\n",
       "       1, 0, 1, 0, 1, 1, 0, 0, 1, 1, 0, 1, 1, 1, 0, 0, 0, 0, 1, 0, 1, 1,\n",
       "       1, 0, 0, 0, 1, 1, 0, 0, 1, 0, 1, 0, 1, 0, 1, 0, 1, 1, 0, 1, 1, 1,\n",
       "       1, 1, 1, 1, 0, 1, 1, 0, 0, 0, 1, 1, 1, 1, 1, 1, 0, 0, 0, 1, 1, 1,\n",
       "       0, 1, 1, 0, 1, 0, 1, 1, 0, 1, 0, 1, 0, 1, 0, 0, 0, 1, 1, 0, 0, 1,\n",
       "       0, 1, 1, 0, 0, 0, 0, 0, 0, 1, 0, 0, 0, 1, 1, 1, 1, 1, 1, 1, 0, 1,\n",
       "       0, 1, 1, 0, 0, 0, 1, 1, 1, 1, 1, 0, 1, 0, 1, 0, 0, 0, 0, 0, 1, 1,\n",
       "       1, 1, 0, 1, 1, 1, 1, 0, 1, 0, 0, 0, 1, 1, 1, 1, 0, 1, 1, 0],\n",
       "      dtype=int64)"
      ]
     },
     "execution_count": 84,
     "metadata": {},
     "output_type": "execute_result"
    }
   ],
   "source": [
    "model7.predict(X7_test)"
   ]
  },
  {
   "cell_type": "code",
   "execution_count": 85,
   "id": "df810319",
   "metadata": {
    "colab": {
     "base_uri": "https://localhost:8080/"
    },
    "id": "df810319",
    "outputId": "61dd7f50-8f7a-4d02-be6c-9006e7bec00f"
   },
   "outputs": [
    {
     "name": "stdout",
     "output_type": "stream",
     "text": [
      "Score for OE1: 92.11618257261411 %\n"
     ]
    }
   ],
   "source": [
    "print(\"Score for OE1:\", model7.score(X7_test, y7_test)*100,\"%\")"
   ]
  },
  {
   "cell_type": "code",
   "execution_count": 86,
   "id": "f6c528c9",
   "metadata": {
    "colab": {
     "base_uri": "https://localhost:8080/",
     "height": 350
    },
    "id": "f6c528c9",
    "outputId": "10147245-0876-446c-ea45-a864d3f0952c"
   },
   "outputs": [
    {
     "data": {
      "image/png": "[encoded data removed]",
      "text/plain": [
       "<Figure size 1000x500 with 1 Axes>"
      ]
     },
     "metadata": {},
     "output_type": "display_data"
    }
   ],
   "source": [
    "#plotting model scores\n",
    "\n",
    "data = {'C1':model1.score(X1_test, y1_test)*100,\n",
    "        'C2':model2.score(X2_test, y2_test)*100,\n",
    "        'C3':model3.score(X3_test, y3_test)*100,\n",
    "        'DE1':model4.score(X4_test, y4_test)*100,\n",
    "        'DE2':model5.score(X5_test, y5_test)*100,\n",
    "        'DE3':model6.score(X6_test, y6_test)*100,\n",
    "        'OE1':model7.score(X7_test, y7_test)*100}\n",
    "\n",
    "keyy = list(data.keys())\n",
    "val = list(data.values())\n",
    "  \n",
    "fig = plt.figure(figsize = (10, 5))\n",
    " \n",
    "# creating the bar plot\n",
    "plt.bar(keyy, val,\n",
    "        color=['blue', 'cyan', 'blue', 'cyan', 'blue', 'cyan', 'blue'],\n",
    "        width = 0.4)\n",
    " \n",
    "plt.xlabel(\"Subjects\")\n",
    "plt.ylabel(\"Model Score (in %)\")\n",
    "plt.title(\"Logistic Regression Model Scores (in %)\")\n",
    "plt.show()"
   ]
  },
  {
   "cell_type": "code",
   "execution_count": null,
   "id": "8ae4639a",
   "metadata": {},
   "outputs": [],
   "source": []
  },
  {
   "cell_type": "code",
   "execution_count": null,
   "id": "0e866e4c",
   "metadata": {},
   "outputs": [],
   "source": []
  }
 ],
 "metadata": {
  "colab": {
   "collapsed_sections": [],
   "name": "minor_EC3082.ipynb",
   "provenance": []
  },
  "kernelspec": {
   "display_name": "Python 3 (ipykernel)",
   "language": "python",
   "name": "python3"
  },
  "language_info": {
   "codemirror_mode": {
    "name": "ipython",
    "version": 3
   },
   "file_extension": ".py",
   "mimetype": "text/x-python",
   "name": "python",
   "nbconvert_exporter": "python",
   "pygments_lexer": "ipython3",
   "version": "3.9.4"
  }
 },
 "nbformat": 4,
 "nbformat_minor": 5
}
